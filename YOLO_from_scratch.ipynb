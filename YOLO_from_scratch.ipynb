{
  "nbformat": 4,
  "nbformat_minor": 0,
  "metadata": {
    "colab": {
      "name": "YOLO_from_scratch.ipynb",
      "provenance": [],
      "collapsed_sections": []
    },
    "kernelspec": {
      "display_name": "Python 3",
      "name": "python3"
    }
  },
  "cells": [
    {
      "cell_type": "markdown",
      "metadata": {
        "id": "E9rILqDyHvZ-"
      },
      "source": [
        "**Model**"
      ]
    },
    {
      "cell_type": "code",
      "metadata": {
        "id": "aMNEa5VYHjSL"
      },
      "source": [
        "import torch\r\n",
        "import torch.nn as nn\r\n"
      ],
      "execution_count": null,
      "outputs": []
    },
    {
      "cell_type": "code",
      "metadata": {
        "id": "X_bdi06eJLA_"
      },
      "source": [
        "architecture_config = [\r\n",
        "    (7, 64, 2, 3),\r\n",
        "    \"M\",\r\n",
        "    (3, 192, 1, 1),\r\n",
        "    \"M\",\r\n",
        "    (1, 128, 1, 0),\r\n",
        "    (3, 256, 1, 1),\r\n",
        "    (1, 256, 1, 0),\r\n",
        "    (3, 512, 1, 1),\r\n",
        "    \"M\",\r\n",
        "    [(1, 256, 1, 0), (3, 512, 1, 1), 4],\r\n",
        "    (1, 512, 1, 0),\r\n",
        "    (3, 1024, 1, 1),\r\n",
        "    \"M\",\r\n",
        "    [(1, 512, 1, 0), (3, 1024, 1, 1), 2],\r\n",
        "    (3, 1024, 1, 1),\r\n",
        "    (3, 1024, 2, 1),\r\n",
        "    (3, 1024, 1, 1),\r\n",
        "    (3, 1024, 1, 1),\r\n",
        "]"
      ],
      "execution_count": null,
      "outputs": []
    },
    {
      "cell_type": "code",
      "metadata": {
        "id": "b0D7HjI4L-fv"
      },
      "source": [
        "class CNNBlock(nn.Module):\r\n",
        "  def __init__(self, in_channels, out_channels, **kwargs):\r\n",
        "    super(CNNBlock, self).__init__()\r\n",
        "    self.conv = nn.Conv2d(in_channels, out_channels, bias=False, **kwargs)\r\n",
        "    self.batchnorm = nn.BatchNorm2d(out_channels)\r\n",
        "    self.leakyrelu = nn.LeakyReLU(0.1)\r\n",
        "\r\n",
        "  def forward(self, x):\r\n",
        "    return self.leakyrelu(self.batchnorm(self.conv(x)))"
      ],
      "execution_count": null,
      "outputs": []
    },
    {
      "cell_type": "code",
      "metadata": {
        "id": "KqgGsPNcORx_"
      },
      "source": [
        "class Yolov1(nn.Module):\r\n",
        "  def __init__(self, in_channels=3, **kwargs):\r\n",
        "    super(Yolov1, self).__init__()\r\n",
        "    self.architecture = architecture_config\r\n",
        "    self.in_channels = in_channels\r\n",
        "    self.darknet = self._create_conv_layers(self.architecture)\r\n",
        "    self.fcs = self._create_fcs(**kwargs)\r\n",
        "  \r\n",
        "  def forward(self, x):\r\n",
        "    x = self.darknet(x)\r\n",
        "    return self.fcs(torch.flatten(x, start_dim=1))\r\n",
        "\r\n",
        "\r\n",
        "  def _create_conv_layers(self, architecture):\r\n",
        "\r\n",
        "\r\n",
        "\r\n",
        "    layers = []\r\n",
        "    in_channels = self.in_channels\r\n",
        "\r\n",
        "    for x in architecture:\r\n",
        "\r\n",
        "\r\n",
        "\r\n",
        "      if type(x) == tuple:\r\n",
        "\r\n",
        "\r\n",
        "        layers += [\r\n",
        "                    CNNBlock(\r\n",
        "                        in_channels, x[1], kernel_size=x[0], stride=x[2], padding=x[3],\r\n",
        "                    )\r\n",
        "                ]\r\n",
        "        in_channels = x[1]\r\n",
        "\r\n",
        "      elif type(x) == str:\r\n",
        "\r\n",
        "\r\n",
        "\r\n",
        "        layers += [nn.MaxPool2d(kernel_size=(2, 2), stride=(2, 2))]\r\n",
        "\r\n",
        "      elif type(x) == list:\r\n",
        "\r\n",
        "        conv1 = x[0]\r\n",
        "        conv2 = x[1]\r\n",
        "        num_repeats = x[2]\r\n",
        "\r\n",
        "        for _ in range(num_repeats):\r\n",
        "\r\n",
        "\r\n",
        "          layers += [\r\n",
        "                        CNNBlock(\r\n",
        "                            in_channels,\r\n",
        "                            conv1[1],\r\n",
        "                            kernel_size=conv1[0],\r\n",
        "                            stride=conv1[2],\r\n",
        "                            padding=conv1[3],\r\n",
        "                        )\r\n",
        "                    ]\r\n",
        "          layers += [\r\n",
        "                        CNNBlock(\r\n",
        "                            conv1[1],\r\n",
        "                            conv2[1],\r\n",
        "                            kernel_size=conv2[0],\r\n",
        "                            stride=conv2[2],\r\n",
        "                            padding=conv2[3],\r\n",
        "                        )\r\n",
        "                    ]\r\n",
        "          in_channels = conv2[1]\r\n",
        "\r\n",
        "    return nn.Sequential(*layers)\r\n",
        "\r\n",
        "\r\n",
        "  def _create_fcs(self, split_size, num_boxes, num_classes):\r\n",
        "\r\n",
        "\r\n",
        "    S, B, C = split_size, num_boxes, num_classes\r\n",
        "\r\n",
        "        \r\n",
        "    return nn.Sequential(\r\n",
        "            nn.Flatten(),\r\n",
        "            nn.Linear(1024*S*S, 4096),\r\n",
        "            nn.LeakyReLU(0.1),\r\n",
        "            nn.Linear(4096, S * S * (C + B * 5))\r\n",
        "        )   \r\n",
        "\r\n"
      ],
      "execution_count": null,
      "outputs": []
    },
    {
      "cell_type": "code",
      "metadata": {
        "id": "_UFHAxCojay4"
      },
      "source": [
        "import numpy as np\r\n",
        "import matplotlib.pyplot as plt\r\n",
        "import matplotlib.patches as patches\r\n",
        "from collections import Counter\r\n",
        "\r\n",
        "def intersection_over_union(boxes_preds, boxes_labels, box_format=\"midpoint\"):\r\n",
        "    \"\"\"\r\n",
        "    Calculates intersection over union\r\n",
        "    Parameters:\r\n",
        "        boxes_preds (tensor): Predictions of Bounding Boxes (BATCH_SIZE, 4)\r\n",
        "        boxes_labels (tensor): Correct labels of Bounding Boxes (BATCH_SIZE, 4)\r\n",
        "        box_format (str): midpoint/corners, if boxes (x,y,w,h) or (x1,y1,x2,y2)\r\n",
        "    Returns:\r\n",
        "        tensor: Intersection over union for all examples\r\n",
        "    \"\"\"\r\n",
        "\r\n",
        "    if box_format == \"midpoint\":\r\n",
        "        box1_x1 = boxes_preds[..., 0:1] - boxes_preds[..., 2:3] / 2\r\n",
        "        box1_y1 = boxes_preds[..., 1:2] - boxes_preds[..., 3:4] / 2\r\n",
        "        box1_x2 = boxes_preds[..., 0:1] + boxes_preds[..., 2:3] / 2\r\n",
        "        box1_y2 = boxes_preds[..., 1:2] + boxes_preds[..., 3:4] / 2\r\n",
        "        box2_x1 = boxes_labels[..., 0:1] - boxes_labels[..., 2:3] / 2\r\n",
        "        box2_y1 = boxes_labels[..., 1:2] - boxes_labels[..., 3:4] / 2\r\n",
        "        box2_x2 = boxes_labels[..., 0:1] + boxes_labels[..., 2:3] / 2\r\n",
        "        box2_y2 = boxes_labels[..., 1:2] + boxes_labels[..., 3:4] / 2\r\n",
        "\r\n",
        "    if box_format == \"corners\":\r\n",
        "        box1_x1 = boxes_preds[..., 0:1]\r\n",
        "        box1_y1 = boxes_preds[..., 1:2]\r\n",
        "        box1_x2 = boxes_preds[..., 2:3]\r\n",
        "        box1_y2 = boxes_preds[..., 3:4]  # (N, 1)\r\n",
        "        box2_x1 = boxes_labels[..., 0:1]\r\n",
        "        box2_y1 = boxes_labels[..., 1:2]\r\n",
        "        box2_x2 = boxes_labels[..., 2:3]\r\n",
        "        box2_y2 = boxes_labels[..., 3:4]\r\n",
        "\r\n",
        "    x1 = torch.max(box1_x1, box2_x1)\r\n",
        "    y1 = torch.max(box1_y1, box2_y1)\r\n",
        "    x2 = torch.min(box1_x2, box2_x2)\r\n",
        "    y2 = torch.min(box1_y2, box2_y2)\r\n",
        "\r\n",
        "    # .clamp(0) is for the case when they do not intersect\r\n",
        "    intersection = (x2 - x1).clamp(0) * (y2 - y1).clamp(0)\r\n",
        "\r\n",
        "    box1_area = abs((box1_x2 - box1_x1) * (box1_y2 - box1_y1))\r\n",
        "    box2_area = abs((box2_x2 - box2_x1) * (box2_y2 - box2_y1))\r\n",
        "\r\n",
        "    return intersection / (box1_area + box2_area - intersection + 1e-6)\r\n",
        "\r\n",
        "\r\n",
        "def non_max_suppression(bboxes, iou_threshold, threshold, box_format=\"corners\"):\r\n",
        "    \"\"\"\r\n",
        "    Does Non Max Suppression given bboxes\r\n",
        "    Parameters:\r\n",
        "        bboxes (list): list of lists containing all bboxes with each bboxes\r\n",
        "        specified as [class_pred, prob_score, x1, y1, x2, y2]\r\n",
        "        iou_threshold (float): threshold where predicted bboxes is correct\r\n",
        "        threshold (float): threshold to remove predicted bboxes (independent of IoU) \r\n",
        "        box_format (str): \"midpoint\" or \"corners\" used to specify bboxes\r\n",
        "    Returns:\r\n",
        "        list: bboxes after performing NMS given a specific IoU threshold\r\n",
        "    \"\"\"\r\n",
        "\r\n",
        "    assert type(bboxes) == list\r\n",
        "\r\n",
        "    bboxes = [box for box in bboxes if box[1] > threshold]\r\n",
        "    bboxes = sorted(bboxes, key=lambda x: x[1], reverse=True)\r\n",
        "    bboxes_after_nms = []\r\n",
        "\r\n",
        "    while bboxes:\r\n",
        "        chosen_box = bboxes.pop(0)\r\n",
        "\r\n",
        "        bboxes = [\r\n",
        "            box\r\n",
        "            for box in bboxes\r\n",
        "            if box[0] != chosen_box[0]\r\n",
        "            or intersection_over_union(\r\n",
        "                torch.tensor(chosen_box[2:]),\r\n",
        "                torch.tensor(box[2:]),\r\n",
        "                box_format=box_format,\r\n",
        "            )\r\n",
        "            < iou_threshold\r\n",
        "        ]\r\n",
        "\r\n",
        "        bboxes_after_nms.append(chosen_box)\r\n",
        "\r\n",
        "    return bboxes_after_nms\r\n",
        "\r\n",
        "\r\n",
        "def mean_average_precision(\r\n",
        "    pred_boxes, true_boxes, iou_threshold=0.5, box_format=\"midpoint\", num_classes=20\r\n",
        "):\r\n",
        "    \"\"\"\r\n",
        "    Calculates mean average precision \r\n",
        "    Parameters:\r\n",
        "        pred_boxes (list): list of lists containing all bboxes with each bboxes\r\n",
        "        specified as [train_idx, class_prediction, prob_score, x1, y1, x2, y2]\r\n",
        "        true_boxes (list): Similar as pred_boxes except all the correct ones \r\n",
        "        iou_threshold (float): threshold where predicted bboxes is correct\r\n",
        "        box_format (str): \"midpoint\" or \"corners\" used to specify bboxes\r\n",
        "        num_classes (int): number of classes\r\n",
        "    Returns:\r\n",
        "        float: mAP value across all classes given a specific IoU threshold \r\n",
        "    \"\"\"\r\n",
        "\r\n",
        "    # list storing all AP for respective classes\r\n",
        "    average_precisions = []\r\n",
        "\r\n",
        "    # used for numerical stability later on\r\n",
        "    epsilon = 1e-6\r\n",
        "\r\n",
        "    for c in range(num_classes):\r\n",
        "        detections = []\r\n",
        "        ground_truths = []\r\n",
        "\r\n",
        "        # Go through all predictions and targets,\r\n",
        "        # and only add the ones that belong to the\r\n",
        "        # current class c\r\n",
        "        for detection in pred_boxes:\r\n",
        "            if detection[1] == c:\r\n",
        "                detections.append(detection)\r\n",
        "\r\n",
        "        for true_box in true_boxes:\r\n",
        "            if true_box[1] == c:\r\n",
        "                ground_truths.append(true_box)\r\n",
        "\r\n",
        "        # find the amount of bboxes for each training example\r\n",
        "        # Counter here finds how many ground truth bboxes we get\r\n",
        "        # for each training example, so let's say img 0 has 3,\r\n",
        "        # img 1 has 5 then we will obtain a dictionary with:\r\n",
        "        # amount_bboxes = {0:3, 1:5}\r\n",
        "        amount_bboxes = Counter([gt[0] for gt in ground_truths])\r\n",
        "\r\n",
        "        # We then go through each key, val in this dictionary\r\n",
        "        # and convert to the following (w.r.t same example):\r\n",
        "        # ammount_bboxes = {0:torch.tensor[0,0,0], 1:torch.tensor[0,0,0,0,0]}\r\n",
        "        for key, val in amount_bboxes.items():\r\n",
        "            amount_bboxes[key] = torch.zeros(val)\r\n",
        "\r\n",
        "        # sort by box probabilities which is index 2\r\n",
        "        detections.sort(key=lambda x: x[2], reverse=True)\r\n",
        "        TP = torch.zeros((len(detections)))\r\n",
        "        FP = torch.zeros((len(detections)))\r\n",
        "        total_true_bboxes = len(ground_truths)\r\n",
        "        \r\n",
        "        # If none exists for this class then we can safely skip\r\n",
        "        if total_true_bboxes == 0:\r\n",
        "            continue\r\n",
        "\r\n",
        "        for detection_idx, detection in enumerate(detections):\r\n",
        "            # Only take out the ground_truths that have the same\r\n",
        "            # training idx as detection\r\n",
        "            ground_truth_img = [\r\n",
        "                bbox for bbox in ground_truths if bbox[0] == detection[0]\r\n",
        "            ]\r\n",
        "\r\n",
        "            num_gts = len(ground_truth_img)\r\n",
        "            best_iou = 0\r\n",
        "\r\n",
        "            for idx, gt in enumerate(ground_truth_img):\r\n",
        "                iou = intersection_over_union(\r\n",
        "                    torch.tensor(detection[3:]),\r\n",
        "                    torch.tensor(gt[3:]),\r\n",
        "                    box_format=box_format,\r\n",
        "                )\r\n",
        "\r\n",
        "                if iou > best_iou:\r\n",
        "                    best_iou = iou\r\n",
        "                    best_gt_idx = idx\r\n",
        "\r\n",
        "            if best_iou > iou_threshold:\r\n",
        "                # only detect ground truth detection once\r\n",
        "                if amount_bboxes[detection[0]][best_gt_idx] == 0:\r\n",
        "                    # true positive and add this bounding box to seen\r\n",
        "                    TP[detection_idx] = 1\r\n",
        "                    amount_bboxes[detection[0]][best_gt_idx] = 1\r\n",
        "                else:\r\n",
        "                    FP[detection_idx] = 1\r\n",
        "\r\n",
        "            # if IOU is lower then the detection is a false positive\r\n",
        "            else:\r\n",
        "                FP[detection_idx] = 1\r\n",
        "\r\n",
        "        TP_cumsum = torch.cumsum(TP, dim=0)\r\n",
        "        FP_cumsum = torch.cumsum(FP, dim=0)\r\n",
        "        recalls = TP_cumsum / (total_true_bboxes + epsilon)\r\n",
        "        precisions = torch.divide(TP_cumsum, (TP_cumsum + FP_cumsum + epsilon))\r\n",
        "        precisions = torch.cat((torch.tensor([1]), precisions))\r\n",
        "        recalls = torch.cat((torch.tensor([0]), recalls))\r\n",
        "        # torch.trapz for numerical integration\r\n",
        "        average_precisions.append(torch.trapz(precisions, recalls))\r\n",
        "\r\n",
        "    return sum(average_precisions) / len(average_precisions)\r\n",
        "\r\n",
        "\r\n",
        "def plot_image(image, boxes):\r\n",
        "    \"\"\"Plots predicted bounding boxes on the image\"\"\"\r\n",
        "    im = np.array(image)\r\n",
        "    height, width, _ = im.shape\r\n",
        "\r\n",
        "    # Create figure and axes\r\n",
        "    fig, ax = plt.subplots(1)\r\n",
        "    # Display the image\r\n",
        "    ax.imshow(im)\r\n",
        "\r\n",
        "    # box[0] is x midpoint, box[2] is width\r\n",
        "    # box[1] is y midpoint, box[3] is height\r\n",
        "\r\n",
        "    # Create a Rectangle potch\r\n",
        "    for box in boxes:\r\n",
        "        box = box[2:]\r\n",
        "        assert len(box) == 4, \"Got more values than in x, y, w, h, in a box!\"\r\n",
        "        upper_left_x = box[0] - box[2] / 2\r\n",
        "        upper_left_y = box[1] - box[3] / 2\r\n",
        "        rect = patches.Rectangle(\r\n",
        "            (upper_left_x * width, upper_left_y * height),\r\n",
        "            box[2] * width,\r\n",
        "            box[3] * height,\r\n",
        "            linewidth=1,\r\n",
        "            edgecolor=\"r\",\r\n",
        "            facecolor=\"none\",\r\n",
        "        )\r\n",
        "        # Add the patch to the Axes\r\n",
        "        ax.add_patch(rect)\r\n",
        "\r\n",
        "    plt.show()\r\n",
        "\r\n",
        "def get_bboxes(\r\n",
        "    loader,\r\n",
        "    model,\r\n",
        "    iou_threshold,\r\n",
        "    threshold,\r\n",
        "    pred_format=\"cells\",\r\n",
        "    box_format=\"midpoint\",\r\n",
        "    device=\"cuda\",\r\n",
        "):\r\n",
        "    all_pred_boxes = []\r\n",
        "    all_true_boxes = []\r\n",
        "\r\n",
        "    # make sure model is in eval before get bboxes\r\n",
        "    model.eval()\r\n",
        "    train_idx = 0\r\n",
        "\r\n",
        "    for batch_idx, (x, labels) in enumerate(loader):\r\n",
        "        x = x.to(device)\r\n",
        "        labels = labels.to(device)\r\n",
        "\r\n",
        "        with torch.no_grad():\r\n",
        "            predictions = model(x)\r\n",
        "\r\n",
        "        batch_size = x.shape[0]\r\n",
        "        true_bboxes = cellboxes_to_boxes(labels)\r\n",
        "        bboxes = cellboxes_to_boxes(predictions)\r\n",
        "\r\n",
        "        for idx in range(batch_size):\r\n",
        "            nms_boxes = non_max_suppression(\r\n",
        "                bboxes[idx],\r\n",
        "                iou_threshold=iou_threshold,\r\n",
        "                threshold=threshold,\r\n",
        "                box_format=box_format,\r\n",
        "            )\r\n",
        "\r\n",
        "\r\n",
        "            #if batch_idx == 0 and idx == 0:\r\n",
        "            #    plot_image(x[idx].permute(1,2,0).to(\"cpu\"), nms_boxes)\r\n",
        "            #    print(nms_boxes)\r\n",
        "\r\n",
        "            for nms_box in nms_boxes:\r\n",
        "                all_pred_boxes.append([train_idx] + nms_box)\r\n",
        "\r\n",
        "            for box in true_bboxes[idx]:\r\n",
        "                # many will get converted to 0 pred\r\n",
        "                if box[1] > threshold:\r\n",
        "                    all_true_boxes.append([train_idx] + box)\r\n",
        "\r\n",
        "            train_idx += 1\r\n",
        "\r\n",
        "    model.train()\r\n",
        "    return all_pred_boxes, all_true_boxes\r\n",
        "\r\n",
        "\r\n",
        "\r\n",
        "def convert_cellboxes(predictions, S=7):\r\n",
        "    \"\"\"\r\n",
        "    Converts bounding boxes output from Yolo with\r\n",
        "    an image split size of S into entire image ratios\r\n",
        "    rather than relative to cell ratios. Tried to do this\r\n",
        "    vectorized, but this resulted in quite difficult to read\r\n",
        "    code... Use as a black box? Or implement a more intuitive,\r\n",
        "    using 2 for loops iterating range(S) and convert them one\r\n",
        "    by one, resulting in a slower but more readable implementation.\r\n",
        "    \"\"\"\r\n",
        "\r\n",
        "    predictions = predictions.to(\"cpu\")\r\n",
        "    batch_size = predictions.shape[0]\r\n",
        "    predictions = predictions.reshape(batch_size, 7, 7, 12)\r\n",
        "    bboxes1 = predictions[..., 3:7]\r\n",
        "    bboxes2 = predictions[..., 8:12]\r\n",
        "    scores = torch.cat(\r\n",
        "        (predictions[..., 2].unsqueeze(0), predictions[..., 7].unsqueeze(0)), dim=0\r\n",
        "    )\r\n",
        "    best_box = scores.argmax(0).unsqueeze(-1)\r\n",
        "    best_boxes = bboxes1 * (1 - best_box) + best_box * bboxes2\r\n",
        "    cell_indices = torch.arange(7).repeat(batch_size, 7, 1).unsqueeze(-1)\r\n",
        "    x = 1 / S * (best_boxes[..., :1] + cell_indices)\r\n",
        "    y = 1 / S * (best_boxes[..., 1:2] + cell_indices.permute(0, 2, 1, 3))\r\n",
        "    w_y = 1 / S * best_boxes[..., 2:4]\r\n",
        "    converted_bboxes = torch.cat((x, y, w_y), dim=-1)\r\n",
        "    predicted_class = predictions[..., :2].argmax(-1).unsqueeze(-1)\r\n",
        "    best_confidence = torch.max(predictions[..., 2], predictions[..., 7]).unsqueeze(\r\n",
        "        -1\r\n",
        "    )\r\n",
        "    converted_preds = torch.cat(\r\n",
        "        (predicted_class, best_confidence, converted_bboxes), dim=-1\r\n",
        "    )\r\n",
        "\r\n",
        "    return converted_preds\r\n",
        "\r\n",
        "\r\n",
        "def cellboxes_to_boxes(out, S=7):\r\n",
        "    converted_pred = convert_cellboxes(out).reshape(out.shape[0], S * S, -1)\r\n",
        "    converted_pred[..., 0] = converted_pred[..., 0].long()\r\n",
        "    all_bboxes = []\r\n",
        "\r\n",
        "    for ex_idx in range(out.shape[0]):\r\n",
        "        bboxes = []\r\n",
        "\r\n",
        "        for bbox_idx in range(S * S):\r\n",
        "            bboxes.append([x.item() for x in converted_pred[ex_idx, bbox_idx, :]])\r\n",
        "        all_bboxes.append(bboxes)\r\n",
        "\r\n",
        "    return all_bboxes\r\n",
        "\r\n",
        "def save_checkpoint(state, filename=\"my_checkpoint.pth.tar\"):\r\n",
        "    print(\"=> Saving checkpoint\")\r\n",
        "    torch.save(state, filename)\r\n",
        "\r\n",
        "\r\n",
        "def load_checkpoint(checkpoint, model, optimizer):\r\n",
        "    print(\"=> Loading checkpoint\")\r\n",
        "    model.load_state_dict(checkpoint[\"state_dict\"])\r\n",
        "    optimizer.load_state_dict(checkpoint[\"optimizer\"])\r\n"
      ],
      "execution_count": null,
      "outputs": []
    },
    {
      "cell_type": "markdown",
      "metadata": {
        "id": "SCwDNxUx8K_0"
      },
      "source": [
        " **Loss function**"
      ]
    },
    {
      "cell_type": "code",
      "metadata": {
        "id": "zx-jnIAWo9Nd"
      },
      "source": [
        "\"\"\"\r\n",
        "Implementation of Yolo Loss Function from the original yolo paper\r\n",
        "\"\"\"\r\n",
        "\r\n",
        "\r\n",
        "class YoloLoss(nn.Module):\r\n",
        "\r\n",
        "    \"\"\"\r\n",
        "    Calculate the loss for yolo (v1) model\r\n",
        "    \"\"\"\r\n",
        "\r\n",
        "    def __init__(self, S=7, B=2, C=2):\r\n",
        "        super(YoloLoss, self).__init__()\r\n",
        "        self.mse = nn.MSELoss(reduction=\"sum\")\r\n",
        "\r\n",
        "        \"\"\"\r\n",
        "        S is split size of image (in paper 7),\r\n",
        "        B is number of boxes (in paper 2),\r\n",
        "        C is number of classes (in paper and VOC dataset is 20),\r\n",
        "        \"\"\"\r\n",
        "        self.S = S\r\n",
        "        self.B = B\r\n",
        "        self.C = C\r\n",
        "\r\n",
        "        # These are from Yolo paper, signifying how much we should\r\n",
        "        # pay loss for no object (noobj) and the box coordinates (coord)\r\n",
        "        self.lambda_noobj = 0.5\r\n",
        "        self.lambda_coord = 5\r\n",
        "\r\n",
        "    def forward(self, predictions, target):\r\n",
        "        # predictions are shaped (BATCH_SIZE, S*S(C+B*5) when inputted\r\n",
        "        predictions = predictions.reshape(-1, self.S, self.S, self.C + self.B * 5)\r\n",
        "\r\n",
        "        # Calculate IoU for the two predicted bounding boxes with target bbox\r\n",
        "        iou_b1 = intersection_over_union(predictions[..., 3:7], target[..., 3:7])\r\n",
        "        iou_b2 = intersection_over_union(predictions[..., 8:12], target[..., 3:7])\r\n",
        "        ious = torch.cat([iou_b1.unsqueeze(0), iou_b2.unsqueeze(0)], dim=0)\r\n",
        "\r\n",
        "        # Take the box with highest IoU out of the two prediction\r\n",
        "        # Note that bestbox will be indices of 0, 1 for which bbox was best\r\n",
        "        iou_maxes, bestbox = torch.max(ious, dim=0)\r\n",
        "        exists_box = target[..., 2].unsqueeze(3)  # in paper this is Iobj_i\r\n",
        "\r\n",
        "        # ======================== #\r\n",
        "        #   FOR BOX COORDINATES    #\r\n",
        "        # ======================== #\r\n",
        "\r\n",
        "        # Set boxes with no object in them to 0. We only take out one of the two \r\n",
        "        # predictions, which is the one with highest Iou calculated previously.\r\n",
        "        box_predictions = exists_box * (\r\n",
        "            (\r\n",
        "                bestbox * predictions[..., 8:12]\r\n",
        "                + (1 - bestbox) * predictions[..., 3:7]\r\n",
        "            )\r\n",
        "        )\r\n",
        "\r\n",
        "        box_targets = exists_box * target[..., 3:7]\r\n",
        "\r\n",
        "        # Take sqrt of width, height of boxes to ensure that\r\n",
        "        box_predictions[..., 2:4] = torch.sign(box_predictions[..., 2:4]) * torch.sqrt(\r\n",
        "            torch.abs(box_predictions[..., 2:4] + 1e-6)\r\n",
        "        )\r\n",
        "        box_targets[..., 2:4] = torch.sqrt(box_targets[..., 2:4])\r\n",
        "\r\n",
        "        box_loss = self.mse(\r\n",
        "            torch.flatten(box_predictions, end_dim=-2),\r\n",
        "            torch.flatten(box_targets, end_dim=-2),\r\n",
        "        )\r\n",
        "\r\n",
        "        # ==================== #\r\n",
        "        #   FOR OBJECT LOSS    #\r\n",
        "        # ==================== #\r\n",
        "\r\n",
        "        # pred_box is the confidence score for the bbox with highest IoU\r\n",
        "        pred_box = (\r\n",
        "            bestbox * predictions[..., 7:8] + (1 - bestbox) * predictions[..., 2:3]\r\n",
        "        )\r\n",
        "\r\n",
        "        object_loss = self.mse(\r\n",
        "            torch.flatten(exists_box * pred_box),\r\n",
        "            torch.flatten(exists_box * target[..., 2:3]),\r\n",
        "        )\r\n",
        "\r\n",
        "        # ======================= #\r\n",
        "        #   FOR NO OBJECT LOSS    #\r\n",
        "        # ======================= #\r\n",
        "\r\n",
        "        #max_no_obj = torch.max(predictions[..., 20:21], predictions[..., 25:26])\r\n",
        "        #no_object_loss = self.mse(\r\n",
        "        #    torch.flatten((1 - exists_box) * max_no_obj, start_dim=1),\r\n",
        "        #    torch.flatten((1 - exists_box) * target[..., 20:21], start_dim=1),\r\n",
        "        #)\r\n",
        "\r\n",
        "        no_object_loss = self.mse(\r\n",
        "            torch.flatten((1 - exists_box) * predictions[..., 2:3], start_dim=1),\r\n",
        "            torch.flatten((1 - exists_box) * target[..., 2:3], start_dim=1),\r\n",
        "        )\r\n",
        "\r\n",
        "        no_object_loss += self.mse(\r\n",
        "            torch.flatten((1 - exists_box) * predictions[..., 7:8], start_dim=1),\r\n",
        "            torch.flatten((1 - exists_box) * target[..., 2:3], start_dim=1)\r\n",
        "        )\r\n",
        "\r\n",
        "        # ================== #\r\n",
        "        #   FOR CLASS LOSS   #\r\n",
        "        # ================== #\r\n",
        "\r\n",
        "        class_loss = self.mse(\r\n",
        "            torch.flatten(exists_box * predictions[..., :2], end_dim=-2,),\r\n",
        "            torch.flatten(exists_box * target[..., :2], end_dim=-2,),\r\n",
        "        )\r\n",
        "\r\n",
        "        loss = (\r\n",
        "            self.lambda_coord * box_loss  # first two rows in paper\r\n",
        "            + object_loss  # third row in paper\r\n",
        "            + self.lambda_noobj * no_object_loss  # forth row\r\n",
        "            + class_loss  # fifth row\r\n",
        "        )\r\n",
        "\r\n",
        "        return loss"
      ],
      "execution_count": null,
      "outputs": []
    },
    {
      "cell_type": "markdown",
      "metadata": {
        "id": "n7w2-k_11YVC"
      },
      "source": [
        "**Dataset and preprocessing**"
      ]
    },
    {
      "cell_type": "code",
      "metadata": {
        "id": "vkSLvycLscbx",
        "colab": {
          "base_uri": "https://localhost:8080/"
        },
        "outputId": "9adf6340-5a48-4ec5-d217-0ad6812396ca"
      },
      "source": [
        "!curl -L https://public.roboflow.com/ds/5QIG6hj1Dj?key=VBa7foLKMr | jar -x"
      ],
      "execution_count": null,
      "outputs": [
        {
          "output_type": "stream",
          "text": [
            "  % Total    % Received % Xferd  Average Speed   Time    Time     Time  Current\n",
            "                                 Dload  Upload   Total   Spent    Left  Speed\n",
            "100   890  100   890    0     0   1089      0 --:--:-- --:--:-- --:--:--  1088\n",
            "100 18.5M  100 18.5M    0     0  16.4M      0  0:00:01  0:00:01 --:--:-- 16.4M\n"
          ],
          "name": "stdout"
        }
      ]
    },
    {
      "cell_type": "code",
      "metadata": {
        "id": "BkpfwKupciak",
        "colab": {
          "base_uri": "https://localhost:8080/"
        },
        "outputId": "b563de6d-6ac5-4349-ca14-4fa9d5b66c66"
      },
      "source": [
        "%cd train\r\n",
        "%mkdir images\r\n",
        "%mkdir labels "
      ],
      "execution_count": null,
      "outputs": [
        {
          "output_type": "stream",
          "text": [
            "/content/train\n"
          ],
          "name": "stdout"
        }
      ]
    },
    {
      "cell_type": "code",
      "metadata": {
        "id": "Ctv3RfCZJdgO"
      },
      "source": [
        "%mv *.jpg ./images/\r\n",
        "%mv *.txt ./labels/"
      ],
      "execution_count": null,
      "outputs": []
    },
    {
      "cell_type": "code",
      "metadata": {
        "id": "z7FHkBWjKFUC"
      },
      "source": [
        "import os\r\n",
        "import csv\r\n",
        "import numpy as np\r\n",
        "rows = []\r\n",
        "for root, dirs, files in os.walk(\"./images/\"):\r\n",
        "    for filename in files:\r\n",
        "     f = os.path.splitext(filename)\r\n",
        "     s = str(f[0])+\".jpg\"\r\n",
        "     l = str(f[0])+\".txt\"\r\n",
        "     rows.append((s,l))\r\n",
        "     \r\n",
        "\r\n",
        "with open('valid.csv', 'w') as f:\r\n",
        "   writer = csv.writer(f)\r\n",
        "   writer.writerows(rows)\r\n",
        "  \r\n"
      ],
      "execution_count": null,
      "outputs": []
    },
    {
      "cell_type": "code",
      "metadata": {
        "colab": {
          "base_uri": "https://localhost:8080/"
        },
        "id": "5Oy47ZdX6snu",
        "outputId": "97d2445c-aa57-43c3-e031-ebf70ce26360"
      },
      "source": [
        "%cd /content/valid\r\n",
        "%mkdir images\r\n",
        "%mkdir labels "
      ],
      "execution_count": null,
      "outputs": [
        {
          "output_type": "stream",
          "text": [
            "/content/valid\n"
          ],
          "name": "stdout"
        }
      ]
    },
    {
      "cell_type": "code",
      "metadata": {
        "id": "M_zs_dHy6-To"
      },
      "source": [
        "%mv *.jpg ./images/\r\n",
        "%mv *.txt ./labels/"
      ],
      "execution_count": null,
      "outputs": []
    },
    {
      "cell_type": "code",
      "metadata": {
        "id": "Bh5m1Brl8V98"
      },
      "source": [
        "%mv ./images/*.jpg /content/train/images/\r\n",
        "%mv ./labels/*.txt /content/train/labels/"
      ],
      "execution_count": null,
      "outputs": []
    },
    {
      "cell_type": "code",
      "metadata": {
        "id": "Y9fZaRzR81GE"
      },
      "source": [
        "%mv valid.csv /content/train/"
      ],
      "execution_count": null,
      "outputs": []
    },
    {
      "cell_type": "markdown",
      "metadata": {
        "id": "OmZwCk1vKLBh"
      },
      "source": [
        "**Dataset**"
      ]
    },
    {
      "cell_type": "code",
      "metadata": {
        "id": "-k-hxjbGpoIu"
      },
      "source": [
        "import os\r\n",
        "import pandas as pd\r\n",
        "from PIL import Image\r\n",
        "\r\n",
        "\r\n",
        "class Dataset(torch.utils.data.Dataset):\r\n",
        "    def __init__(\r\n",
        "        self, csv_file, img_dir, label_dir, S=7, B=2, C=2, transform=None,\r\n",
        "    ):\r\n",
        "        self.annotations = pd.read_csv(csv_file)\r\n",
        "        self.img_dir = img_dir\r\n",
        "        self.label_dir = label_dir\r\n",
        "        self.transform = transform\r\n",
        "        self.S = S\r\n",
        "        self.B = B\r\n",
        "        self.C = C\r\n",
        "\r\n",
        "    def __len__(self):\r\n",
        "        return len(self.annotations)\r\n",
        "\r\n",
        "    def __getitem__(self, index):\r\n",
        "        label_path = os.path.join(self.label_dir, self.annotations.iloc[index, 1])\r\n",
        "        boxes = []\r\n",
        "        with open(label_path) as f:\r\n",
        "            for label in f.readlines():\r\n",
        "                class_label, x, y, width, height = [\r\n",
        "                    float(x) if float(x) != int(float(x)) else int(x)\r\n",
        "                    for x in label.replace(\"\\n\", \"\").split()\r\n",
        "                ]\r\n",
        "\r\n",
        "                boxes.append([class_label, x, y, width, height])\r\n",
        "\r\n",
        "        img_path = os.path.join(self.img_dir, self.annotations.iloc[index, 0])\r\n",
        "        image = Image.open(img_path)\r\n",
        "        boxes = torch.tensor(boxes)\r\n",
        "\r\n",
        "        if self.transform:\r\n",
        "            # image = self.transform(image)\r\n",
        "            image, boxes = self.transform(image, boxes)\r\n",
        "\r\n",
        "        # Convert To Cells\r\n",
        "        label_matrix = torch.zeros((self.S, self.S, self.C + 5 * self.B))\r\n",
        "        for box in boxes:\r\n",
        "            class_label, x, y, width, height = box.tolist()\r\n",
        "            class_label = int(class_label)\r\n",
        "\r\n",
        "            # i,j represents the cell row and cell column\r\n",
        "            i, j = int(self.S * y), int(self.S * x)\r\n",
        "            x_cell, y_cell = self.S * x - j, self.S * y - i\r\n",
        "\r\n",
        "            \"\"\"\r\n",
        "            Calculating the width and height of cell of bounding box,\r\n",
        "            relative to the cell is done by the following, with\r\n",
        "            width as the example:\r\n",
        "            \r\n",
        "            width_pixels = (width*self.image_width)\r\n",
        "            cell_pixels = (self.image_width)\r\n",
        "            \r\n",
        "            Then to find the width relative to the cell is simply:\r\n",
        "            width_pixels/cell_pixels, simplification leads to the\r\n",
        "            formulas below.\r\n",
        "            \"\"\"\r\n",
        "            width_cell, height_cell = (\r\n",
        "                width * self.S,\r\n",
        "                height * self.S,\r\n",
        "            )\r\n",
        "\r\n",
        "            # If no object already found for specific cell i,j\r\n",
        "            # Note: This means we restrict to ONE object\r\n",
        "            # per cell!\r\n",
        "            if label_matrix[i, j, 2] == 0:\r\n",
        "                # Set that there exists an object\r\n",
        "                label_matrix[i, j, 2] = 1\r\n",
        "\r\n",
        "                # Box coordinates\r\n",
        "                box_coordinates = torch.tensor(\r\n",
        "                    [x_cell, y_cell, width_cell, height_cell]\r\n",
        "                )\r\n",
        "\r\n",
        "                label_matrix[i, j, 3:7] = box_coordinates\r\n",
        "\r\n",
        "                # Set one hot encoding for class_label\r\n",
        "                label_matrix[i, j, class_label] = 1\r\n",
        "\r\n",
        "        return image, label_matrix"
      ],
      "execution_count": null,
      "outputs": []
    },
    {
      "cell_type": "markdown",
      "metadata": {
        "id": "mQn9AJxnLofM"
      },
      "source": [
        "**train**"
      ]
    },
    {
      "cell_type": "code",
      "metadata": {
        "colab": {
          "base_uri": "https://localhost:8080/"
        },
        "id": "WolbX4GqLWuz",
        "outputId": "7fdcdd2c-08eb-43db-f4ba-65186c72e89c"
      },
      "source": [
        "import torchvision.transforms as transforms\r\n",
        "import torch.optim as optim\r\n",
        "import torchvision.transforms.functional as FT\r\n",
        "from tqdm import tqdm\r\n",
        "from torch.utils.data import DataLoader\r\n",
        "\r\n",
        "seed = 123\r\n",
        "torch.manual_seed(seed)\r\n",
        "\r\n",
        "# Hyperparameters etc. \r\n",
        "LEARNING_RATE = 2e-5\r\n",
        "DEVICE = \"cuda\" if torch.cuda.is_available else \"cpu\"\r\n",
        "BATCH_SIZE = 16 # 64 in original paper but I don't have that much vram, grad accum?\r\n",
        "WEIGHT_DECAY = 5e-6\r\n",
        "EPOCHS = 1000\r\n",
        "NUM_WORKERS = 2\r\n",
        "PIN_MEMORY = True\r\n",
        "SAVE_MODEL = True\r\n",
        "LOAD_MODEL = False\r\n",
        "LOAD_MODEL_FILE = \"300_checkpoint.pth.tar\"\r\n",
        "IMG_DIR = \"/content/train/images\"\r\n",
        "LABEL_DIR = \"/content/train/labels\"\r\n",
        "\r\n",
        "\r\n",
        "class Compose(object):\r\n",
        "    def __init__(self, transforms):\r\n",
        "        self.transforms = transforms\r\n",
        "\r\n",
        "    def __call__(self, img, bboxes):\r\n",
        "        for t in self.transforms:\r\n",
        "            img, bboxes = t(img), bboxes\r\n",
        "\r\n",
        "        return img, bboxes\r\n",
        "\r\n",
        "\r\n",
        "transform = Compose([transforms.Resize((448, 448)), transforms.ToTensor(),])\r\n",
        "\r\n",
        "\r\n",
        "def train_fn(train_loader, model, optimizer, loss_fn):\r\n",
        "    loop = tqdm(train_loader, leave=True)\r\n",
        "    mean_loss = []\r\n",
        "\r\n",
        "    for batch_idx, (x, y) in enumerate(loop):\r\n",
        "        x, y = x.to(DEVICE), y.to(DEVICE)\r\n",
        "        out = model(x)\r\n",
        "        loss = loss_fn(out, y)\r\n",
        "        mean_loss.append(loss.item())\r\n",
        "        optimizer.zero_grad()\r\n",
        "        loss.backward()\r\n",
        "        optimizer.step()\r\n",
        "\r\n",
        "        # update progress bar\r\n",
        "        loop.set_postfix(loss=loss.item())\r\n",
        "\r\n",
        "    print(f\"Mean loss was {sum(mean_loss)/len(mean_loss)}\")\r\n",
        "\r\n",
        "\r\n",
        "def main():\r\n",
        "    model = Yolov1(split_size=7, num_boxes=2, num_classes=2).to(DEVICE)\r\n",
        "    optimizer = optim.Adam(\r\n",
        "        model.parameters(), lr=LEARNING_RATE, weight_decay=WEIGHT_DECAY\r\n",
        "    )\r\n",
        "    loss_fn = YoloLoss()\r\n",
        "\r\n",
        "    if LOAD_MODEL:\r\n",
        "        load_checkpoint(torch.load(LOAD_MODEL_FILE), model, optimizer)\r\n",
        "\r\n",
        "    train_dataset = Dataset(\r\n",
        "        \"/content/train/train.csv\",\r\n",
        "        transform=transform,\r\n",
        "        img_dir=IMG_DIR,\r\n",
        "        label_dir=LABEL_DIR,\r\n",
        "    )\r\n",
        "    test_dataset = Dataset(\r\n",
        "        \"/content/train/valid.csv\", transform=transform, img_dir=IMG_DIR, label_dir=LABEL_DIR,\r\n",
        "    )\r\n",
        "\r\n",
        "    train_loader = DataLoader(\r\n",
        "        dataset=train_dataset,\r\n",
        "        batch_size=BATCH_SIZE,\r\n",
        "        num_workers=NUM_WORKERS,\r\n",
        "        pin_memory=PIN_MEMORY,\r\n",
        "        shuffle=True,\r\n",
        "        drop_last=False,\r\n",
        "    )\r\n",
        "\r\n",
        "    test_loader = DataLoader(\r\n",
        "        dataset=test_dataset,\r\n",
        "        batch_size=BATCH_SIZE,\r\n",
        "        num_workers=NUM_WORKERS,\r\n",
        "        pin_memory=PIN_MEMORY,\r\n",
        "        shuffle=True,\r\n",
        "        drop_last=False,\r\n",
        "    )\r\n",
        "\r\n",
        "    for epoch in range(EPOCHS+1):\r\n",
        "        # for x, y in train_loader:\r\n",
        "        #    x = x.to(DEVICE)\r\n",
        "        #    for idx in range(8):\r\n",
        "        #        bboxes = cellboxes_to_boxes(model(x))\r\n",
        "        #        bboxes = non_max_suppression(bboxes[idx], iou_threshold=0.5, threshold=0.4, box_format=\"midpoint\")\r\n",
        "        #        plot_image(x[idx].permute(1,2,0).to(\"cpu\"), bboxes)\r\n",
        "\r\n",
        "        #    import sys\r\n",
        "        #    sys.exit()\r\n",
        "        print('Epoch {}/{}'.format(epoch + 1, EPOCHS))\r\n",
        "\r\n",
        "        pred_boxes, target_boxes = get_bboxes(\r\n",
        "            test_loader, model, iou_threshold=0.5, threshold=0.4\r\n",
        "        )\r\n",
        "\r\n",
        "        mean_avg_prec = mean_average_precision(\r\n",
        "            pred_boxes, target_boxes, iou_threshold=0.5, box_format=\"midpoint\"\r\n",
        "        )\r\n",
        "        print(f\"Test mAP: {mean_avg_prec}\")\r\n",
        "\r\n",
        "        if SAVE_MODEL and epoch % 100 ==0:\r\n",
        "\r\n",
        "            checkpoint = {\r\n",
        "                \"state_dict\": model.state_dict(),\r\n",
        "                \"optimizer\": optimizer.state_dict(),\r\n",
        "            }\r\n",
        "            filename = \"{}_checkpoint.pth.tar\".format(epoch)\r\n",
        "            save_checkpoint(checkpoint, filename=filename)\r\n",
        "        #    import time\r\n",
        "        #    time.sleep(10)\r\n",
        "\r\n",
        "        train_fn(train_loader, model, optimizer, loss_fn)\r\n",
        "      \r\n",
        "   \r\n",
        "      \r\n",
        "     \r\n",
        "\r\n",
        "if __name__ == \"__main__\":\r\n",
        "    main()\r\n"
      ],
      "execution_count": null,
      "outputs": [
        {
          "output_type": "stream",
          "text": [
            "Epoch 1/1000\n",
            "Test mAP: 0.0\n",
            "=> Saving checkpoint\n"
          ],
          "name": "stdout"
        },
        {
          "output_type": "stream",
          "text": [
            "100%|██████████| 7/7 [00:04<00:00,  1.67it/s, loss=241]"
          ],
          "name": "stderr"
        },
        {
          "output_type": "stream",
          "text": [
            "Mean loss was 656.3917345319476\n",
            "Epoch 2/1000\n"
          ],
          "name": "stdout"
        },
        {
          "output_type": "stream",
          "text": [
            "\n",
            "  0%|          | 0/7 [00:00<?, ?it/s]"
          ],
          "name": "stderr"
        },
        {
          "output_type": "stream",
          "text": [
            "Test mAP: 0.0\n"
          ],
          "name": "stdout"
        },
        {
          "output_type": "stream",
          "text": [
            "100%|██████████| 7/7 [00:03<00:00,  1.76it/s, loss=129]"
          ],
          "name": "stderr"
        },
        {
          "output_type": "stream",
          "text": [
            "Mean loss was 396.8721378871373\n",
            "Epoch 3/1000\n"
          ],
          "name": "stdout"
        },
        {
          "output_type": "stream",
          "text": [
            "\n",
            "  0%|          | 0/7 [00:00<?, ?it/s]"
          ],
          "name": "stderr"
        },
        {
          "output_type": "stream",
          "text": [
            "Test mAP: 0.0\n"
          ],
          "name": "stdout"
        },
        {
          "output_type": "stream",
          "text": [
            "100%|██████████| 7/7 [00:04<00:00,  1.72it/s, loss=80.3]"
          ],
          "name": "stderr"
        },
        {
          "output_type": "stream",
          "text": [
            "Mean loss was 304.4187000819615\n",
            "Epoch 4/1000\n"
          ],
          "name": "stdout"
        },
        {
          "output_type": "stream",
          "text": [
            "\n",
            "  0%|          | 0/7 [00:00<?, ?it/s]"
          ],
          "name": "stderr"
        },
        {
          "output_type": "stream",
          "text": [
            "Test mAP: 0.0\n"
          ],
          "name": "stdout"
        },
        {
          "output_type": "stream",
          "text": [
            "100%|██████████| 7/7 [00:04<00:00,  1.67it/s, loss=130]"
          ],
          "name": "stderr"
        },
        {
          "output_type": "stream",
          "text": [
            "Mean loss was 218.3314928327288\n",
            "Epoch 5/1000\n"
          ],
          "name": "stdout"
        },
        {
          "output_type": "stream",
          "text": [
            "\n",
            "  0%|          | 0/7 [00:00<?, ?it/s]"
          ],
          "name": "stderr"
        },
        {
          "output_type": "stream",
          "text": [
            "Test mAP: 6.645401299465448e-05\n"
          ],
          "name": "stdout"
        },
        {
          "output_type": "stream",
          "text": [
            "100%|██████████| 7/7 [00:03<00:00,  1.80it/s, loss=169]"
          ],
          "name": "stderr"
        },
        {
          "output_type": "stream",
          "text": [
            "Mean loss was 180.9380841936384\n",
            "Epoch 6/1000\n"
          ],
          "name": "stdout"
        },
        {
          "output_type": "stream",
          "text": [
            "\n",
            "  0%|          | 0/7 [00:00<?, ?it/s]"
          ],
          "name": "stderr"
        },
        {
          "output_type": "stream",
          "text": [
            "Test mAP: 7.290577923413366e-05\n"
          ],
          "name": "stdout"
        },
        {
          "output_type": "stream",
          "text": [
            "100%|██████████| 7/7 [00:04<00:00,  1.71it/s, loss=84.3]"
          ],
          "name": "stderr"
        },
        {
          "output_type": "stream",
          "text": [
            "Mean loss was 145.19387272426061\n",
            "Epoch 7/1000\n"
          ],
          "name": "stdout"
        },
        {
          "output_type": "stream",
          "text": [
            "\n",
            "  0%|          | 0/7 [00:00<?, ?it/s]"
          ],
          "name": "stderr"
        },
        {
          "output_type": "stream",
          "text": [
            "Test mAP: 0.003187895752489567\n"
          ],
          "name": "stdout"
        },
        {
          "output_type": "stream",
          "text": [
            "100%|██████████| 7/7 [00:03<00:00,  1.76it/s, loss=56.2]"
          ],
          "name": "stderr"
        },
        {
          "output_type": "stream",
          "text": [
            "Mean loss was 139.5645375932966\n",
            "Epoch 8/1000\n"
          ],
          "name": "stdout"
        },
        {
          "output_type": "stream",
          "text": [
            "\n",
            "  0%|          | 0/7 [00:00<?, ?it/s]"
          ],
          "name": "stderr"
        },
        {
          "output_type": "stream",
          "text": [
            "Test mAP: 0.0007294484530575573\n"
          ],
          "name": "stdout"
        },
        {
          "output_type": "stream",
          "text": [
            "100%|██████████| 7/7 [00:04<00:00,  1.75it/s, loss=53.3]"
          ],
          "name": "stderr"
        },
        {
          "output_type": "stream",
          "text": [
            "Mean loss was 117.9653685433524\n",
            "Epoch 9/1000\n"
          ],
          "name": "stdout"
        },
        {
          "output_type": "stream",
          "text": [
            "\n",
            "  0%|          | 0/7 [00:00<?, ?it/s]"
          ],
          "name": "stderr"
        },
        {
          "output_type": "stream",
          "text": [
            "Test mAP: 0.0002980512217618525\n"
          ],
          "name": "stdout"
        },
        {
          "output_type": "stream",
          "text": [
            "100%|██████████| 7/7 [00:03<00:00,  1.76it/s, loss=46.4]"
          ],
          "name": "stderr"
        },
        {
          "output_type": "stream",
          "text": [
            "Mean loss was 102.86384909493583\n",
            "Epoch 10/1000\n"
          ],
          "name": "stdout"
        },
        {
          "output_type": "stream",
          "text": [
            "\n",
            "  0%|          | 0/7 [00:00<?, ?it/s]"
          ],
          "name": "stderr"
        },
        {
          "output_type": "stream",
          "text": [
            "Test mAP: 0.0001154201163444668\n"
          ],
          "name": "stdout"
        },
        {
          "output_type": "stream",
          "text": [
            "100%|██████████| 7/7 [00:03<00:00,  1.79it/s, loss=55.8]"
          ],
          "name": "stderr"
        },
        {
          "output_type": "stream",
          "text": [
            "Mean loss was 87.88059180123466\n",
            "Epoch 11/1000\n"
          ],
          "name": "stdout"
        },
        {
          "output_type": "stream",
          "text": [
            "\n",
            "  0%|          | 0/7 [00:00<?, ?it/s]"
          ],
          "name": "stderr"
        },
        {
          "output_type": "stream",
          "text": [
            "Test mAP: 0.00483500212430954\n"
          ],
          "name": "stdout"
        },
        {
          "output_type": "stream",
          "text": [
            "100%|██████████| 7/7 [00:04<00:00,  1.73it/s, loss=63.4]"
          ],
          "name": "stderr"
        },
        {
          "output_type": "stream",
          "text": [
            "Mean loss was 82.78392519269671\n",
            "Epoch 12/1000\n"
          ],
          "name": "stdout"
        },
        {
          "output_type": "stream",
          "text": [
            "\n",
            "  0%|          | 0/7 [00:00<?, ?it/s]"
          ],
          "name": "stderr"
        },
        {
          "output_type": "stream",
          "text": [
            "Test mAP: 0.0012041903100907803\n"
          ],
          "name": "stdout"
        },
        {
          "output_type": "stream",
          "text": [
            "100%|██████████| 7/7 [00:04<00:00,  1.71it/s, loss=72.4]"
          ],
          "name": "stderr"
        },
        {
          "output_type": "stream",
          "text": [
            "Mean loss was 81.64991433279855\n",
            "Epoch 13/1000\n"
          ],
          "name": "stdout"
        },
        {
          "output_type": "stream",
          "text": [
            "\n",
            "  0%|          | 0/7 [00:00<?, ?it/s]"
          ],
          "name": "stderr"
        },
        {
          "output_type": "stream",
          "text": [
            "Test mAP: 4.9840513383969665e-05\n"
          ],
          "name": "stdout"
        },
        {
          "output_type": "stream",
          "text": [
            "100%|██████████| 7/7 [00:04<00:00,  1.71it/s, loss=88.1]"
          ],
          "name": "stderr"
        },
        {
          "output_type": "stream",
          "text": [
            "Mean loss was 71.10494668143136\n",
            "Epoch 14/1000\n"
          ],
          "name": "stdout"
        },
        {
          "output_type": "stream",
          "text": [
            "\n",
            "  0%|          | 0/7 [00:00<?, ?it/s]"
          ],
          "name": "stderr"
        },
        {
          "output_type": "stream",
          "text": [
            "Test mAP: 0.006736354902386665\n"
          ],
          "name": "stdout"
        },
        {
          "output_type": "stream",
          "text": [
            "100%|██████████| 7/7 [00:04<00:00,  1.68it/s, loss=31.6]"
          ],
          "name": "stderr"
        },
        {
          "output_type": "stream",
          "text": [
            "Mean loss was 56.33812877110073\n",
            "Epoch 15/1000\n"
          ],
          "name": "stdout"
        },
        {
          "output_type": "stream",
          "text": [
            "\n",
            "  0%|          | 0/7 [00:00<?, ?it/s]"
          ],
          "name": "stderr"
        },
        {
          "output_type": "stream",
          "text": [
            "Test mAP: 0.00014585230383090675\n"
          ],
          "name": "stdout"
        },
        {
          "output_type": "stream",
          "text": [
            "100%|██████████| 7/7 [00:04<00:00,  1.74it/s, loss=31.8]"
          ],
          "name": "stderr"
        },
        {
          "output_type": "stream",
          "text": [
            "Mean loss was 49.75133378165109\n",
            "Epoch 16/1000\n"
          ],
          "name": "stdout"
        },
        {
          "output_type": "stream",
          "text": [
            "\n",
            "  0%|          | 0/7 [00:00<?, ?it/s]"
          ],
          "name": "stderr"
        },
        {
          "output_type": "stream",
          "text": [
            "Test mAP: 0.0005397435743361712\n"
          ],
          "name": "stdout"
        },
        {
          "output_type": "stream",
          "text": [
            "100%|██████████| 7/7 [00:04<00:00,  1.66it/s, loss=22.3]"
          ],
          "name": "stderr"
        },
        {
          "output_type": "stream",
          "text": [
            "Mean loss was 55.14805957249233\n",
            "Epoch 17/1000\n"
          ],
          "name": "stdout"
        },
        {
          "output_type": "stream",
          "text": [
            "\n",
            "  0%|          | 0/7 [00:00<?, ?it/s]"
          ],
          "name": "stderr"
        },
        {
          "output_type": "stream",
          "text": [
            "Test mAP: 0.0019625695422291756\n"
          ],
          "name": "stdout"
        },
        {
          "output_type": "stream",
          "text": [
            "100%|██████████| 7/7 [00:04<00:00,  1.67it/s, loss=23.1]"
          ],
          "name": "stderr"
        },
        {
          "output_type": "stream",
          "text": [
            "Mean loss was 50.23477472577776\n",
            "Epoch 18/1000\n"
          ],
          "name": "stdout"
        },
        {
          "output_type": "stream",
          "text": [
            "\n",
            "  0%|          | 0/7 [00:00<?, ?it/s]"
          ],
          "name": "stderr"
        },
        {
          "output_type": "stream",
          "text": [
            "Test mAP: 0.0007219865801744163\n"
          ],
          "name": "stdout"
        },
        {
          "output_type": "stream",
          "text": [
            "100%|██████████| 7/7 [00:04<00:00,  1.67it/s, loss=21.9]"
          ],
          "name": "stderr"
        },
        {
          "output_type": "stream",
          "text": [
            "Mean loss was 43.44592939104353\n",
            "Epoch 19/1000\n"
          ],
          "name": "stdout"
        },
        {
          "output_type": "stream",
          "text": [
            "\n",
            "  0%|          | 0/7 [00:00<?, ?it/s]"
          ],
          "name": "stderr"
        },
        {
          "output_type": "stream",
          "text": [
            "Test mAP: 0.00461358530446887\n"
          ],
          "name": "stdout"
        },
        {
          "output_type": "stream",
          "text": [
            "100%|██████████| 7/7 [00:04<00:00,  1.74it/s, loss=39.1]"
          ],
          "name": "stderr"
        },
        {
          "output_type": "stream",
          "text": [
            "Mean loss was 47.607117244175505\n",
            "Epoch 20/1000\n"
          ],
          "name": "stdout"
        },
        {
          "output_type": "stream",
          "text": [
            "\n",
            "  0%|          | 0/7 [00:00<?, ?it/s]"
          ],
          "name": "stderr"
        },
        {
          "output_type": "stream",
          "text": [
            "Test mAP: 0.003919364884495735\n"
          ],
          "name": "stdout"
        },
        {
          "output_type": "stream",
          "text": [
            "100%|██████████| 7/7 [00:04<00:00,  1.68it/s, loss=30.5]"
          ],
          "name": "stderr"
        },
        {
          "output_type": "stream",
          "text": [
            "Mean loss was 45.581764221191406\n",
            "Epoch 21/1000\n"
          ],
          "name": "stdout"
        },
        {
          "output_type": "stream",
          "text": [
            "\n",
            "  0%|          | 0/7 [00:00<?, ?it/s]"
          ],
          "name": "stderr"
        },
        {
          "output_type": "stream",
          "text": [
            "Test mAP: 0.002553371014073491\n"
          ],
          "name": "stdout"
        },
        {
          "output_type": "stream",
          "text": [
            "100%|██████████| 7/7 [00:04<00:00,  1.70it/s, loss=29.8]"
          ],
          "name": "stderr"
        },
        {
          "output_type": "stream",
          "text": [
            "Mean loss was 44.62445994785854\n",
            "Epoch 22/1000\n"
          ],
          "name": "stdout"
        },
        {
          "output_type": "stream",
          "text": [
            "\n",
            "  0%|          | 0/7 [00:00<?, ?it/s]"
          ],
          "name": "stderr"
        },
        {
          "output_type": "stream",
          "text": [
            "Test mAP: 0.0012444795574992895\n"
          ],
          "name": "stdout"
        },
        {
          "output_type": "stream",
          "text": [
            "100%|██████████| 7/7 [00:03<00:00,  1.83it/s, loss=35.3]"
          ],
          "name": "stderr"
        },
        {
          "output_type": "stream",
          "text": [
            "Mean loss was 46.817113058907644\n",
            "Epoch 23/1000\n"
          ],
          "name": "stdout"
        },
        {
          "output_type": "stream",
          "text": [
            "\n",
            "  0%|          | 0/7 [00:00<?, ?it/s]"
          ],
          "name": "stderr"
        },
        {
          "output_type": "stream",
          "text": [
            "Test mAP: 0.0037172953598201275\n"
          ],
          "name": "stdout"
        },
        {
          "output_type": "stream",
          "text": [
            "100%|██████████| 7/7 [00:04<00:00,  1.70it/s, loss=16.7]"
          ],
          "name": "stderr"
        },
        {
          "output_type": "stream",
          "text": [
            "Mean loss was 43.678850991385325\n",
            "Epoch 24/1000\n"
          ],
          "name": "stdout"
        },
        {
          "output_type": "stream",
          "text": [
            "\n",
            "  0%|          | 0/7 [00:00<?, ?it/s]"
          ],
          "name": "stderr"
        },
        {
          "output_type": "stream",
          "text": [
            "Test mAP: 0.00967088807374239\n"
          ],
          "name": "stdout"
        },
        {
          "output_type": "stream",
          "text": [
            "100%|██████████| 7/7 [00:04<00:00,  1.73it/s, loss=18.4]"
          ],
          "name": "stderr"
        },
        {
          "output_type": "stream",
          "text": [
            "Mean loss was 53.506482533046174\n",
            "Epoch 25/1000\n"
          ],
          "name": "stdout"
        },
        {
          "output_type": "stream",
          "text": [
            "\n",
            "  0%|          | 0/7 [00:00<?, ?it/s]"
          ],
          "name": "stderr"
        },
        {
          "output_type": "stream",
          "text": [
            "Test mAP: 0.0007107015699148178\n"
          ],
          "name": "stdout"
        },
        {
          "output_type": "stream",
          "text": [
            "100%|██████████| 7/7 [00:04<00:00,  1.74it/s, loss=22.7]"
          ],
          "name": "stderr"
        },
        {
          "output_type": "stream",
          "text": [
            "Mean loss was 45.89607701982771\n",
            "Epoch 26/1000\n"
          ],
          "name": "stdout"
        },
        {
          "output_type": "stream",
          "text": [
            "\n",
            "  0%|          | 0/7 [00:00<?, ?it/s]"
          ],
          "name": "stderr"
        },
        {
          "output_type": "stream",
          "text": [
            "Test mAP: 0.0003701898385770619\n"
          ],
          "name": "stdout"
        },
        {
          "output_type": "stream",
          "text": [
            "100%|██████████| 7/7 [00:03<00:00,  1.86it/s, loss=30.6]"
          ],
          "name": "stderr"
        },
        {
          "output_type": "stream",
          "text": [
            "Mean loss was 44.79916000366211\n",
            "Epoch 27/1000\n"
          ],
          "name": "stdout"
        },
        {
          "output_type": "stream",
          "text": [
            "\n",
            "  0%|          | 0/7 [00:00<?, ?it/s]"
          ],
          "name": "stderr"
        },
        {
          "output_type": "stream",
          "text": [
            "Test mAP: 0.009437731467187405\n"
          ],
          "name": "stdout"
        },
        {
          "output_type": "stream",
          "text": [
            "100%|██████████| 7/7 [00:04<00:00,  1.70it/s, loss=23.1]"
          ],
          "name": "stderr"
        },
        {
          "output_type": "stream",
          "text": [
            "Mean loss was 40.195875712803435\n",
            "Epoch 28/1000\n"
          ],
          "name": "stdout"
        },
        {
          "output_type": "stream",
          "text": [
            "\n",
            "  0%|          | 0/7 [00:00<?, ?it/s]"
          ],
          "name": "stderr"
        },
        {
          "output_type": "stream",
          "text": [
            "Test mAP: 0.0043823570013046265\n"
          ],
          "name": "stdout"
        },
        {
          "output_type": "stream",
          "text": [
            "100%|██████████| 7/7 [00:04<00:00,  1.72it/s, loss=66.6]"
          ],
          "name": "stderr"
        },
        {
          "output_type": "stream",
          "text": [
            "Mean loss was 49.288553782871794\n",
            "Epoch 29/1000\n"
          ],
          "name": "stdout"
        },
        {
          "output_type": "stream",
          "text": [
            "\n",
            "  0%|          | 0/7 [00:00<?, ?it/s]"
          ],
          "name": "stderr"
        },
        {
          "output_type": "stream",
          "text": [
            "Test mAP: 0.0025083408690989017\n"
          ],
          "name": "stdout"
        },
        {
          "output_type": "stream",
          "text": [
            "100%|██████████| 7/7 [00:03<00:00,  1.83it/s, loss=24.6]"
          ],
          "name": "stderr"
        },
        {
          "output_type": "stream",
          "text": [
            "Mean loss was 38.98348426818848\n",
            "Epoch 30/1000\n"
          ],
          "name": "stdout"
        },
        {
          "output_type": "stream",
          "text": [
            "\n",
            "  0%|          | 0/7 [00:00<?, ?it/s]"
          ],
          "name": "stderr"
        },
        {
          "output_type": "stream",
          "text": [
            "Test mAP: 0.0021686749532818794\n"
          ],
          "name": "stdout"
        },
        {
          "output_type": "stream",
          "text": [
            "100%|██████████| 7/7 [00:03<00:00,  1.80it/s, loss=24.5]"
          ],
          "name": "stderr"
        },
        {
          "output_type": "stream",
          "text": [
            "Mean loss was 37.278998783656526\n",
            "Epoch 31/1000\n"
          ],
          "name": "stdout"
        },
        {
          "output_type": "stream",
          "text": [
            "\n",
            "  0%|          | 0/7 [00:00<?, ?it/s]"
          ],
          "name": "stderr"
        },
        {
          "output_type": "stream",
          "text": [
            "Test mAP: 0.005041609518229961\n"
          ],
          "name": "stdout"
        },
        {
          "output_type": "stream",
          "text": [
            "100%|██████████| 7/7 [00:04<00:00,  1.67it/s, loss=18.3]"
          ],
          "name": "stderr"
        },
        {
          "output_type": "stream",
          "text": [
            "Mean loss was 35.78517150878906\n",
            "Epoch 32/1000\n"
          ],
          "name": "stdout"
        },
        {
          "output_type": "stream",
          "text": [
            "\n",
            "  0%|          | 0/7 [00:00<?, ?it/s]"
          ],
          "name": "stderr"
        },
        {
          "output_type": "stream",
          "text": [
            "Test mAP: 0.004595621954649687\n"
          ],
          "name": "stdout"
        },
        {
          "output_type": "stream",
          "text": [
            "100%|██████████| 7/7 [00:04<00:00,  1.64it/s, loss=18.9]"
          ],
          "name": "stderr"
        },
        {
          "output_type": "stream",
          "text": [
            "Mean loss was 35.582493100847515\n",
            "Epoch 33/1000\n"
          ],
          "name": "stdout"
        },
        {
          "output_type": "stream",
          "text": [
            "\n",
            "  0%|          | 0/7 [00:00<?, ?it/s]"
          ],
          "name": "stderr"
        },
        {
          "output_type": "stream",
          "text": [
            "Test mAP: 0.00517874862998724\n"
          ],
          "name": "stdout"
        },
        {
          "output_type": "stream",
          "text": [
            "100%|██████████| 7/7 [00:04<00:00,  1.71it/s, loss=17.6]"
          ],
          "name": "stderr"
        },
        {
          "output_type": "stream",
          "text": [
            "Mean loss was 32.656349999564036\n",
            "Epoch 34/1000\n"
          ],
          "name": "stdout"
        },
        {
          "output_type": "stream",
          "text": [
            "\n",
            "  0%|          | 0/7 [00:00<?, ?it/s]"
          ],
          "name": "stderr"
        },
        {
          "output_type": "stream",
          "text": [
            "Test mAP: 0.0001814137795008719\n"
          ],
          "name": "stdout"
        },
        {
          "output_type": "stream",
          "text": [
            "100%|██████████| 7/7 [00:03<00:00,  1.81it/s, loss=23.9]"
          ],
          "name": "stderr"
        },
        {
          "output_type": "stream",
          "text": [
            "Mean loss was 32.928013120378765\n",
            "Epoch 35/1000\n"
          ],
          "name": "stdout"
        },
        {
          "output_type": "stream",
          "text": [
            "\n",
            "  0%|          | 0/7 [00:00<?, ?it/s]"
          ],
          "name": "stderr"
        },
        {
          "output_type": "stream",
          "text": [
            "Test mAP: 0.004813560284674168\n"
          ],
          "name": "stdout"
        },
        {
          "output_type": "stream",
          "text": [
            "100%|██████████| 7/7 [00:04<00:00,  1.60it/s, loss=22.2]"
          ],
          "name": "stderr"
        },
        {
          "output_type": "stream",
          "text": [
            "Mean loss was 31.06787899562291\n",
            "Epoch 36/1000\n"
          ],
          "name": "stdout"
        },
        {
          "output_type": "stream",
          "text": [
            "\n",
            "  0%|          | 0/7 [00:00<?, ?it/s]"
          ],
          "name": "stderr"
        },
        {
          "output_type": "stream",
          "text": [
            "Test mAP: 0.004661705810576677\n"
          ],
          "name": "stdout"
        },
        {
          "output_type": "stream",
          "text": [
            "100%|██████████| 7/7 [00:03<00:00,  1.76it/s, loss=14.6]"
          ],
          "name": "stderr"
        },
        {
          "output_type": "stream",
          "text": [
            "Mean loss was 31.38806642804827\n",
            "Epoch 37/1000\n"
          ],
          "name": "stdout"
        },
        {
          "output_type": "stream",
          "text": [
            "\n",
            "  0%|          | 0/7 [00:00<?, ?it/s]"
          ],
          "name": "stderr"
        },
        {
          "output_type": "stream",
          "text": [
            "Test mAP: 0.0026658065617084503\n"
          ],
          "name": "stdout"
        },
        {
          "output_type": "stream",
          "text": [
            "100%|██████████| 7/7 [00:04<00:00,  1.70it/s, loss=33.3]"
          ],
          "name": "stderr"
        },
        {
          "output_type": "stream",
          "text": [
            "Mean loss was 32.61312893458775\n",
            "Epoch 38/1000\n"
          ],
          "name": "stdout"
        },
        {
          "output_type": "stream",
          "text": [
            "\n",
            "  0%|          | 0/7 [00:00<?, ?it/s]"
          ],
          "name": "stderr"
        },
        {
          "output_type": "stream",
          "text": [
            "Test mAP: 0.0008511854102835059\n"
          ],
          "name": "stdout"
        },
        {
          "output_type": "stream",
          "text": [
            "100%|██████████| 7/7 [00:03<00:00,  1.77it/s, loss=24.9]"
          ],
          "name": "stderr"
        },
        {
          "output_type": "stream",
          "text": [
            "Mean loss was 31.83263179234096\n",
            "Epoch 39/1000\n"
          ],
          "name": "stdout"
        },
        {
          "output_type": "stream",
          "text": [
            "\n",
            "  0%|          | 0/7 [00:00<?, ?it/s]"
          ],
          "name": "stderr"
        },
        {
          "output_type": "stream",
          "text": [
            "Test mAP: 0.0012739702360704541\n"
          ],
          "name": "stdout"
        },
        {
          "output_type": "stream",
          "text": [
            "100%|██████████| 7/7 [00:04<00:00,  1.68it/s, loss=19.3]"
          ],
          "name": "stderr"
        },
        {
          "output_type": "stream",
          "text": [
            "Mean loss was 31.94640895298549\n",
            "Epoch 40/1000\n"
          ],
          "name": "stdout"
        },
        {
          "output_type": "stream",
          "text": [
            "\n",
            "  0%|          | 0/7 [00:00<?, ?it/s]"
          ],
          "name": "stderr"
        },
        {
          "output_type": "stream",
          "text": [
            "Test mAP: 0.006539854686707258\n"
          ],
          "name": "stdout"
        },
        {
          "output_type": "stream",
          "text": [
            "100%|██████████| 7/7 [00:03<00:00,  1.81it/s, loss=15.7]"
          ],
          "name": "stderr"
        },
        {
          "output_type": "stream",
          "text": [
            "Mean loss was 34.422106879098074\n",
            "Epoch 41/1000\n"
          ],
          "name": "stdout"
        },
        {
          "output_type": "stream",
          "text": [
            "\n",
            "  0%|          | 0/7 [00:00<?, ?it/s]"
          ],
          "name": "stderr"
        },
        {
          "output_type": "stream",
          "text": [
            "Test mAP: 0.013157887384295464\n"
          ],
          "name": "stdout"
        },
        {
          "output_type": "stream",
          "text": [
            "100%|██████████| 7/7 [00:03<00:00,  1.79it/s, loss=25.4]"
          ],
          "name": "stderr"
        },
        {
          "output_type": "stream",
          "text": [
            "Mean loss was 31.384687696184432\n",
            "Epoch 42/1000\n"
          ],
          "name": "stdout"
        },
        {
          "output_type": "stream",
          "text": [
            "\n",
            "  0%|          | 0/7 [00:00<?, ?it/s]"
          ],
          "name": "stderr"
        },
        {
          "output_type": "stream",
          "text": [
            "Test mAP: 0.007486899383366108\n"
          ],
          "name": "stdout"
        },
        {
          "output_type": "stream",
          "text": [
            "100%|██████████| 7/7 [00:04<00:00,  1.73it/s, loss=19.7]"
          ],
          "name": "stderr"
        },
        {
          "output_type": "stream",
          "text": [
            "Mean loss was 30.608410699026926\n",
            "Epoch 43/1000\n"
          ],
          "name": "stdout"
        },
        {
          "output_type": "stream",
          "text": [
            "\n",
            "  0%|          | 0/7 [00:00<?, ?it/s]"
          ],
          "name": "stderr"
        },
        {
          "output_type": "stream",
          "text": [
            "Test mAP: 0.0007309939246624708\n"
          ],
          "name": "stdout"
        },
        {
          "output_type": "stream",
          "text": [
            "100%|██████████| 7/7 [00:03<00:00,  1.78it/s, loss=12.5]"
          ],
          "name": "stderr"
        },
        {
          "output_type": "stream",
          "text": [
            "Mean loss was 30.428315571376256\n",
            "Epoch 44/1000\n"
          ],
          "name": "stdout"
        },
        {
          "output_type": "stream",
          "text": [
            "\n",
            "  0%|          | 0/7 [00:00<?, ?it/s]"
          ],
          "name": "stderr"
        },
        {
          "output_type": "stream",
          "text": [
            "Test mAP: 0.009394233115017414\n"
          ],
          "name": "stdout"
        },
        {
          "output_type": "stream",
          "text": [
            "100%|██████████| 7/7 [00:03<00:00,  1.83it/s, loss=11.3]"
          ],
          "name": "stderr"
        },
        {
          "output_type": "stream",
          "text": [
            "Mean loss was 26.432756560189382\n",
            "Epoch 45/1000\n"
          ],
          "name": "stdout"
        },
        {
          "output_type": "stream",
          "text": [
            "\n",
            "  0%|          | 0/7 [00:00<?, ?it/s]"
          ],
          "name": "stderr"
        },
        {
          "output_type": "stream",
          "text": [
            "Test mAP: 0.008934136480093002\n"
          ],
          "name": "stdout"
        },
        {
          "output_type": "stream",
          "text": [
            "100%|██████████| 7/7 [00:04<00:00,  1.72it/s, loss=14.3]"
          ],
          "name": "stderr"
        },
        {
          "output_type": "stream",
          "text": [
            "Mean loss was 26.52948202405657\n",
            "Epoch 46/1000\n"
          ],
          "name": "stdout"
        },
        {
          "output_type": "stream",
          "text": [
            "\n",
            "  0%|          | 0/7 [00:00<?, ?it/s]"
          ],
          "name": "stderr"
        },
        {
          "output_type": "stream",
          "text": [
            "Test mAP: 0.005073743872344494\n"
          ],
          "name": "stdout"
        },
        {
          "output_type": "stream",
          "text": [
            "100%|██████████| 7/7 [00:04<00:00,  1.69it/s, loss=16.1]"
          ],
          "name": "stderr"
        },
        {
          "output_type": "stream",
          "text": [
            "Mean loss was 26.207603454589844\n",
            "Epoch 47/1000\n"
          ],
          "name": "stdout"
        },
        {
          "output_type": "stream",
          "text": [
            "\n",
            "  0%|          | 0/7 [00:00<?, ?it/s]"
          ],
          "name": "stderr"
        },
        {
          "output_type": "stream",
          "text": [
            "Test mAP: 0.005215213634073734\n"
          ],
          "name": "stdout"
        },
        {
          "output_type": "stream",
          "text": [
            "100%|██████████| 7/7 [00:04<00:00,  1.71it/s, loss=21.9]"
          ],
          "name": "stderr"
        },
        {
          "output_type": "stream",
          "text": [
            "Mean loss was 24.83820915222168\n",
            "Epoch 48/1000\n"
          ],
          "name": "stdout"
        },
        {
          "output_type": "stream",
          "text": [
            "\n",
            "  0%|          | 0/7 [00:00<?, ?it/s]"
          ],
          "name": "stderr"
        },
        {
          "output_type": "stream",
          "text": [
            "Test mAP: 0.008005770854651928\n"
          ],
          "name": "stdout"
        },
        {
          "output_type": "stream",
          "text": [
            "100%|██████████| 7/7 [00:04<00:00,  1.68it/s, loss=16]"
          ],
          "name": "stderr"
        },
        {
          "output_type": "stream",
          "text": [
            "Mean loss was 28.21828814915248\n",
            "Epoch 49/1000\n"
          ],
          "name": "stdout"
        },
        {
          "output_type": "stream",
          "text": [
            "\n",
            "  0%|          | 0/7 [00:00<?, ?it/s]"
          ],
          "name": "stderr"
        },
        {
          "output_type": "stream",
          "text": [
            "Test mAP: 0.01347396895289421\n"
          ],
          "name": "stdout"
        },
        {
          "output_type": "stream",
          "text": [
            "100%|██████████| 7/7 [00:04<00:00,  1.67it/s, loss=12.5]"
          ],
          "name": "stderr"
        },
        {
          "output_type": "stream",
          "text": [
            "Mean loss was 27.156716755458287\n",
            "Epoch 50/1000\n"
          ],
          "name": "stdout"
        },
        {
          "output_type": "stream",
          "text": [
            "\n",
            "  0%|          | 0/7 [00:00<?, ?it/s]"
          ],
          "name": "stderr"
        },
        {
          "output_type": "stream",
          "text": [
            "Test mAP: 0.013998564332723618\n"
          ],
          "name": "stdout"
        },
        {
          "output_type": "stream",
          "text": [
            "100%|██████████| 7/7 [00:04<00:00,  1.73it/s, loss=21.7]"
          ],
          "name": "stderr"
        },
        {
          "output_type": "stream",
          "text": [
            "Mean loss was 25.92478425162179\n",
            "Epoch 51/1000\n"
          ],
          "name": "stdout"
        },
        {
          "output_type": "stream",
          "text": [
            "\n",
            "  0%|          | 0/7 [00:00<?, ?it/s]"
          ],
          "name": "stderr"
        },
        {
          "output_type": "stream",
          "text": [
            "Test mAP: 0.013157887384295464\n"
          ],
          "name": "stdout"
        },
        {
          "output_type": "stream",
          "text": [
            "100%|██████████| 7/7 [00:04<00:00,  1.69it/s, loss=10.2]"
          ],
          "name": "stderr"
        },
        {
          "output_type": "stream",
          "text": [
            "Mean loss was 23.305846895490372\n",
            "Epoch 52/1000\n"
          ],
          "name": "stdout"
        },
        {
          "output_type": "stream",
          "text": [
            "\n",
            "  0%|          | 0/7 [00:00<?, ?it/s]"
          ],
          "name": "stderr"
        },
        {
          "output_type": "stream",
          "text": [
            "Test mAP: 0.006366596557199955\n"
          ],
          "name": "stdout"
        },
        {
          "output_type": "stream",
          "text": [
            "100%|██████████| 7/7 [00:04<00:00,  1.69it/s, loss=25.9]"
          ],
          "name": "stderr"
        },
        {
          "output_type": "stream",
          "text": [
            "Mean loss was 26.39569936479841\n",
            "Epoch 53/1000\n"
          ],
          "name": "stdout"
        },
        {
          "output_type": "stream",
          "text": [
            "\n",
            "  0%|          | 0/7 [00:00<?, ?it/s]"
          ],
          "name": "stderr"
        },
        {
          "output_type": "stream",
          "text": [
            "Test mAP: 0.0057279677130281925\n"
          ],
          "name": "stdout"
        },
        {
          "output_type": "stream",
          "text": [
            "100%|██████████| 7/7 [00:04<00:00,  1.73it/s, loss=13.6]"
          ],
          "name": "stderr"
        },
        {
          "output_type": "stream",
          "text": [
            "Mean loss was 25.595276423863\n",
            "Epoch 54/1000\n"
          ],
          "name": "stdout"
        },
        {
          "output_type": "stream",
          "text": [
            "\n",
            "  0%|          | 0/7 [00:00<?, ?it/s]"
          ],
          "name": "stderr"
        },
        {
          "output_type": "stream",
          "text": [
            "Test mAP: 0.004950822331011295\n"
          ],
          "name": "stdout"
        },
        {
          "output_type": "stream",
          "text": [
            "100%|██████████| 7/7 [00:04<00:00,  1.70it/s, loss=13.9]"
          ],
          "name": "stderr"
        },
        {
          "output_type": "stream",
          "text": [
            "Mean loss was 25.93829481942313\n",
            "Epoch 55/1000\n"
          ],
          "name": "stdout"
        },
        {
          "output_type": "stream",
          "text": [
            "\n",
            "  0%|          | 0/7 [00:00<?, ?it/s]"
          ],
          "name": "stderr"
        },
        {
          "output_type": "stream",
          "text": [
            "Test mAP: 0.010221158154308796\n"
          ],
          "name": "stdout"
        },
        {
          "output_type": "stream",
          "text": [
            "100%|██████████| 7/7 [00:03<00:00,  1.77it/s, loss=13.6]"
          ],
          "name": "stderr"
        },
        {
          "output_type": "stream",
          "text": [
            "Mean loss was 23.124853134155273\n",
            "Epoch 56/1000\n"
          ],
          "name": "stdout"
        },
        {
          "output_type": "stream",
          "text": [
            "\n",
            "  0%|          | 0/7 [00:00<?, ?it/s]"
          ],
          "name": "stderr"
        },
        {
          "output_type": "stream",
          "text": [
            "Test mAP: 0.005935171619057655\n"
          ],
          "name": "stdout"
        },
        {
          "output_type": "stream",
          "text": [
            "100%|██████████| 7/7 [00:04<00:00,  1.67it/s, loss=17.3]"
          ],
          "name": "stderr"
        },
        {
          "output_type": "stream",
          "text": [
            "Mean loss was 25.476270403180802\n",
            "Epoch 57/1000\n"
          ],
          "name": "stdout"
        },
        {
          "output_type": "stream",
          "text": [
            "\n",
            "  0%|          | 0/7 [00:00<?, ?it/s]"
          ],
          "name": "stderr"
        },
        {
          "output_type": "stream",
          "text": [
            "Test mAP: 0.008576703257858753\n"
          ],
          "name": "stdout"
        },
        {
          "output_type": "stream",
          "text": [
            "100%|██████████| 7/7 [00:04<00:00,  1.70it/s, loss=14.9]"
          ],
          "name": "stderr"
        },
        {
          "output_type": "stream",
          "text": [
            "Mean loss was 27.65918595450265\n",
            "Epoch 58/1000\n"
          ],
          "name": "stdout"
        },
        {
          "output_type": "stream",
          "text": [
            "\n",
            "  0%|          | 0/7 [00:00<?, ?it/s]"
          ],
          "name": "stderr"
        },
        {
          "output_type": "stream",
          "text": [
            "Test mAP: 0.0013689708430320024\n"
          ],
          "name": "stdout"
        },
        {
          "output_type": "stream",
          "text": [
            "100%|██████████| 7/7 [00:03<00:00,  1.81it/s, loss=16]"
          ],
          "name": "stderr"
        },
        {
          "output_type": "stream",
          "text": [
            "Mean loss was 24.600084849766322\n",
            "Epoch 59/1000\n"
          ],
          "name": "stdout"
        },
        {
          "output_type": "stream",
          "text": [
            "\n",
            "  0%|          | 0/7 [00:00<?, ?it/s]"
          ],
          "name": "stderr"
        },
        {
          "output_type": "stream",
          "text": [
            "Test mAP: 0.005924099124968052\n"
          ],
          "name": "stdout"
        },
        {
          "output_type": "stream",
          "text": [
            "100%|██████████| 7/7 [00:03<00:00,  1.78it/s, loss=13.8]"
          ],
          "name": "stderr"
        },
        {
          "output_type": "stream",
          "text": [
            "Mean loss was 23.960262026105607\n",
            "Epoch 60/1000\n"
          ],
          "name": "stdout"
        },
        {
          "output_type": "stream",
          "text": [
            "\n",
            "  0%|          | 0/7 [00:00<?, ?it/s]"
          ],
          "name": "stderr"
        },
        {
          "output_type": "stream",
          "text": [
            "Test mAP: 0.008078118786215782\n"
          ],
          "name": "stdout"
        },
        {
          "output_type": "stream",
          "text": [
            "100%|██████████| 7/7 [00:04<00:00,  1.71it/s, loss=16.1]"
          ],
          "name": "stderr"
        },
        {
          "output_type": "stream",
          "text": [
            "Mean loss was 21.964897292000906\n",
            "Epoch 61/1000\n"
          ],
          "name": "stdout"
        },
        {
          "output_type": "stream",
          "text": [
            "\n",
            "  0%|          | 0/7 [00:00<?, ?it/s]"
          ],
          "name": "stderr"
        },
        {
          "output_type": "stream",
          "text": [
            "Test mAP: 0.008771924301981926\n"
          ],
          "name": "stdout"
        },
        {
          "output_type": "stream",
          "text": [
            "100%|██████████| 7/7 [00:04<00:00,  1.74it/s, loss=10.5]"
          ],
          "name": "stderr"
        },
        {
          "output_type": "stream",
          "text": [
            "Mean loss was 27.324724469866073\n",
            "Epoch 62/1000\n"
          ],
          "name": "stdout"
        },
        {
          "output_type": "stream",
          "text": [
            "\n",
            "  0%|          | 0/7 [00:00<?, ?it/s]"
          ],
          "name": "stderr"
        },
        {
          "output_type": "stream",
          "text": [
            "Test mAP: 0.004526955075562\n"
          ],
          "name": "stdout"
        },
        {
          "output_type": "stream",
          "text": [
            "100%|██████████| 7/7 [00:03<00:00,  1.76it/s, loss=13.5]"
          ],
          "name": "stderr"
        },
        {
          "output_type": "stream",
          "text": [
            "Mean loss was 25.761074202401296\n",
            "Epoch 63/1000\n"
          ],
          "name": "stdout"
        },
        {
          "output_type": "stream",
          "text": [
            "\n",
            "  0%|          | 0/7 [00:00<?, ?it/s]"
          ],
          "name": "stderr"
        },
        {
          "output_type": "stream",
          "text": [
            "Test mAP: 0.0062134480103850365\n"
          ],
          "name": "stdout"
        },
        {
          "output_type": "stream",
          "text": [
            "100%|██████████| 7/7 [00:04<00:00,  1.66it/s, loss=9.86]"
          ],
          "name": "stderr"
        },
        {
          "output_type": "stream",
          "text": [
            "Mean loss was 20.77599729810442\n",
            "Epoch 64/1000\n"
          ],
          "name": "stdout"
        },
        {
          "output_type": "stream",
          "text": [
            "\n",
            "  0%|          | 0/7 [00:00<?, ?it/s]"
          ],
          "name": "stderr"
        },
        {
          "output_type": "stream",
          "text": [
            "Test mAP: 0.0062134480103850365\n"
          ],
          "name": "stdout"
        },
        {
          "output_type": "stream",
          "text": [
            "100%|██████████| 7/7 [00:04<00:00,  1.67it/s, loss=13.2]"
          ],
          "name": "stderr"
        },
        {
          "output_type": "stream",
          "text": [
            "Mean loss was 19.010086877005442\n",
            "Epoch 65/1000\n"
          ],
          "name": "stdout"
        },
        {
          "output_type": "stream",
          "text": [
            "\n",
            "  0%|          | 0/7 [00:00<?, ?it/s]"
          ],
          "name": "stderr"
        },
        {
          "output_type": "stream",
          "text": [
            "Test mAP: 0.007368941325694323\n"
          ],
          "name": "stdout"
        },
        {
          "output_type": "stream",
          "text": [
            "100%|██████████| 7/7 [00:03<00:00,  1.77it/s, loss=24.9]"
          ],
          "name": "stderr"
        },
        {
          "output_type": "stream",
          "text": [
            "Mean loss was 23.326731545584543\n",
            "Epoch 66/1000\n"
          ],
          "name": "stdout"
        },
        {
          "output_type": "stream",
          "text": [
            "\n",
            "  0%|          | 0/7 [00:00<?, ?it/s]"
          ],
          "name": "stderr"
        },
        {
          "output_type": "stream",
          "text": [
            "Test mAP: 0.006944441702216864\n"
          ],
          "name": "stdout"
        },
        {
          "output_type": "stream",
          "text": [
            "100%|██████████| 7/7 [00:04<00:00,  1.71it/s, loss=17.1]"
          ],
          "name": "stderr"
        },
        {
          "output_type": "stream",
          "text": [
            "Mean loss was 34.208531515938894\n",
            "Epoch 67/1000\n"
          ],
          "name": "stdout"
        },
        {
          "output_type": "stream",
          "text": [
            "\n",
            "  0%|          | 0/7 [00:00<?, ?it/s]"
          ],
          "name": "stderr"
        },
        {
          "output_type": "stream",
          "text": [
            "Test mAP: 0.009259174577891827\n"
          ],
          "name": "stdout"
        },
        {
          "output_type": "stream",
          "text": [
            "100%|██████████| 7/7 [00:04<00:00,  1.67it/s, loss=10.9]"
          ],
          "name": "stderr"
        },
        {
          "output_type": "stream",
          "text": [
            "Mean loss was 30.234033584594727\n",
            "Epoch 68/1000\n"
          ],
          "name": "stdout"
        },
        {
          "output_type": "stream",
          "text": [
            "\n",
            "  0%|          | 0/7 [00:00<?, ?it/s]"
          ],
          "name": "stderr"
        },
        {
          "output_type": "stream",
          "text": [
            "Test mAP: 0.006944441702216864\n"
          ],
          "name": "stdout"
        },
        {
          "output_type": "stream",
          "text": [
            "100%|██████████| 7/7 [00:04<00:00,  1.61it/s, loss=13]"
          ],
          "name": "stderr"
        },
        {
          "output_type": "stream",
          "text": [
            "Mean loss was 24.868481363568986\n",
            "Epoch 69/1000\n"
          ],
          "name": "stdout"
        },
        {
          "output_type": "stream",
          "text": [
            "\n",
            "  0%|          | 0/7 [00:00<?, ?it/s]"
          ],
          "name": "stderr"
        },
        {
          "output_type": "stream",
          "text": [
            "Test mAP: 3.595053203753196e-05\n"
          ],
          "name": "stdout"
        },
        {
          "output_type": "stream",
          "text": [
            "100%|██████████| 7/7 [00:04<00:00,  1.68it/s, loss=15.8]"
          ],
          "name": "stderr"
        },
        {
          "output_type": "stream",
          "text": [
            "Mean loss was 28.053320475987025\n",
            "Epoch 70/1000\n"
          ],
          "name": "stdout"
        },
        {
          "output_type": "stream",
          "text": [
            "\n",
            "  0%|          | 0/7 [00:00<?, ?it/s]"
          ],
          "name": "stderr"
        },
        {
          "output_type": "stream",
          "text": [
            "Test mAP: 0.006944441702216864\n"
          ],
          "name": "stdout"
        },
        {
          "output_type": "stream",
          "text": [
            "100%|██████████| 7/7 [00:04<00:00,  1.72it/s, loss=15.7]"
          ],
          "name": "stderr"
        },
        {
          "output_type": "stream",
          "text": [
            "Mean loss was 22.75665991646903\n",
            "Epoch 71/1000\n"
          ],
          "name": "stdout"
        },
        {
          "output_type": "stream",
          "text": [
            "\n",
            "  0%|          | 0/7 [00:00<?, ?it/s]"
          ],
          "name": "stderr"
        },
        {
          "output_type": "stream",
          "text": [
            "Test mAP: 0.0012049415381625295\n"
          ],
          "name": "stdout"
        },
        {
          "output_type": "stream",
          "text": [
            "100%|██████████| 7/7 [00:04<00:00,  1.63it/s, loss=20.1]"
          ],
          "name": "stderr"
        },
        {
          "output_type": "stream",
          "text": [
            "Mean loss was 24.01302065168108\n",
            "Epoch 72/1000\n"
          ],
          "name": "stdout"
        },
        {
          "output_type": "stream",
          "text": [
            "\n",
            "  0%|          | 0/7 [00:00<?, ?it/s]"
          ],
          "name": "stderr"
        },
        {
          "output_type": "stream",
          "text": [
            "Test mAP: 0.008944339118897915\n"
          ],
          "name": "stdout"
        },
        {
          "output_type": "stream",
          "text": [
            "100%|██████████| 7/7 [00:04<00:00,  1.69it/s, loss=22.1]"
          ],
          "name": "stderr"
        },
        {
          "output_type": "stream",
          "text": [
            "Mean loss was 22.209384781973704\n",
            "Epoch 73/1000\n"
          ],
          "name": "stdout"
        },
        {
          "output_type": "stream",
          "text": [
            "\n",
            "  0%|          | 0/7 [00:00<?, ?it/s]"
          ],
          "name": "stderr"
        },
        {
          "output_type": "stream",
          "text": [
            "Test mAP: 0.0015925226034596562\n"
          ],
          "name": "stdout"
        },
        {
          "output_type": "stream",
          "text": [
            "100%|██████████| 7/7 [00:03<00:00,  1.80it/s, loss=10.9]"
          ],
          "name": "stderr"
        },
        {
          "output_type": "stream",
          "text": [
            "Mean loss was 19.561195646013534\n",
            "Epoch 74/1000\n"
          ],
          "name": "stdout"
        },
        {
          "output_type": "stream",
          "text": [
            "\n",
            "  0%|          | 0/7 [00:00<?, ?it/s]"
          ],
          "name": "stderr"
        },
        {
          "output_type": "stream",
          "text": [
            "Test mAP: 0.0008268083911389112\n"
          ],
          "name": "stdout"
        },
        {
          "output_type": "stream",
          "text": [
            "100%|██████████| 7/7 [00:03<00:00,  1.78it/s, loss=21.3]"
          ],
          "name": "stderr"
        },
        {
          "output_type": "stream",
          "text": [
            "Mean loss was 22.81283950805664\n",
            "Epoch 75/1000\n"
          ],
          "name": "stdout"
        },
        {
          "output_type": "stream",
          "text": [
            "\n",
            "  0%|          | 0/7 [00:00<?, ?it/s]"
          ],
          "name": "stderr"
        },
        {
          "output_type": "stream",
          "text": [
            "Test mAP: 0.001069866120815277\n"
          ],
          "name": "stdout"
        },
        {
          "output_type": "stream",
          "text": [
            "100%|██████████| 7/7 [00:04<00:00,  1.70it/s, loss=5.93]"
          ],
          "name": "stderr"
        },
        {
          "output_type": "stream",
          "text": [
            "Mean loss was 17.788410663604736\n",
            "Epoch 76/1000\n"
          ],
          "name": "stdout"
        },
        {
          "output_type": "stream",
          "text": [
            "\n",
            "  0%|          | 0/7 [00:00<?, ?it/s]"
          ],
          "name": "stderr"
        },
        {
          "output_type": "stream",
          "text": [
            "Test mAP: 0.006030162330716848\n"
          ],
          "name": "stdout"
        },
        {
          "output_type": "stream",
          "text": [
            "100%|██████████| 7/7 [00:04<00:00,  1.70it/s, loss=11.6]"
          ],
          "name": "stderr"
        },
        {
          "output_type": "stream",
          "text": [
            "Mean loss was 23.34464999607631\n",
            "Epoch 77/1000\n"
          ],
          "name": "stdout"
        },
        {
          "output_type": "stream",
          "text": [
            "\n",
            "  0%|          | 0/7 [00:00<?, ?it/s]"
          ],
          "name": "stderr"
        },
        {
          "output_type": "stream",
          "text": [
            "Test mAP: 0.003418559208512306\n"
          ],
          "name": "stdout"
        },
        {
          "output_type": "stream",
          "text": [
            "100%|██████████| 7/7 [00:04<00:00,  1.67it/s, loss=47]"
          ],
          "name": "stderr"
        },
        {
          "output_type": "stream",
          "text": [
            "Mean loss was 27.379485266549246\n",
            "Epoch 78/1000\n"
          ],
          "name": "stdout"
        },
        {
          "output_type": "stream",
          "text": [
            "\n",
            "  0%|          | 0/7 [00:00<?, ?it/s]"
          ],
          "name": "stderr"
        },
        {
          "output_type": "stream",
          "text": [
            "Test mAP: 0.006849571131169796\n"
          ],
          "name": "stdout"
        },
        {
          "output_type": "stream",
          "text": [
            "100%|██████████| 7/7 [00:04<00:00,  1.58it/s, loss=9.1]"
          ],
          "name": "stderr"
        },
        {
          "output_type": "stream",
          "text": [
            "Mean loss was 25.064482143947057\n",
            "Epoch 79/1000\n"
          ],
          "name": "stdout"
        },
        {
          "output_type": "stream",
          "text": [
            "\n",
            "  0%|          | 0/7 [00:00<?, ?it/s]"
          ],
          "name": "stderr"
        },
        {
          "output_type": "stream",
          "text": [
            "Test mAP: 0.0036549693904817104\n"
          ],
          "name": "stdout"
        },
        {
          "output_type": "stream",
          "text": [
            "100%|██████████| 7/7 [00:03<00:00,  1.76it/s, loss=7.69]"
          ],
          "name": "stderr"
        },
        {
          "output_type": "stream",
          "text": [
            "Mean loss was 24.036361285618373\n",
            "Epoch 80/1000\n"
          ],
          "name": "stdout"
        },
        {
          "output_type": "stream",
          "text": [
            "\n",
            "  0%|          | 0/7 [00:00<?, ?it/s]"
          ],
          "name": "stderr"
        },
        {
          "output_type": "stream",
          "text": [
            "Test mAP: 0.0007398175657726824\n"
          ],
          "name": "stdout"
        },
        {
          "output_type": "stream",
          "text": [
            "100%|██████████| 7/7 [00:03<00:00,  1.82it/s, loss=14.4]"
          ],
          "name": "stderr"
        },
        {
          "output_type": "stream",
          "text": [
            "Mean loss was 25.842289515904017\n",
            "Epoch 81/1000\n"
          ],
          "name": "stdout"
        },
        {
          "output_type": "stream",
          "text": [
            "\n",
            "  0%|          | 0/7 [00:00<?, ?it/s]"
          ],
          "name": "stderr"
        },
        {
          "output_type": "stream",
          "text": [
            "Test mAP: 0.0027938035782426596\n"
          ],
          "name": "stdout"
        },
        {
          "output_type": "stream",
          "text": [
            "100%|██████████| 7/7 [00:03<00:00,  1.76it/s, loss=10.9]"
          ],
          "name": "stderr"
        },
        {
          "output_type": "stream",
          "text": [
            "Mean loss was 23.96403612409319\n",
            "Epoch 82/1000\n"
          ],
          "name": "stdout"
        },
        {
          "output_type": "stream",
          "text": [
            "\n",
            "  0%|          | 0/7 [00:00<?, ?it/s]"
          ],
          "name": "stderr"
        },
        {
          "output_type": "stream",
          "text": [
            "Test mAP: 0.007376897148787975\n"
          ],
          "name": "stdout"
        },
        {
          "output_type": "stream",
          "text": [
            "100%|██████████| 7/7 [00:03<00:00,  1.79it/s, loss=13.9]"
          ],
          "name": "stderr"
        },
        {
          "output_type": "stream",
          "text": [
            "Mean loss was 23.49435097830636\n",
            "Epoch 83/1000\n"
          ],
          "name": "stdout"
        },
        {
          "output_type": "stream",
          "text": [
            "\n",
            "  0%|          | 0/7 [00:00<?, ?it/s]"
          ],
          "name": "stderr"
        },
        {
          "output_type": "stream",
          "text": [
            "Test mAP: 0.0007571009919047356\n"
          ],
          "name": "stdout"
        },
        {
          "output_type": "stream",
          "text": [
            "100%|██████████| 7/7 [00:04<00:00,  1.67it/s, loss=24]"
          ],
          "name": "stderr"
        },
        {
          "output_type": "stream",
          "text": [
            "Mean loss was 24.726497922624862\n",
            "Epoch 84/1000\n"
          ],
          "name": "stdout"
        },
        {
          "output_type": "stream",
          "text": [
            "\n",
            "  0%|          | 0/7 [00:00<?, ?it/s]"
          ],
          "name": "stderr"
        },
        {
          "output_type": "stream",
          "text": [
            "Test mAP: 0.0004672387440223247\n"
          ],
          "name": "stdout"
        },
        {
          "output_type": "stream",
          "text": [
            "100%|██████████| 7/7 [00:04<00:00,  1.74it/s, loss=14.2]"
          ],
          "name": "stderr"
        },
        {
          "output_type": "stream",
          "text": [
            "Mean loss was 21.743124144417898\n",
            "Epoch 85/1000\n"
          ],
          "name": "stdout"
        },
        {
          "output_type": "stream",
          "text": [
            "\n",
            "  0%|          | 0/7 [00:00<?, ?it/s]"
          ],
          "name": "stderr"
        },
        {
          "output_type": "stream",
          "text": [
            "Test mAP: 0.003785613225772977\n"
          ],
          "name": "stdout"
        },
        {
          "output_type": "stream",
          "text": [
            "100%|██████████| 7/7 [00:04<00:00,  1.66it/s, loss=7.94]"
          ],
          "name": "stderr"
        },
        {
          "output_type": "stream",
          "text": [
            "Mean loss was 19.807004111153738\n",
            "Epoch 86/1000\n"
          ],
          "name": "stdout"
        },
        {
          "output_type": "stream",
          "text": [
            "\n",
            "  0%|          | 0/7 [00:00<?, ?it/s]"
          ],
          "name": "stderr"
        },
        {
          "output_type": "stream",
          "text": [
            "Test mAP: 0.0015963965561240911\n"
          ],
          "name": "stdout"
        },
        {
          "output_type": "stream",
          "text": [
            "100%|██████████| 7/7 [00:03<00:00,  1.76it/s, loss=8.45]"
          ],
          "name": "stderr"
        },
        {
          "output_type": "stream",
          "text": [
            "Mean loss was 22.482263837541854\n",
            "Epoch 87/1000\n"
          ],
          "name": "stdout"
        },
        {
          "output_type": "stream",
          "text": [
            "\n",
            "  0%|          | 0/7 [00:00<?, ?it/s]"
          ],
          "name": "stderr"
        },
        {
          "output_type": "stream",
          "text": [
            "Test mAP: 0.013458461500704288\n"
          ],
          "name": "stdout"
        },
        {
          "output_type": "stream",
          "text": [
            "100%|██████████| 7/7 [00:03<00:00,  1.80it/s, loss=7.08]"
          ],
          "name": "stderr"
        },
        {
          "output_type": "stream",
          "text": [
            "Mean loss was 21.83828830718994\n",
            "Epoch 88/1000\n"
          ],
          "name": "stdout"
        },
        {
          "output_type": "stream",
          "text": [
            "\n",
            "  0%|          | 0/7 [00:00<?, ?it/s]"
          ],
          "name": "stderr"
        },
        {
          "output_type": "stream",
          "text": [
            "Test mAP: 0.002880352083593607\n"
          ],
          "name": "stdout"
        },
        {
          "output_type": "stream",
          "text": [
            "100%|██████████| 7/7 [00:03<00:00,  1.79it/s, loss=27.3]"
          ],
          "name": "stderr"
        },
        {
          "output_type": "stream",
          "text": [
            "Mean loss was 22.109957967485702\n",
            "Epoch 89/1000\n"
          ],
          "name": "stdout"
        },
        {
          "output_type": "stream",
          "text": [
            "\n",
            "  0%|          | 0/7 [00:00<?, ?it/s]"
          ],
          "name": "stderr"
        },
        {
          "output_type": "stream",
          "text": [
            "Test mAP: 0.0074298446998000145\n"
          ],
          "name": "stdout"
        },
        {
          "output_type": "stream",
          "text": [
            "100%|██████████| 7/7 [00:03<00:00,  1.77it/s, loss=13.7]"
          ],
          "name": "stderr"
        },
        {
          "output_type": "stream",
          "text": [
            "Mean loss was 21.884144238063268\n",
            "Epoch 90/1000\n"
          ],
          "name": "stdout"
        },
        {
          "output_type": "stream",
          "text": [
            "\n",
            "  0%|          | 0/7 [00:00<?, ?it/s]"
          ],
          "name": "stderr"
        },
        {
          "output_type": "stream",
          "text": [
            "Test mAP: 0.012056637555360794\n"
          ],
          "name": "stdout"
        },
        {
          "output_type": "stream",
          "text": [
            "100%|██████████| 7/7 [00:04<00:00,  1.72it/s, loss=13.2]"
          ],
          "name": "stderr"
        },
        {
          "output_type": "stream",
          "text": [
            "Mean loss was 21.743555341448104\n",
            "Epoch 91/1000\n"
          ],
          "name": "stdout"
        },
        {
          "output_type": "stream",
          "text": [
            "\n",
            "  0%|          | 0/7 [00:00<?, ?it/s]"
          ],
          "name": "stderr"
        },
        {
          "output_type": "stream",
          "text": [
            "Test mAP: 0.0008471010951325297\n"
          ],
          "name": "stdout"
        },
        {
          "output_type": "stream",
          "text": [
            "100%|██████████| 7/7 [00:03<00:00,  1.77it/s, loss=12]"
          ],
          "name": "stderr"
        },
        {
          "output_type": "stream",
          "text": [
            "Mean loss was 19.154426438467844\n",
            "Epoch 92/1000\n"
          ],
          "name": "stdout"
        },
        {
          "output_type": "stream",
          "text": [
            "\n",
            "  0%|          | 0/7 [00:00<?, ?it/s]"
          ],
          "name": "stderr"
        },
        {
          "output_type": "stream",
          "text": [
            "Test mAP: 0.007201868109405041\n"
          ],
          "name": "stdout"
        },
        {
          "output_type": "stream",
          "text": [
            "100%|██████████| 7/7 [00:04<00:00,  1.72it/s, loss=9.24]"
          ],
          "name": "stderr"
        },
        {
          "output_type": "stream",
          "text": [
            "Mean loss was 18.42447430746896\n",
            "Epoch 93/1000\n"
          ],
          "name": "stdout"
        },
        {
          "output_type": "stream",
          "text": [
            "\n",
            "  0%|          | 0/7 [00:00<?, ?it/s]"
          ],
          "name": "stderr"
        },
        {
          "output_type": "stream",
          "text": [
            "Test mAP: 0.01070573553442955\n"
          ],
          "name": "stdout"
        },
        {
          "output_type": "stream",
          "text": [
            "100%|██████████| 7/7 [00:04<00:00,  1.73it/s, loss=11.5]"
          ],
          "name": "stderr"
        },
        {
          "output_type": "stream",
          "text": [
            "Mean loss was 19.599635124206543\n",
            "Epoch 94/1000\n"
          ],
          "name": "stdout"
        },
        {
          "output_type": "stream",
          "text": [
            "\n",
            "  0%|          | 0/7 [00:00<?, ?it/s]"
          ],
          "name": "stderr"
        },
        {
          "output_type": "stream",
          "text": [
            "Test mAP: 0.014290980063378811\n"
          ],
          "name": "stdout"
        },
        {
          "output_type": "stream",
          "text": [
            "100%|██████████| 7/7 [00:03<00:00,  1.78it/s, loss=13.2]"
          ],
          "name": "stderr"
        },
        {
          "output_type": "stream",
          "text": [
            "Mean loss was 20.18253231048584\n",
            "Epoch 95/1000\n"
          ],
          "name": "stdout"
        },
        {
          "output_type": "stream",
          "text": [
            "\n",
            "  0%|          | 0/7 [00:00<?, ?it/s]"
          ],
          "name": "stderr"
        },
        {
          "output_type": "stream",
          "text": [
            "Test mAP: 0.0012958530569449067\n"
          ],
          "name": "stdout"
        },
        {
          "output_type": "stream",
          "text": [
            "100%|██████████| 7/7 [00:04<00:00,  1.61it/s, loss=5.22]"
          ],
          "name": "stderr"
        },
        {
          "output_type": "stream",
          "text": [
            "Mean loss was 15.959621906280518\n",
            "Epoch 96/1000\n"
          ],
          "name": "stdout"
        },
        {
          "output_type": "stream",
          "text": [
            "\n",
            "  0%|          | 0/7 [00:00<?, ?it/s]"
          ],
          "name": "stderr"
        },
        {
          "output_type": "stream",
          "text": [
            "Test mAP: 0.0014311589766293764\n"
          ],
          "name": "stdout"
        },
        {
          "output_type": "stream",
          "text": [
            "100%|██████████| 7/7 [00:03<00:00,  1.83it/s, loss=9.19]"
          ],
          "name": "stderr"
        },
        {
          "output_type": "stream",
          "text": [
            "Mean loss was 16.842918395996094\n",
            "Epoch 97/1000\n"
          ],
          "name": "stdout"
        },
        {
          "output_type": "stream",
          "text": [
            "\n",
            "  0%|          | 0/7 [00:00<?, ?it/s]"
          ],
          "name": "stderr"
        },
        {
          "output_type": "stream",
          "text": [
            "Test mAP: 0.0010347836650907993\n"
          ],
          "name": "stdout"
        },
        {
          "output_type": "stream",
          "text": [
            "100%|██████████| 7/7 [00:04<00:00,  1.72it/s, loss=20.3]"
          ],
          "name": "stderr"
        },
        {
          "output_type": "stream",
          "text": [
            "Mean loss was 19.448384148733957\n",
            "Epoch 98/1000\n"
          ],
          "name": "stdout"
        },
        {
          "output_type": "stream",
          "text": [
            "\n",
            "  0%|          | 0/7 [00:00<?, ?it/s]"
          ],
          "name": "stderr"
        },
        {
          "output_type": "stream",
          "text": [
            "Test mAP: 0.000835983082652092\n"
          ],
          "name": "stdout"
        },
        {
          "output_type": "stream",
          "text": [
            "100%|██████████| 7/7 [00:04<00:00,  1.69it/s, loss=6.25]"
          ],
          "name": "stderr"
        },
        {
          "output_type": "stream",
          "text": [
            "Mean loss was 15.004987103598458\n",
            "Epoch 99/1000\n"
          ],
          "name": "stdout"
        },
        {
          "output_type": "stream",
          "text": [
            "\n",
            "  0%|          | 0/7 [00:00<?, ?it/s]"
          ],
          "name": "stderr"
        },
        {
          "output_type": "stream",
          "text": [
            "Test mAP: 0.0014691543765366077\n"
          ],
          "name": "stdout"
        },
        {
          "output_type": "stream",
          "text": [
            "100%|██████████| 7/7 [00:04<00:00,  1.67it/s, loss=16.1]"
          ],
          "name": "stderr"
        },
        {
          "output_type": "stream",
          "text": [
            "Mean loss was 14.763240814208984\n",
            "Epoch 100/1000\n"
          ],
          "name": "stdout"
        },
        {
          "output_type": "stream",
          "text": [
            "\n",
            "  0%|          | 0/7 [00:00<?, ?it/s]"
          ],
          "name": "stderr"
        },
        {
          "output_type": "stream",
          "text": [
            "Test mAP: 0.004623492248356342\n"
          ],
          "name": "stdout"
        },
        {
          "output_type": "stream",
          "text": [
            "100%|██████████| 7/7 [00:04<00:00,  1.71it/s, loss=8]"
          ],
          "name": "stderr"
        },
        {
          "output_type": "stream",
          "text": [
            "Mean loss was 15.619062151227679\n",
            "Epoch 101/1000\n"
          ],
          "name": "stdout"
        },
        {
          "output_type": "stream",
          "text": [
            "\n"
          ],
          "name": "stderr"
        },
        {
          "output_type": "stream",
          "text": [
            "Test mAP: 0.005147415213286877\n",
            "=> Saving checkpoint\n"
          ],
          "name": "stdout"
        },
        {
          "output_type": "stream",
          "text": [
            "100%|██████████| 7/7 [00:04<00:00,  1.65it/s, loss=8.86]"
          ],
          "name": "stderr"
        },
        {
          "output_type": "stream",
          "text": [
            "Mean loss was 13.03933824811663\n",
            "Epoch 102/1000\n"
          ],
          "name": "stdout"
        },
        {
          "output_type": "stream",
          "text": [
            "\n",
            "  0%|          | 0/7 [00:00<?, ?it/s]"
          ],
          "name": "stderr"
        },
        {
          "output_type": "stream",
          "text": [
            "Test mAP: 0.0008412625174969435\n"
          ],
          "name": "stdout"
        },
        {
          "output_type": "stream",
          "text": [
            "100%|██████████| 7/7 [00:04<00:00,  1.69it/s, loss=4.02]"
          ],
          "name": "stderr"
        },
        {
          "output_type": "stream",
          "text": [
            "Mean loss was 12.409973280770439\n",
            "Epoch 103/1000\n"
          ],
          "name": "stdout"
        },
        {
          "output_type": "stream",
          "text": [
            "\n",
            "  0%|          | 0/7 [00:00<?, ?it/s]"
          ],
          "name": "stderr"
        },
        {
          "output_type": "stream",
          "text": [
            "Test mAP: 0.0011260532774031162\n"
          ],
          "name": "stdout"
        },
        {
          "output_type": "stream",
          "text": [
            "100%|██████████| 7/7 [00:03<00:00,  1.80it/s, loss=6.15]"
          ],
          "name": "stderr"
        },
        {
          "output_type": "stream",
          "text": [
            "Mean loss was 11.988195896148682\n",
            "Epoch 104/1000\n"
          ],
          "name": "stdout"
        },
        {
          "output_type": "stream",
          "text": [
            "\n",
            "  0%|          | 0/7 [00:00<?, ?it/s]"
          ],
          "name": "stderr"
        },
        {
          "output_type": "stream",
          "text": [
            "Test mAP: 0.006944441702216864\n"
          ],
          "name": "stdout"
        },
        {
          "output_type": "stream",
          "text": [
            "100%|██████████| 7/7 [00:03<00:00,  1.80it/s, loss=6.14]"
          ],
          "name": "stderr"
        },
        {
          "output_type": "stream",
          "text": [
            "Mean loss was 11.210098266601562\n",
            "Epoch 105/1000\n"
          ],
          "name": "stdout"
        },
        {
          "output_type": "stream",
          "text": [
            "\n",
            "  0%|          | 0/7 [00:00<?, ?it/s]"
          ],
          "name": "stderr"
        },
        {
          "output_type": "stream",
          "text": [
            "Test mAP: 0.0032320376485586166\n"
          ],
          "name": "stdout"
        },
        {
          "output_type": "stream",
          "text": [
            "100%|██████████| 7/7 [00:04<00:00,  1.69it/s, loss=9.42]"
          ],
          "name": "stderr"
        },
        {
          "output_type": "stream",
          "text": [
            "Mean loss was 12.43436963217599\n",
            "Epoch 106/1000\n"
          ],
          "name": "stdout"
        },
        {
          "output_type": "stream",
          "text": [
            "\n",
            "  0%|          | 0/7 [00:00<?, ?it/s]"
          ],
          "name": "stderr"
        },
        {
          "output_type": "stream",
          "text": [
            "Test mAP: 0.0036549693904817104\n"
          ],
          "name": "stdout"
        },
        {
          "output_type": "stream",
          "text": [
            "100%|██████████| 7/7 [00:04<00:00,  1.65it/s, loss=10.8]"
          ],
          "name": "stderr"
        },
        {
          "output_type": "stream",
          "text": [
            "Mean loss was 12.297397204807826\n",
            "Epoch 107/1000\n"
          ],
          "name": "stdout"
        },
        {
          "output_type": "stream",
          "text": [
            "\n",
            "  0%|          | 0/7 [00:00<?, ?it/s]"
          ],
          "name": "stderr"
        },
        {
          "output_type": "stream",
          "text": [
            "Test mAP: 0.003101988695561886\n"
          ],
          "name": "stdout"
        },
        {
          "output_type": "stream",
          "text": [
            "100%|██████████| 7/7 [00:03<00:00,  1.76it/s, loss=4.9]"
          ],
          "name": "stderr"
        },
        {
          "output_type": "stream",
          "text": [
            "Mean loss was 12.345651762826103\n",
            "Epoch 108/1000\n"
          ],
          "name": "stdout"
        },
        {
          "output_type": "stream",
          "text": [
            "\n",
            "  0%|          | 0/7 [00:00<?, ?it/s]"
          ],
          "name": "stderr"
        },
        {
          "output_type": "stream",
          "text": [
            "Test mAP: 0.0006585140945389867\n"
          ],
          "name": "stdout"
        },
        {
          "output_type": "stream",
          "text": [
            "100%|██████████| 7/7 [00:03<00:00,  1.78it/s, loss=16.7]"
          ],
          "name": "stderr"
        },
        {
          "output_type": "stream",
          "text": [
            "Mean loss was 12.833805084228516\n",
            "Epoch 109/1000\n"
          ],
          "name": "stdout"
        },
        {
          "output_type": "stream",
          "text": [
            "\n",
            "  0%|          | 0/7 [00:00<?, ?it/s]"
          ],
          "name": "stderr"
        },
        {
          "output_type": "stream",
          "text": [
            "Test mAP: 0.0038389568217098713\n"
          ],
          "name": "stdout"
        },
        {
          "output_type": "stream",
          "text": [
            "100%|██████████| 7/7 [00:03<00:00,  1.80it/s, loss=5.75]"
          ],
          "name": "stderr"
        },
        {
          "output_type": "stream",
          "text": [
            "Mean loss was 11.776165076664515\n",
            "Epoch 110/1000\n"
          ],
          "name": "stdout"
        },
        {
          "output_type": "stream",
          "text": [
            "\n",
            "  0%|          | 0/7 [00:00<?, ?it/s]"
          ],
          "name": "stderr"
        },
        {
          "output_type": "stream",
          "text": [
            "Test mAP: 0.005992352496832609\n"
          ],
          "name": "stdout"
        },
        {
          "output_type": "stream",
          "text": [
            "100%|██████████| 7/7 [00:04<00:00,  1.73it/s, loss=10.4]"
          ],
          "name": "stderr"
        },
        {
          "output_type": "stream",
          "text": [
            "Mean loss was 13.748019082205635\n",
            "Epoch 111/1000\n"
          ],
          "name": "stdout"
        },
        {
          "output_type": "stream",
          "text": [
            "\n",
            "  0%|          | 0/7 [00:00<?, ?it/s]"
          ],
          "name": "stderr"
        },
        {
          "output_type": "stream",
          "text": [
            "Test mAP: 0.006439086515456438\n"
          ],
          "name": "stdout"
        },
        {
          "output_type": "stream",
          "text": [
            "100%|██████████| 7/7 [00:04<00:00,  1.75it/s, loss=8.97]"
          ],
          "name": "stderr"
        },
        {
          "output_type": "stream",
          "text": [
            "Mean loss was 11.901136807032994\n",
            "Epoch 112/1000\n"
          ],
          "name": "stdout"
        },
        {
          "output_type": "stream",
          "text": [
            "\n",
            "  0%|          | 0/7 [00:00<?, ?it/s]"
          ],
          "name": "stderr"
        },
        {
          "output_type": "stream",
          "text": [
            "Test mAP: 0.006944441702216864\n"
          ],
          "name": "stdout"
        },
        {
          "output_type": "stream",
          "text": [
            "100%|██████████| 7/7 [00:04<00:00,  1.69it/s, loss=6.02]"
          ],
          "name": "stderr"
        },
        {
          "output_type": "stream",
          "text": [
            "Mean loss was 12.217732157026019\n",
            "Epoch 113/1000\n"
          ],
          "name": "stdout"
        },
        {
          "output_type": "stream",
          "text": [
            "\n",
            "  0%|          | 0/7 [00:00<?, ?it/s]"
          ],
          "name": "stderr"
        },
        {
          "output_type": "stream",
          "text": [
            "Test mAP: 0.000824096379801631\n"
          ],
          "name": "stdout"
        },
        {
          "output_type": "stream",
          "text": [
            "100%|██████████| 7/7 [00:04<00:00,  1.74it/s, loss=5.72]"
          ],
          "name": "stderr"
        },
        {
          "output_type": "stream",
          "text": [
            "Mean loss was 9.891774994986397\n",
            "Epoch 114/1000\n"
          ],
          "name": "stdout"
        },
        {
          "output_type": "stream",
          "text": [
            "\n",
            "  0%|          | 0/7 [00:00<?, ?it/s]"
          ],
          "name": "stderr"
        },
        {
          "output_type": "stream",
          "text": [
            "Test mAP: 0.0004385964130051434\n"
          ],
          "name": "stdout"
        },
        {
          "output_type": "stream",
          "text": [
            "100%|██████████| 7/7 [00:04<00:00,  1.75it/s, loss=7.04]"
          ],
          "name": "stderr"
        },
        {
          "output_type": "stream",
          "text": [
            "Mean loss was 13.193532807486397\n",
            "Epoch 115/1000\n"
          ],
          "name": "stdout"
        },
        {
          "output_type": "stream",
          "text": [
            "\n",
            "  0%|          | 0/7 [00:00<?, ?it/s]"
          ],
          "name": "stderr"
        },
        {
          "output_type": "stream",
          "text": [
            "Test mAP: 0.000548245501704514\n"
          ],
          "name": "stdout"
        },
        {
          "output_type": "stream",
          "text": [
            "100%|██████████| 7/7 [00:04<00:00,  1.73it/s, loss=8.04]"
          ],
          "name": "stderr"
        },
        {
          "output_type": "stream",
          "text": [
            "Mean loss was 12.064039775303431\n",
            "Epoch 116/1000\n"
          ],
          "name": "stdout"
        },
        {
          "output_type": "stream",
          "text": [
            "\n",
            "  0%|          | 0/7 [00:00<?, ?it/s]"
          ],
          "name": "stderr"
        },
        {
          "output_type": "stream",
          "text": [
            "Test mAP: 0.0005267108208499849\n"
          ],
          "name": "stdout"
        },
        {
          "output_type": "stream",
          "text": [
            "100%|██████████| 7/7 [00:03<00:00,  1.77it/s, loss=7.79]"
          ],
          "name": "stderr"
        },
        {
          "output_type": "stream",
          "text": [
            "Mean loss was 12.918727261679512\n",
            "Epoch 117/1000\n"
          ],
          "name": "stdout"
        },
        {
          "output_type": "stream",
          "text": [
            "\n",
            "  0%|          | 0/7 [00:00<?, ?it/s]"
          ],
          "name": "stderr"
        },
        {
          "output_type": "stream",
          "text": [
            "Test mAP: 0.006944441702216864\n"
          ],
          "name": "stdout"
        },
        {
          "output_type": "stream",
          "text": [
            "100%|██████████| 7/7 [00:04<00:00,  1.66it/s, loss=8.64]"
          ],
          "name": "stderr"
        },
        {
          "output_type": "stream",
          "text": [
            "Mean loss was 11.77935893195016\n",
            "Epoch 118/1000\n"
          ],
          "name": "stdout"
        },
        {
          "output_type": "stream",
          "text": [
            "\n",
            "  0%|          | 0/7 [00:00<?, ?it/s]"
          ],
          "name": "stderr"
        },
        {
          "output_type": "stream",
          "text": [
            "Test mAP: 0.000548245501704514\n"
          ],
          "name": "stdout"
        },
        {
          "output_type": "stream",
          "text": [
            "100%|██████████| 7/7 [00:03<00:00,  1.80it/s, loss=5.9]"
          ],
          "name": "stderr"
        },
        {
          "output_type": "stream",
          "text": [
            "Mean loss was 9.670426436832972\n",
            "Epoch 119/1000\n"
          ],
          "name": "stdout"
        },
        {
          "output_type": "stream",
          "text": [
            "\n",
            "  0%|          | 0/7 [00:00<?, ?it/s]"
          ],
          "name": "stderr"
        },
        {
          "output_type": "stream",
          "text": [
            "Test mAP: 0.0025584788527339697\n"
          ],
          "name": "stdout"
        },
        {
          "output_type": "stream",
          "text": [
            "100%|██████████| 7/7 [00:03<00:00,  1.76it/s, loss=6.93]"
          ],
          "name": "stderr"
        },
        {
          "output_type": "stream",
          "text": [
            "Mean loss was 10.213393143245153\n",
            "Epoch 120/1000\n"
          ],
          "name": "stdout"
        },
        {
          "output_type": "stream",
          "text": [
            "\n",
            "  0%|          | 0/7 [00:00<?, ?it/s]"
          ],
          "name": "stderr"
        },
        {
          "output_type": "stream",
          "text": [
            "Test mAP: 0.000521085923537612\n"
          ],
          "name": "stdout"
        },
        {
          "output_type": "stream",
          "text": [
            "100%|██████████| 7/7 [00:03<00:00,  1.80it/s, loss=7.16]"
          ],
          "name": "stderr"
        },
        {
          "output_type": "stream",
          "text": [
            "Mean loss was 9.661875997270856\n",
            "Epoch 121/1000\n"
          ],
          "name": "stdout"
        },
        {
          "output_type": "stream",
          "text": [
            "\n",
            "  0%|          | 0/7 [00:00<?, ?it/s]"
          ],
          "name": "stderr"
        },
        {
          "output_type": "stream",
          "text": [
            "Test mAP: 0.0008145362371578813\n"
          ],
          "name": "stdout"
        },
        {
          "output_type": "stream",
          "text": [
            "100%|██████████| 7/7 [00:03<00:00,  1.76it/s, loss=4.73]"
          ],
          "name": "stderr"
        },
        {
          "output_type": "stream",
          "text": [
            "Mean loss was 10.274845804486956\n",
            "Epoch 122/1000\n"
          ],
          "name": "stdout"
        },
        {
          "output_type": "stream",
          "text": [
            "\n",
            "  0%|          | 0/7 [00:00<?, ?it/s]"
          ],
          "name": "stderr"
        },
        {
          "output_type": "stream",
          "text": [
            "Test mAP: 0.0057492945343256\n"
          ],
          "name": "stdout"
        },
        {
          "output_type": "stream",
          "text": [
            "100%|██████████| 7/7 [00:04<00:00,  1.71it/s, loss=4.38]"
          ],
          "name": "stderr"
        },
        {
          "output_type": "stream",
          "text": [
            "Mean loss was 8.404135159083776\n",
            "Epoch 123/1000\n"
          ],
          "name": "stdout"
        },
        {
          "output_type": "stream",
          "text": [
            "\n",
            "  0%|          | 0/7 [00:00<?, ?it/s]"
          ],
          "name": "stderr"
        },
        {
          "output_type": "stream",
          "text": [
            "Test mAP: 0.0004385964130051434\n"
          ],
          "name": "stdout"
        },
        {
          "output_type": "stream",
          "text": [
            "100%|██████████| 7/7 [00:04<00:00,  1.69it/s, loss=4.04]"
          ],
          "name": "stderr"
        },
        {
          "output_type": "stream",
          "text": [
            "Mean loss was 8.844246455601283\n",
            "Epoch 124/1000\n"
          ],
          "name": "stdout"
        },
        {
          "output_type": "stream",
          "text": [
            "\n",
            "  0%|          | 0/7 [00:00<?, ?it/s]"
          ],
          "name": "stderr"
        },
        {
          "output_type": "stream",
          "text": [
            "Test mAP: 0.00021929823560640216\n"
          ],
          "name": "stdout"
        },
        {
          "output_type": "stream",
          "text": [
            "100%|██████████| 7/7 [00:03<00:00,  1.82it/s, loss=9.38]"
          ],
          "name": "stderr"
        },
        {
          "output_type": "stream",
          "text": [
            "Mean loss was 9.986365182059151\n",
            "Epoch 125/1000\n"
          ],
          "name": "stdout"
        },
        {
          "output_type": "stream",
          "text": [
            "\n",
            "  0%|          | 0/7 [00:00<?, ?it/s]"
          ],
          "name": "stderr"
        },
        {
          "output_type": "stream",
          "text": [
            "Test mAP: 0.0004385964130051434\n"
          ],
          "name": "stdout"
        },
        {
          "output_type": "stream",
          "text": [
            "100%|██████████| 7/7 [00:04<00:00,  1.75it/s, loss=7.4]"
          ],
          "name": "stderr"
        },
        {
          "output_type": "stream",
          "text": [
            "Mean loss was 10.166710921696254\n",
            "Epoch 126/1000\n"
          ],
          "name": "stdout"
        },
        {
          "output_type": "stream",
          "text": [
            "\n",
            "  0%|          | 0/7 [00:00<?, ?it/s]"
          ],
          "name": "stderr"
        },
        {
          "output_type": "stream",
          "text": [
            "Test mAP: 0.003931903745979071\n"
          ],
          "name": "stdout"
        },
        {
          "output_type": "stream",
          "text": [
            "100%|██████████| 7/7 [00:04<00:00,  1.65it/s, loss=9.26]"
          ],
          "name": "stderr"
        },
        {
          "output_type": "stream",
          "text": [
            "Mean loss was 14.611635753086635\n",
            "Epoch 127/1000\n"
          ],
          "name": "stdout"
        },
        {
          "output_type": "stream",
          "text": [
            "\n",
            "  0%|          | 0/7 [00:00<?, ?it/s]"
          ],
          "name": "stderr"
        },
        {
          "output_type": "stream",
          "text": [
            "Test mAP: 0.0015629226109012961\n"
          ],
          "name": "stdout"
        },
        {
          "output_type": "stream",
          "text": [
            "100%|██████████| 7/7 [00:04<00:00,  1.66it/s, loss=6.6]"
          ],
          "name": "stderr"
        },
        {
          "output_type": "stream",
          "text": [
            "Mean loss was 14.757523604801722\n",
            "Epoch 128/1000\n"
          ],
          "name": "stdout"
        },
        {
          "output_type": "stream",
          "text": [
            "\n",
            "  0%|          | 0/7 [00:00<?, ?it/s]"
          ],
          "name": "stderr"
        },
        {
          "output_type": "stream",
          "text": [
            "Test mAP: 0.003218588884919882\n"
          ],
          "name": "stdout"
        },
        {
          "output_type": "stream",
          "text": [
            "100%|██████████| 7/7 [00:04<00:00,  1.71it/s, loss=6.68]"
          ],
          "name": "stderr"
        },
        {
          "output_type": "stream",
          "text": [
            "Mean loss was 11.286442756652832\n",
            "Epoch 129/1000\n"
          ],
          "name": "stdout"
        },
        {
          "output_type": "stream",
          "text": [
            "\n",
            "  0%|          | 0/7 [00:00<?, ?it/s]"
          ],
          "name": "stderr"
        },
        {
          "output_type": "stream",
          "text": [
            "Test mAP: 0.00021139084128662944\n"
          ],
          "name": "stdout"
        },
        {
          "output_type": "stream",
          "text": [
            "100%|██████████| 7/7 [00:04<00:00,  1.72it/s, loss=6.87]"
          ],
          "name": "stderr"
        },
        {
          "output_type": "stream",
          "text": [
            "Mean loss was 11.690363134656634\n",
            "Epoch 130/1000\n"
          ],
          "name": "stdout"
        },
        {
          "output_type": "stream",
          "text": [
            "\n",
            "  0%|          | 0/7 [00:00<?, ?it/s]"
          ],
          "name": "stderr"
        },
        {
          "output_type": "stream",
          "text": [
            "Test mAP: 0.004961893893778324\n"
          ],
          "name": "stdout"
        },
        {
          "output_type": "stream",
          "text": [
            "100%|██████████| 7/7 [00:03<00:00,  1.82it/s, loss=14.4]"
          ],
          "name": "stderr"
        },
        {
          "output_type": "stream",
          "text": [
            "Mean loss was 21.285967009408132\n",
            "Epoch 131/1000\n"
          ],
          "name": "stdout"
        },
        {
          "output_type": "stream",
          "text": [
            "\n",
            "  0%|          | 0/7 [00:00<?, ?it/s]"
          ],
          "name": "stderr"
        },
        {
          "output_type": "stream",
          "text": [
            "Test mAP: 0.0036549693904817104\n"
          ],
          "name": "stdout"
        },
        {
          "output_type": "stream",
          "text": [
            "100%|██████████| 7/7 [00:04<00:00,  1.67it/s, loss=20.5]"
          ],
          "name": "stderr"
        },
        {
          "output_type": "stream",
          "text": [
            "Mean loss was 27.386992863246373\n",
            "Epoch 132/1000\n"
          ],
          "name": "stdout"
        },
        {
          "output_type": "stream",
          "text": [
            "\n",
            "  0%|          | 0/7 [00:00<?, ?it/s]"
          ],
          "name": "stderr"
        },
        {
          "output_type": "stream",
          "text": [
            "Test mAP: 0.004607781767845154\n"
          ],
          "name": "stdout"
        },
        {
          "output_type": "stream",
          "text": [
            "100%|██████████| 7/7 [00:04<00:00,  1.72it/s, loss=8.19]"
          ],
          "name": "stderr"
        },
        {
          "output_type": "stream",
          "text": [
            "Mean loss was 23.87242535182408\n",
            "Epoch 133/1000\n"
          ],
          "name": "stdout"
        },
        {
          "output_type": "stream",
          "text": [
            "\n",
            "  0%|          | 0/7 [00:00<?, ?it/s]"
          ],
          "name": "stderr"
        },
        {
          "output_type": "stream",
          "text": [
            "Test mAP: 0.00027412277995608747\n"
          ],
          "name": "stdout"
        },
        {
          "output_type": "stream",
          "text": [
            "100%|██████████| 7/7 [00:04<00:00,  1.58it/s, loss=18]"
          ],
          "name": "stderr"
        },
        {
          "output_type": "stream",
          "text": [
            "Mean loss was 20.34777614048549\n",
            "Epoch 134/1000\n"
          ],
          "name": "stdout"
        },
        {
          "output_type": "stream",
          "text": [
            "\n",
            "  0%|          | 0/7 [00:00<?, ?it/s]"
          ],
          "name": "stderr"
        },
        {
          "output_type": "stream",
          "text": [
            "Test mAP: 0.000915482931304723\n"
          ],
          "name": "stdout"
        },
        {
          "output_type": "stream",
          "text": [
            "100%|██████████| 7/7 [00:04<00:00,  1.75it/s, loss=9.35]"
          ],
          "name": "stderr"
        },
        {
          "output_type": "stream",
          "text": [
            "Mean loss was 17.935742173876083\n",
            "Epoch 135/1000\n"
          ],
          "name": "stdout"
        },
        {
          "output_type": "stream",
          "text": [
            "\n",
            "  0%|          | 0/7 [00:00<?, ?it/s]"
          ],
          "name": "stderr"
        },
        {
          "output_type": "stream",
          "text": [
            "Test mAP: 0.0027529210783541203\n"
          ],
          "name": "stdout"
        },
        {
          "output_type": "stream",
          "text": [
            "100%|██████████| 7/7 [00:04<00:00,  1.69it/s, loss=5.97]"
          ],
          "name": "stderr"
        },
        {
          "output_type": "stream",
          "text": [
            "Mean loss was 16.61014645440238\n",
            "Epoch 136/1000\n"
          ],
          "name": "stdout"
        },
        {
          "output_type": "stream",
          "text": [
            "\n",
            "  0%|          | 0/7 [00:00<?, ?it/s]"
          ],
          "name": "stderr"
        },
        {
          "output_type": "stream",
          "text": [
            "Test mAP: 0.00019936203898396343\n"
          ],
          "name": "stdout"
        },
        {
          "output_type": "stream",
          "text": [
            "100%|██████████| 7/7 [00:04<00:00,  1.71it/s, loss=7.88]"
          ],
          "name": "stderr"
        },
        {
          "output_type": "stream",
          "text": [
            "Mean loss was 14.954225267682757\n",
            "Epoch 137/1000\n"
          ],
          "name": "stdout"
        },
        {
          "output_type": "stream",
          "text": [
            "\n",
            "  0%|          | 0/7 [00:00<?, ?it/s]"
          ],
          "name": "stderr"
        },
        {
          "output_type": "stream",
          "text": [
            "Test mAP: 0.00031328314798884094\n"
          ],
          "name": "stdout"
        },
        {
          "output_type": "stream",
          "text": [
            "100%|██████████| 7/7 [00:04<00:00,  1.59it/s, loss=12.5]"
          ],
          "name": "stderr"
        },
        {
          "output_type": "stream",
          "text": [
            "Mean loss was 14.885266985212054\n",
            "Epoch 138/1000\n"
          ],
          "name": "stdout"
        },
        {
          "output_type": "stream",
          "text": [
            "\n",
            "  0%|          | 0/7 [00:00<?, ?it/s]"
          ],
          "name": "stderr"
        },
        {
          "output_type": "stream",
          "text": [
            "Test mAP: 0.0005769749404862523\n"
          ],
          "name": "stdout"
        },
        {
          "output_type": "stream",
          "text": [
            "100%|██████████| 7/7 [00:04<00:00,  1.67it/s, loss=3.91]"
          ],
          "name": "stderr"
        },
        {
          "output_type": "stream",
          "text": [
            "Mean loss was 14.163193430219378\n",
            "Epoch 139/1000\n"
          ],
          "name": "stdout"
        },
        {
          "output_type": "stream",
          "text": [
            "\n",
            "  0%|          | 0/7 [00:00<?, ?it/s]"
          ],
          "name": "stderr"
        },
        {
          "output_type": "stream",
          "text": [
            "Test mAP: 0.0001827485248213634\n"
          ],
          "name": "stdout"
        },
        {
          "output_type": "stream",
          "text": [
            "100%|██████████| 7/7 [00:04<00:00,  1.73it/s, loss=9.89]"
          ],
          "name": "stderr"
        },
        {
          "output_type": "stream",
          "text": [
            "Mean loss was 12.476184163774763\n",
            "Epoch 140/1000\n"
          ],
          "name": "stdout"
        },
        {
          "output_type": "stream",
          "text": [
            "\n",
            "  0%|          | 0/7 [00:00<?, ?it/s]"
          ],
          "name": "stderr"
        },
        {
          "output_type": "stream",
          "text": [
            "Test mAP: 0.0006950066308490932\n"
          ],
          "name": "stdout"
        },
        {
          "output_type": "stream",
          "text": [
            "100%|██████████| 7/7 [00:04<00:00,  1.70it/s, loss=5.3]"
          ],
          "name": "stderr"
        },
        {
          "output_type": "stream",
          "text": [
            "Mean loss was 12.740292821611677\n",
            "Epoch 141/1000\n"
          ],
          "name": "stdout"
        },
        {
          "output_type": "stream",
          "text": [
            "\n",
            "  0%|          | 0/7 [00:00<?, ?it/s]"
          ],
          "name": "stderr"
        },
        {
          "output_type": "stream",
          "text": [
            "Test mAP: 0.00024063783348537982\n"
          ],
          "name": "stdout"
        },
        {
          "output_type": "stream",
          "text": [
            "100%|██████████| 7/7 [00:04<00:00,  1.72it/s, loss=6.9]"
          ],
          "name": "stderr"
        },
        {
          "output_type": "stream",
          "text": [
            "Mean loss was 11.706998961312431\n",
            "Epoch 142/1000\n"
          ],
          "name": "stdout"
        },
        {
          "output_type": "stream",
          "text": [
            "\n",
            "  0%|          | 0/7 [00:00<?, ?it/s]"
          ],
          "name": "stderr"
        },
        {
          "output_type": "stream",
          "text": [
            "Test mAP: 0.0014872527681291103\n"
          ],
          "name": "stdout"
        },
        {
          "output_type": "stream",
          "text": [
            "100%|██████████| 7/7 [00:04<00:00,  1.70it/s, loss=5.31]"
          ],
          "name": "stderr"
        },
        {
          "output_type": "stream",
          "text": [
            "Mean loss was 10.306835515158516\n",
            "Epoch 143/1000\n"
          ],
          "name": "stdout"
        },
        {
          "output_type": "stream",
          "text": [
            "\n",
            "  0%|          | 0/7 [00:00<?, ?it/s]"
          ],
          "name": "stderr"
        },
        {
          "output_type": "stream",
          "text": [
            "Test mAP: 0.0010747353080660105\n"
          ],
          "name": "stdout"
        },
        {
          "output_type": "stream",
          "text": [
            "100%|██████████| 7/7 [00:04<00:00,  1.67it/s, loss=5.37]"
          ],
          "name": "stderr"
        },
        {
          "output_type": "stream",
          "text": [
            "Mean loss was 9.720738070351738\n",
            "Epoch 144/1000\n"
          ],
          "name": "stdout"
        },
        {
          "output_type": "stream",
          "text": [
            "\n",
            "  0%|          | 0/7 [00:00<?, ?it/s]"
          ],
          "name": "stderr"
        },
        {
          "output_type": "stream",
          "text": [
            "Test mAP: 0.00015664160309825093\n"
          ],
          "name": "stdout"
        },
        {
          "output_type": "stream",
          "text": [
            "100%|██████████| 7/7 [00:03<00:00,  1.76it/s, loss=9.68]"
          ],
          "name": "stderr"
        },
        {
          "output_type": "stream",
          "text": [
            "Mean loss was 9.235301835196358\n",
            "Epoch 145/1000\n"
          ],
          "name": "stdout"
        },
        {
          "output_type": "stream",
          "text": [
            "\n",
            "  0%|          | 0/7 [00:00<?, ?it/s]"
          ],
          "name": "stderr"
        },
        {
          "output_type": "stream",
          "text": [
            "Test mAP: 0.0040389178320765495\n"
          ],
          "name": "stdout"
        },
        {
          "output_type": "stream",
          "text": [
            "100%|██████████| 7/7 [00:04<00:00,  1.58it/s, loss=4.9]"
          ],
          "name": "stderr"
        },
        {
          "output_type": "stream",
          "text": [
            "Mean loss was 7.894707066672189\n",
            "Epoch 146/1000\n"
          ],
          "name": "stdout"
        },
        {
          "output_type": "stream",
          "text": [
            "\n",
            "  0%|          | 0/7 [00:00<?, ?it/s]"
          ],
          "name": "stderr"
        },
        {
          "output_type": "stream",
          "text": [
            "Test mAP: 0.0004599360399879515\n"
          ],
          "name": "stdout"
        },
        {
          "output_type": "stream",
          "text": [
            "100%|██████████| 7/7 [00:04<00:00,  1.67it/s, loss=5.04]"
          ],
          "name": "stderr"
        },
        {
          "output_type": "stream",
          "text": [
            "Mean loss was 9.312793322971888\n",
            "Epoch 147/1000\n"
          ],
          "name": "stdout"
        },
        {
          "output_type": "stream",
          "text": [
            "\n",
            "  0%|          | 0/7 [00:00<?, ?it/s]"
          ],
          "name": "stderr"
        },
        {
          "output_type": "stream",
          "text": [
            "Test mAP: 0.0009587268577888608\n"
          ],
          "name": "stdout"
        },
        {
          "output_type": "stream",
          "text": [
            "100%|██████████| 7/7 [00:04<00:00,  1.73it/s, loss=3.61]"
          ],
          "name": "stderr"
        },
        {
          "output_type": "stream",
          "text": [
            "Mean loss was 8.675256763185773\n",
            "Epoch 148/1000\n"
          ],
          "name": "stdout"
        },
        {
          "output_type": "stream",
          "text": [
            "\n",
            "  0%|          | 0/7 [00:00<?, ?it/s]"
          ],
          "name": "stderr"
        },
        {
          "output_type": "stream",
          "text": [
            "Test mAP: 0.00021929823560640216\n"
          ],
          "name": "stdout"
        },
        {
          "output_type": "stream",
          "text": [
            "100%|██████████| 7/7 [00:04<00:00,  1.73it/s, loss=4.21]"
          ],
          "name": "stderr"
        },
        {
          "output_type": "stream",
          "text": [
            "Mean loss was 7.758110795702253\n",
            "Epoch 149/1000\n"
          ],
          "name": "stdout"
        },
        {
          "output_type": "stream",
          "text": [
            "\n",
            "  0%|          | 0/7 [00:00<?, ?it/s]"
          ],
          "name": "stderr"
        },
        {
          "output_type": "stream",
          "text": [
            "Test mAP: 0.0008538389811292291\n"
          ],
          "name": "stdout"
        },
        {
          "output_type": "stream",
          "text": [
            "100%|██████████| 7/7 [00:03<00:00,  1.77it/s, loss=5.39]"
          ],
          "name": "stderr"
        },
        {
          "output_type": "stream",
          "text": [
            "Mean loss was 7.818320069994245\n",
            "Epoch 150/1000\n"
          ],
          "name": "stdout"
        },
        {
          "output_type": "stream",
          "text": [
            "\n",
            "  0%|          | 0/7 [00:00<?, ?it/s]"
          ],
          "name": "stderr"
        },
        {
          "output_type": "stream",
          "text": [
            "Test mAP: 0.0011717919260263443\n"
          ],
          "name": "stdout"
        },
        {
          "output_type": "stream",
          "text": [
            "100%|██████████| 7/7 [00:04<00:00,  1.67it/s, loss=10.2]"
          ],
          "name": "stderr"
        },
        {
          "output_type": "stream",
          "text": [
            "Mean loss was 8.314439432961601\n",
            "Epoch 151/1000\n"
          ],
          "name": "stdout"
        },
        {
          "output_type": "stream",
          "text": [
            "\n",
            "  0%|          | 0/7 [00:00<?, ?it/s]"
          ],
          "name": "stderr"
        },
        {
          "output_type": "stream",
          "text": [
            "Test mAP: 0.0024052916560322046\n"
          ],
          "name": "stdout"
        },
        {
          "output_type": "stream",
          "text": [
            "100%|██████████| 7/7 [00:03<00:00,  1.78it/s, loss=4.26]"
          ],
          "name": "stderr"
        },
        {
          "output_type": "stream",
          "text": [
            "Mean loss was 8.118315151759557\n",
            "Epoch 152/1000\n"
          ],
          "name": "stdout"
        },
        {
          "output_type": "stream",
          "text": [
            "\n",
            "  0%|          | 0/7 [00:00<?, ?it/s]"
          ],
          "name": "stderr"
        },
        {
          "output_type": "stream",
          "text": [
            "Test mAP: 0.0036967089399695396\n"
          ],
          "name": "stdout"
        },
        {
          "output_type": "stream",
          "text": [
            "100%|██████████| 7/7 [00:04<00:00,  1.67it/s, loss=7.83]"
          ],
          "name": "stderr"
        },
        {
          "output_type": "stream",
          "text": [
            "Mean loss was 10.830622604915074\n",
            "Epoch 153/1000\n"
          ],
          "name": "stdout"
        },
        {
          "output_type": "stream",
          "text": [
            "\n",
            "  0%|          | 0/7 [00:00<?, ?it/s]"
          ],
          "name": "stderr"
        },
        {
          "output_type": "stream",
          "text": [
            "Test mAP: 0.0003943453193642199\n"
          ],
          "name": "stdout"
        },
        {
          "output_type": "stream",
          "text": [
            "100%|██████████| 7/7 [00:04<00:00,  1.67it/s, loss=15.6]"
          ],
          "name": "stderr"
        },
        {
          "output_type": "stream",
          "text": [
            "Mean loss was 9.28446810586112\n",
            "Epoch 154/1000\n"
          ],
          "name": "stdout"
        },
        {
          "output_type": "stream",
          "text": [
            "\n",
            "  0%|          | 0/7 [00:00<?, ?it/s]"
          ],
          "name": "stderr"
        },
        {
          "output_type": "stream",
          "text": [
            "Test mAP: 0.00047457730397582054\n"
          ],
          "name": "stdout"
        },
        {
          "output_type": "stream",
          "text": [
            "100%|██████████| 7/7 [00:04<00:00,  1.68it/s, loss=3.71]"
          ],
          "name": "stderr"
        },
        {
          "output_type": "stream",
          "text": [
            "Mean loss was 9.82858909879412\n",
            "Epoch 155/1000\n"
          ],
          "name": "stdout"
        },
        {
          "output_type": "stream",
          "text": [
            "\n",
            "  0%|          | 0/7 [00:00<?, ?it/s]"
          ],
          "name": "stderr"
        },
        {
          "output_type": "stream",
          "text": [
            "Test mAP: 0.0019441726617515087\n"
          ],
          "name": "stdout"
        },
        {
          "output_type": "stream",
          "text": [
            "100%|██████████| 7/7 [00:04<00:00,  1.63it/s, loss=2.83]"
          ],
          "name": "stderr"
        },
        {
          "output_type": "stream",
          "text": [
            "Mean loss was 9.067420380456108\n",
            "Epoch 156/1000\n"
          ],
          "name": "stdout"
        },
        {
          "output_type": "stream",
          "text": [
            "\n",
            "  0%|          | 0/7 [00:00<?, ?it/s]"
          ],
          "name": "stderr"
        },
        {
          "output_type": "stream",
          "text": [
            "Test mAP: 0.0009689293801784515\n"
          ],
          "name": "stdout"
        },
        {
          "output_type": "stream",
          "text": [
            "100%|██████████| 7/7 [00:03<00:00,  1.76it/s, loss=13.6]"
          ],
          "name": "stderr"
        },
        {
          "output_type": "stream",
          "text": [
            "Mean loss was 10.2232084274292\n",
            "Epoch 157/1000\n"
          ],
          "name": "stdout"
        },
        {
          "output_type": "stream",
          "text": [
            "\n",
            "  0%|          | 0/7 [00:00<?, ?it/s]"
          ],
          "name": "stderr"
        },
        {
          "output_type": "stream",
          "text": [
            "Test mAP: 0.00043588175321929157\n"
          ],
          "name": "stdout"
        },
        {
          "output_type": "stream",
          "text": [
            "100%|██████████| 7/7 [00:04<00:00,  1.63it/s, loss=5.07]"
          ],
          "name": "stderr"
        },
        {
          "output_type": "stream",
          "text": [
            "Mean loss was 10.002156325748988\n",
            "Epoch 158/1000\n"
          ],
          "name": "stdout"
        },
        {
          "output_type": "stream",
          "text": [
            "\n",
            "  0%|          | 0/7 [00:00<?, ?it/s]"
          ],
          "name": "stderr"
        },
        {
          "output_type": "stream",
          "text": [
            "Test mAP: 0.0050925337709486485\n"
          ],
          "name": "stdout"
        },
        {
          "output_type": "stream",
          "text": [
            "100%|██████████| 7/7 [00:04<00:00,  1.63it/s, loss=6.27]"
          ],
          "name": "stderr"
        },
        {
          "output_type": "stream",
          "text": [
            "Mean loss was 10.780031204223633\n",
            "Epoch 159/1000\n"
          ],
          "name": "stdout"
        },
        {
          "output_type": "stream",
          "text": [
            "\n",
            "  0%|          | 0/7 [00:00<?, ?it/s]"
          ],
          "name": "stderr"
        },
        {
          "output_type": "stream",
          "text": [
            "Test mAP: 0.0006317877559922636\n"
          ],
          "name": "stdout"
        },
        {
          "output_type": "stream",
          "text": [
            "100%|██████████| 7/7 [00:04<00:00,  1.66it/s, loss=6.16]"
          ],
          "name": "stderr"
        },
        {
          "output_type": "stream",
          "text": [
            "Mean loss was 10.065814767565046\n",
            "Epoch 160/1000\n"
          ],
          "name": "stdout"
        },
        {
          "output_type": "stream",
          "text": [
            "\n",
            "  0%|          | 0/7 [00:00<?, ?it/s]"
          ],
          "name": "stderr"
        },
        {
          "output_type": "stream",
          "text": [
            "Test mAP: 0.0004461506614461541\n"
          ],
          "name": "stdout"
        },
        {
          "output_type": "stream",
          "text": [
            "100%|██████████| 7/7 [00:04<00:00,  1.68it/s, loss=3.95]"
          ],
          "name": "stderr"
        },
        {
          "output_type": "stream",
          "text": [
            "Mean loss was 8.752009357724871\n",
            "Epoch 161/1000\n"
          ],
          "name": "stdout"
        },
        {
          "output_type": "stream",
          "text": [
            "\n",
            "  0%|          | 0/7 [00:00<?, ?it/s]"
          ],
          "name": "stderr"
        },
        {
          "output_type": "stream",
          "text": [
            "Test mAP: 0.0014607510529458523\n"
          ],
          "name": "stdout"
        },
        {
          "output_type": "stream",
          "text": [
            "100%|██████████| 7/7 [00:04<00:00,  1.57it/s, loss=4.43]"
          ],
          "name": "stderr"
        },
        {
          "output_type": "stream",
          "text": [
            "Mean loss was 10.03515372957502\n",
            "Epoch 162/1000\n"
          ],
          "name": "stdout"
        },
        {
          "output_type": "stream",
          "text": [
            "\n",
            "  0%|          | 0/7 [00:00<?, ?it/s]"
          ],
          "name": "stderr"
        },
        {
          "output_type": "stream",
          "text": [
            "Test mAP: 0.0007496842299588025\n"
          ],
          "name": "stdout"
        },
        {
          "output_type": "stream",
          "text": [
            "100%|██████████| 7/7 [00:04<00:00,  1.68it/s, loss=5.58]"
          ],
          "name": "stderr"
        },
        {
          "output_type": "stream",
          "text": [
            "Mean loss was 10.228528022766113\n",
            "Epoch 163/1000\n"
          ],
          "name": "stdout"
        },
        {
          "output_type": "stream",
          "text": [
            "\n",
            "  0%|          | 0/7 [00:00<?, ?it/s]"
          ],
          "name": "stderr"
        },
        {
          "output_type": "stream",
          "text": [
            "Test mAP: 0.0005928094615228474\n"
          ],
          "name": "stdout"
        },
        {
          "output_type": "stream",
          "text": [
            "100%|██████████| 7/7 [00:04<00:00,  1.65it/s, loss=9.84]"
          ],
          "name": "stderr"
        },
        {
          "output_type": "stream",
          "text": [
            "Mean loss was 11.516627447945732\n",
            "Epoch 164/1000\n"
          ],
          "name": "stdout"
        },
        {
          "output_type": "stream",
          "text": [
            "\n",
            "  0%|          | 0/7 [00:00<?, ?it/s]"
          ],
          "name": "stderr"
        },
        {
          "output_type": "stream",
          "text": [
            "Test mAP: 0.0032349620014429092\n"
          ],
          "name": "stdout"
        },
        {
          "output_type": "stream",
          "text": [
            "100%|██████████| 7/7 [00:04<00:00,  1.56it/s, loss=7.47]"
          ],
          "name": "stderr"
        },
        {
          "output_type": "stream",
          "text": [
            "Mean loss was 10.014398506709508\n",
            "Epoch 165/1000\n"
          ],
          "name": "stdout"
        },
        {
          "output_type": "stream",
          "text": [
            "\n",
            "  0%|          | 0/7 [00:00<?, ?it/s]"
          ],
          "name": "stderr"
        },
        {
          "output_type": "stream",
          "text": [
            "Test mAP: 0.0031791403889656067\n"
          ],
          "name": "stdout"
        },
        {
          "output_type": "stream",
          "text": [
            "100%|██████████| 7/7 [00:04<00:00,  1.66it/s, loss=3.2]"
          ],
          "name": "stderr"
        },
        {
          "output_type": "stream",
          "text": [
            "Mean loss was 9.251051902770996\n",
            "Epoch 166/1000\n"
          ],
          "name": "stdout"
        },
        {
          "output_type": "stream",
          "text": [
            "\n",
            "  0%|          | 0/7 [00:00<?, ?it/s]"
          ],
          "name": "stderr"
        },
        {
          "output_type": "stream",
          "text": [
            "Test mAP: 0.00926138274371624\n"
          ],
          "name": "stdout"
        },
        {
          "output_type": "stream",
          "text": [
            "100%|██████████| 7/7 [00:04<00:00,  1.63it/s, loss=6.69]"
          ],
          "name": "stderr"
        },
        {
          "output_type": "stream",
          "text": [
            "Mean loss was 9.69810254233224\n",
            "Epoch 167/1000\n"
          ],
          "name": "stdout"
        },
        {
          "output_type": "stream",
          "text": [
            "\n",
            "  0%|          | 0/7 [00:00<?, ?it/s]"
          ],
          "name": "stderr"
        },
        {
          "output_type": "stream",
          "text": [
            "Test mAP: 0.00041511471499688923\n"
          ],
          "name": "stdout"
        },
        {
          "output_type": "stream",
          "text": [
            "100%|██████████| 7/7 [00:04<00:00,  1.68it/s, loss=8.15]"
          ],
          "name": "stderr"
        },
        {
          "output_type": "stream",
          "text": [
            "Mean loss was 7.770732470921108\n",
            "Epoch 168/1000\n"
          ],
          "name": "stdout"
        },
        {
          "output_type": "stream",
          "text": [
            "\n",
            "  0%|          | 0/7 [00:00<?, ?it/s]"
          ],
          "name": "stderr"
        },
        {
          "output_type": "stream",
          "text": [
            "Test mAP: 0.005577451549470425\n"
          ],
          "name": "stdout"
        },
        {
          "output_type": "stream",
          "text": [
            "100%|██████████| 7/7 [00:04<00:00,  1.74it/s, loss=3.16]"
          ],
          "name": "stderr"
        },
        {
          "output_type": "stream",
          "text": [
            "Mean loss was 7.345123699733189\n",
            "Epoch 169/1000\n"
          ],
          "name": "stdout"
        },
        {
          "output_type": "stream",
          "text": [
            "\n",
            "  0%|          | 0/7 [00:00<?, ?it/s]"
          ],
          "name": "stderr"
        },
        {
          "output_type": "stream",
          "text": [
            "Test mAP: 0.001382797141559422\n"
          ],
          "name": "stdout"
        },
        {
          "output_type": "stream",
          "text": [
            "100%|██████████| 7/7 [00:04<00:00,  1.60it/s, loss=6.81]"
          ],
          "name": "stderr"
        },
        {
          "output_type": "stream",
          "text": [
            "Mean loss was 7.33127178464617\n",
            "Epoch 170/1000\n"
          ],
          "name": "stdout"
        },
        {
          "output_type": "stream",
          "text": [
            "\n",
            "  0%|          | 0/7 [00:00<?, ?it/s]"
          ],
          "name": "stderr"
        },
        {
          "output_type": "stream",
          "text": [
            "Test mAP: 0.013791344128549099\n"
          ],
          "name": "stdout"
        },
        {
          "output_type": "stream",
          "text": [
            "100%|██████████| 7/7 [00:04<00:00,  1.69it/s, loss=4.02]"
          ],
          "name": "stderr"
        },
        {
          "output_type": "stream",
          "text": [
            "Mean loss was 7.201071739196777\n",
            "Epoch 171/1000\n"
          ],
          "name": "stdout"
        },
        {
          "output_type": "stream",
          "text": [
            "\n",
            "  0%|          | 0/7 [00:00<?, ?it/s]"
          ],
          "name": "stderr"
        },
        {
          "output_type": "stream",
          "text": [
            "Test mAP: 0.0007642211858183146\n"
          ],
          "name": "stdout"
        },
        {
          "output_type": "stream",
          "text": [
            "100%|██████████| 7/7 [00:04<00:00,  1.67it/s, loss=3.57]"
          ],
          "name": "stderr"
        },
        {
          "output_type": "stream",
          "text": [
            "Mean loss was 6.457041195460728\n",
            "Epoch 172/1000\n"
          ],
          "name": "stdout"
        },
        {
          "output_type": "stream",
          "text": [
            "\n",
            "  0%|          | 0/7 [00:00<?, ?it/s]"
          ],
          "name": "stderr"
        },
        {
          "output_type": "stream",
          "text": [
            "Test mAP: 0.005359919276088476\n"
          ],
          "name": "stdout"
        },
        {
          "output_type": "stream",
          "text": [
            "100%|██████████| 7/7 [00:04<00:00,  1.62it/s, loss=3.81]"
          ],
          "name": "stderr"
        },
        {
          "output_type": "stream",
          "text": [
            "Mean loss was 6.246607746396746\n",
            "Epoch 173/1000\n"
          ],
          "name": "stdout"
        },
        {
          "output_type": "stream",
          "text": [
            "\n",
            "  0%|          | 0/7 [00:00<?, ?it/s]"
          ],
          "name": "stderr"
        },
        {
          "output_type": "stream",
          "text": [
            "Test mAP: 0.0032126796431839466\n"
          ],
          "name": "stdout"
        },
        {
          "output_type": "stream",
          "text": [
            "100%|██████████| 7/7 [00:04<00:00,  1.65it/s, loss=3.97]"
          ],
          "name": "stderr"
        },
        {
          "output_type": "stream",
          "text": [
            "Mean loss was 6.619218485695975\n",
            "Epoch 174/1000\n"
          ],
          "name": "stdout"
        },
        {
          "output_type": "stream",
          "text": [
            "\n",
            "  0%|          | 0/7 [00:00<?, ?it/s]"
          ],
          "name": "stderr"
        },
        {
          "output_type": "stream",
          "text": [
            "Test mAP: 0.0012829808983951807\n"
          ],
          "name": "stdout"
        },
        {
          "output_type": "stream",
          "text": [
            "100%|██████████| 7/7 [00:04<00:00,  1.65it/s, loss=3.69]"
          ],
          "name": "stderr"
        },
        {
          "output_type": "stream",
          "text": [
            "Mean loss was 7.465015820094517\n",
            "Epoch 175/1000\n"
          ],
          "name": "stdout"
        },
        {
          "output_type": "stream",
          "text": [
            "\n",
            "  0%|          | 0/7 [00:00<?, ?it/s]"
          ],
          "name": "stderr"
        },
        {
          "output_type": "stream",
          "text": [
            "Test mAP: 0.0021101718302816153\n"
          ],
          "name": "stdout"
        },
        {
          "output_type": "stream",
          "text": [
            "100%|██████████| 7/7 [00:04<00:00,  1.69it/s, loss=8.45]"
          ],
          "name": "stderr"
        },
        {
          "output_type": "stream",
          "text": [
            "Mean loss was 7.3781810488019675\n",
            "Epoch 176/1000\n"
          ],
          "name": "stdout"
        },
        {
          "output_type": "stream",
          "text": [
            "\n",
            "  0%|          | 0/7 [00:00<?, ?it/s]"
          ],
          "name": "stderr"
        },
        {
          "output_type": "stream",
          "text": [
            "Test mAP: 0.005756392143666744\n"
          ],
          "name": "stdout"
        },
        {
          "output_type": "stream",
          "text": [
            "100%|██████████| 7/7 [00:04<00:00,  1.74it/s, loss=3.07]"
          ],
          "name": "stderr"
        },
        {
          "output_type": "stream",
          "text": [
            "Mean loss was 6.846963030951364\n",
            "Epoch 177/1000\n"
          ],
          "name": "stdout"
        },
        {
          "output_type": "stream",
          "text": [
            "\n",
            "  0%|          | 0/7 [00:00<?, ?it/s]"
          ],
          "name": "stderr"
        },
        {
          "output_type": "stream",
          "text": [
            "Test mAP: 0.003900849260389805\n"
          ],
          "name": "stdout"
        },
        {
          "output_type": "stream",
          "text": [
            "100%|██████████| 7/7 [00:04<00:00,  1.71it/s, loss=2.59]"
          ],
          "name": "stderr"
        },
        {
          "output_type": "stream",
          "text": [
            "Mean loss was 6.978488206863403\n",
            "Epoch 178/1000\n"
          ],
          "name": "stdout"
        },
        {
          "output_type": "stream",
          "text": [
            "\n",
            "  0%|          | 0/7 [00:00<?, ?it/s]"
          ],
          "name": "stderr"
        },
        {
          "output_type": "stream",
          "text": [
            "Test mAP: 0.0013481753412634134\n"
          ],
          "name": "stdout"
        },
        {
          "output_type": "stream",
          "text": [
            "100%|██████████| 7/7 [00:04<00:00,  1.52it/s, loss=5.11]"
          ],
          "name": "stderr"
        },
        {
          "output_type": "stream",
          "text": [
            "Mean loss was 6.416887828281948\n",
            "Epoch 179/1000\n"
          ],
          "name": "stdout"
        },
        {
          "output_type": "stream",
          "text": [
            "\n",
            "  0%|          | 0/7 [00:00<?, ?it/s]"
          ],
          "name": "stderr"
        },
        {
          "output_type": "stream",
          "text": [
            "Test mAP: 0.0008373205200769007\n"
          ],
          "name": "stdout"
        },
        {
          "output_type": "stream",
          "text": [
            "100%|██████████| 7/7 [00:04<00:00,  1.60it/s, loss=3.24]"
          ],
          "name": "stderr"
        },
        {
          "output_type": "stream",
          "text": [
            "Mean loss was 5.810306344713483\n",
            "Epoch 180/1000\n"
          ],
          "name": "stdout"
        },
        {
          "output_type": "stream",
          "text": [
            "\n",
            "  0%|          | 0/7 [00:00<?, ?it/s]"
          ],
          "name": "stderr"
        },
        {
          "output_type": "stream",
          "text": [
            "Test mAP: 0.0011371481232345104\n"
          ],
          "name": "stdout"
        },
        {
          "output_type": "stream",
          "text": [
            "100%|██████████| 7/7 [00:04<00:00,  1.68it/s, loss=4.96]"
          ],
          "name": "stderr"
        },
        {
          "output_type": "stream",
          "text": [
            "Mean loss was 5.769013472965786\n",
            "Epoch 181/1000\n"
          ],
          "name": "stdout"
        },
        {
          "output_type": "stream",
          "text": [
            "\n",
            "  0%|          | 0/7 [00:00<?, ?it/s]"
          ],
          "name": "stderr"
        },
        {
          "output_type": "stream",
          "text": [
            "Test mAP: 0.0016937539912760258\n"
          ],
          "name": "stdout"
        },
        {
          "output_type": "stream",
          "text": [
            "100%|██████████| 7/7 [00:04<00:00,  1.73it/s, loss=3.82]"
          ],
          "name": "stderr"
        },
        {
          "output_type": "stream",
          "text": [
            "Mean loss was 6.444887842450823\n",
            "Epoch 182/1000\n"
          ],
          "name": "stdout"
        },
        {
          "output_type": "stream",
          "text": [
            "\n",
            "  0%|          | 0/7 [00:00<?, ?it/s]"
          ],
          "name": "stderr"
        },
        {
          "output_type": "stream",
          "text": [
            "Test mAP: 0.0009584866929799318\n"
          ],
          "name": "stdout"
        },
        {
          "output_type": "stream",
          "text": [
            "100%|██████████| 7/7 [00:04<00:00,  1.63it/s, loss=6.48]"
          ],
          "name": "stderr"
        },
        {
          "output_type": "stream",
          "text": [
            "Mean loss was 7.124110017504011\n",
            "Epoch 183/1000\n"
          ],
          "name": "stdout"
        },
        {
          "output_type": "stream",
          "text": [
            "\n",
            "  0%|          | 0/7 [00:00<?, ?it/s]"
          ],
          "name": "stderr"
        },
        {
          "output_type": "stream",
          "text": [
            "Test mAP: 0.00019936203898396343\n"
          ],
          "name": "stdout"
        },
        {
          "output_type": "stream",
          "text": [
            "100%|██████████| 7/7 [00:04<00:00,  1.61it/s, loss=4.62]"
          ],
          "name": "stderr"
        },
        {
          "output_type": "stream",
          "text": [
            "Mean loss was 6.709760393415179\n",
            "Epoch 184/1000\n"
          ],
          "name": "stdout"
        },
        {
          "output_type": "stream",
          "text": [
            "\n",
            "  0%|          | 0/7 [00:00<?, ?it/s]"
          ],
          "name": "stderr"
        },
        {
          "output_type": "stream",
          "text": [
            "Test mAP: 0.0017063439590856433\n"
          ],
          "name": "stdout"
        },
        {
          "output_type": "stream",
          "text": [
            "100%|██████████| 7/7 [00:04<00:00,  1.63it/s, loss=3.15]"
          ],
          "name": "stderr"
        },
        {
          "output_type": "stream",
          "text": [
            "Mean loss was 5.285025426319668\n",
            "Epoch 185/1000\n"
          ],
          "name": "stdout"
        },
        {
          "output_type": "stream",
          "text": [
            "\n",
            "  0%|          | 0/7 [00:00<?, ?it/s]"
          ],
          "name": "stderr"
        },
        {
          "output_type": "stream",
          "text": [
            "Test mAP: 0.0059547219425439835\n"
          ],
          "name": "stdout"
        },
        {
          "output_type": "stream",
          "text": [
            "100%|██████████| 7/7 [00:04<00:00,  1.67it/s, loss=5.12]"
          ],
          "name": "stderr"
        },
        {
          "output_type": "stream",
          "text": [
            "Mean loss was 6.094094889504569\n",
            "Epoch 186/1000\n"
          ],
          "name": "stdout"
        },
        {
          "output_type": "stream",
          "text": [
            "\n",
            "  0%|          | 0/7 [00:00<?, ?it/s]"
          ],
          "name": "stderr"
        },
        {
          "output_type": "stream",
          "text": [
            "Test mAP: 0.0020737561862915754\n"
          ],
          "name": "stdout"
        },
        {
          "output_type": "stream",
          "text": [
            "100%|██████████| 7/7 [00:04<00:00,  1.62it/s, loss=11.5]"
          ],
          "name": "stderr"
        },
        {
          "output_type": "stream",
          "text": [
            "Mean loss was 6.644226823534284\n",
            "Epoch 187/1000\n"
          ],
          "name": "stdout"
        },
        {
          "output_type": "stream",
          "text": [
            "\n",
            "  0%|          | 0/7 [00:00<?, ?it/s]"
          ],
          "name": "stderr"
        },
        {
          "output_type": "stream",
          "text": [
            "Test mAP: 0.000763795105740428\n"
          ],
          "name": "stdout"
        },
        {
          "output_type": "stream",
          "text": [
            "100%|██████████| 7/7 [00:04<00:00,  1.68it/s, loss=5.55]"
          ],
          "name": "stderr"
        },
        {
          "output_type": "stream",
          "text": [
            "Mean loss was 5.977097511291504\n",
            "Epoch 188/1000\n"
          ],
          "name": "stdout"
        },
        {
          "output_type": "stream",
          "text": [
            "\n",
            "  0%|          | 0/7 [00:00<?, ?it/s]"
          ],
          "name": "stderr"
        },
        {
          "output_type": "stream",
          "text": [
            "Test mAP: 0.0026656126137822866\n"
          ],
          "name": "stdout"
        },
        {
          "output_type": "stream",
          "text": [
            "100%|██████████| 7/7 [00:04<00:00,  1.64it/s, loss=4.71]"
          ],
          "name": "stderr"
        },
        {
          "output_type": "stream",
          "text": [
            "Mean loss was 6.533473491668701\n",
            "Epoch 189/1000\n"
          ],
          "name": "stdout"
        },
        {
          "output_type": "stream",
          "text": [
            "\n",
            "  0%|          | 0/7 [00:00<?, ?it/s]"
          ],
          "name": "stderr"
        },
        {
          "output_type": "stream",
          "text": [
            "Test mAP: 0.0017230573575943708\n"
          ],
          "name": "stdout"
        },
        {
          "output_type": "stream",
          "text": [
            "100%|██████████| 7/7 [00:04<00:00,  1.70it/s, loss=5.86]"
          ],
          "name": "stderr"
        },
        {
          "output_type": "stream",
          "text": [
            "Mean loss was 7.004776818411691\n",
            "Epoch 190/1000\n"
          ],
          "name": "stdout"
        },
        {
          "output_type": "stream",
          "text": [
            "\n",
            "  0%|          | 0/7 [00:00<?, ?it/s]"
          ],
          "name": "stderr"
        },
        {
          "output_type": "stream",
          "text": [
            "Test mAP: 0.0003644443931989372\n"
          ],
          "name": "stdout"
        },
        {
          "output_type": "stream",
          "text": [
            "100%|██████████| 7/7 [00:04<00:00,  1.66it/s, loss=3.88]"
          ],
          "name": "stderr"
        },
        {
          "output_type": "stream",
          "text": [
            "Mean loss was 7.822865418025425\n",
            "Epoch 191/1000\n"
          ],
          "name": "stdout"
        },
        {
          "output_type": "stream",
          "text": [
            "\n",
            "  0%|          | 0/7 [00:00<?, ?it/s]"
          ],
          "name": "stderr"
        },
        {
          "output_type": "stream",
          "text": [
            "Test mAP: 0.0015831990167498589\n"
          ],
          "name": "stdout"
        },
        {
          "output_type": "stream",
          "text": [
            "100%|██████████| 7/7 [00:04<00:00,  1.61it/s, loss=3.76]"
          ],
          "name": "stderr"
        },
        {
          "output_type": "stream",
          "text": [
            "Mean loss was 8.09978951726641\n",
            "Epoch 192/1000\n"
          ],
          "name": "stdout"
        },
        {
          "output_type": "stream",
          "text": [
            "\n",
            "  0%|          | 0/7 [00:00<?, ?it/s]"
          ],
          "name": "stderr"
        },
        {
          "output_type": "stream",
          "text": [
            "Test mAP: 0.0018055778928101063\n"
          ],
          "name": "stdout"
        },
        {
          "output_type": "stream",
          "text": [
            "100%|██████████| 7/7 [00:04<00:00,  1.67it/s, loss=13.6]"
          ],
          "name": "stderr"
        },
        {
          "output_type": "stream",
          "text": [
            "Mean loss was 9.16829868725368\n",
            "Epoch 193/1000\n"
          ],
          "name": "stdout"
        },
        {
          "output_type": "stream",
          "text": [
            "\n",
            "  0%|          | 0/7 [00:00<?, ?it/s]"
          ],
          "name": "stderr"
        },
        {
          "output_type": "stream",
          "text": [
            "Test mAP: 0.009349759668111801\n"
          ],
          "name": "stdout"
        },
        {
          "output_type": "stream",
          "text": [
            "100%|██████████| 7/7 [00:04<00:00,  1.60it/s, loss=4.3]"
          ],
          "name": "stderr"
        },
        {
          "output_type": "stream",
          "text": [
            "Mean loss was 8.848436083112444\n",
            "Epoch 194/1000\n"
          ],
          "name": "stdout"
        },
        {
          "output_type": "stream",
          "text": [
            "\n",
            "  0%|          | 0/7 [00:00<?, ?it/s]"
          ],
          "name": "stderr"
        },
        {
          "output_type": "stream",
          "text": [
            "Test mAP: 0.0005208145594224334\n"
          ],
          "name": "stdout"
        },
        {
          "output_type": "stream",
          "text": [
            "100%|██████████| 7/7 [00:04<00:00,  1.61it/s, loss=7.82]"
          ],
          "name": "stderr"
        },
        {
          "output_type": "stream",
          "text": [
            "Mean loss was 9.001792771475655\n",
            "Epoch 195/1000\n"
          ],
          "name": "stdout"
        },
        {
          "output_type": "stream",
          "text": [
            "\n",
            "  0%|          | 0/7 [00:00<?, ?it/s]"
          ],
          "name": "stderr"
        },
        {
          "output_type": "stream",
          "text": [
            "Test mAP: 0.00111086992546916\n"
          ],
          "name": "stdout"
        },
        {
          "output_type": "stream",
          "text": [
            "100%|██████████| 7/7 [00:04<00:00,  1.65it/s, loss=6.13]"
          ],
          "name": "stderr"
        },
        {
          "output_type": "stream",
          "text": [
            "Mean loss was 9.936083044324603\n",
            "Epoch 196/1000\n"
          ],
          "name": "stdout"
        },
        {
          "output_type": "stream",
          "text": [
            "\n",
            "  0%|          | 0/7 [00:00<?, ?it/s]"
          ],
          "name": "stderr"
        },
        {
          "output_type": "stream",
          "text": [
            "Test mAP: 0.0011355688329786062\n"
          ],
          "name": "stdout"
        },
        {
          "output_type": "stream",
          "text": [
            "100%|██████████| 7/7 [00:04<00:00,  1.68it/s, loss=5.11]"
          ],
          "name": "stderr"
        },
        {
          "output_type": "stream",
          "text": [
            "Mean loss was 8.72385345186506\n",
            "Epoch 197/1000\n"
          ],
          "name": "stdout"
        },
        {
          "output_type": "stream",
          "text": [
            "\n",
            "  0%|          | 0/7 [00:00<?, ?it/s]"
          ],
          "name": "stderr"
        },
        {
          "output_type": "stream",
          "text": [
            "Test mAP: 0.0012091139797121286\n"
          ],
          "name": "stdout"
        },
        {
          "output_type": "stream",
          "text": [
            "100%|██████████| 7/7 [00:04<00:00,  1.69it/s, loss=4.36]"
          ],
          "name": "stderr"
        },
        {
          "output_type": "stream",
          "text": [
            "Mean loss was 7.601174422672817\n",
            "Epoch 198/1000\n"
          ],
          "name": "stdout"
        },
        {
          "output_type": "stream",
          "text": [
            "\n",
            "  0%|          | 0/7 [00:00<?, ?it/s]"
          ],
          "name": "stderr"
        },
        {
          "output_type": "stream",
          "text": [
            "Test mAP: 0.001932293176651001\n"
          ],
          "name": "stdout"
        },
        {
          "output_type": "stream",
          "text": [
            "100%|██████████| 7/7 [00:04<00:00,  1.58it/s, loss=3.02]"
          ],
          "name": "stderr"
        },
        {
          "output_type": "stream",
          "text": [
            "Mean loss was 7.268874372754778\n",
            "Epoch 199/1000\n"
          ],
          "name": "stdout"
        },
        {
          "output_type": "stream",
          "text": [
            "\n",
            "  0%|          | 0/7 [00:00<?, ?it/s]"
          ],
          "name": "stderr"
        },
        {
          "output_type": "stream",
          "text": [
            "Test mAP: 0.0012523323530331254\n"
          ],
          "name": "stdout"
        },
        {
          "output_type": "stream",
          "text": [
            "100%|██████████| 7/7 [00:04<00:00,  1.58it/s, loss=12.8]"
          ],
          "name": "stderr"
        },
        {
          "output_type": "stream",
          "text": [
            "Mean loss was 8.80773230961391\n",
            "Epoch 200/1000\n"
          ],
          "name": "stdout"
        },
        {
          "output_type": "stream",
          "text": [
            "\n",
            "  0%|          | 0/7 [00:00<?, ?it/s]"
          ],
          "name": "stderr"
        },
        {
          "output_type": "stream",
          "text": [
            "Test mAP: 0.0023419614881277084\n"
          ],
          "name": "stdout"
        },
        {
          "output_type": "stream",
          "text": [
            "100%|██████████| 7/7 [00:04<00:00,  1.70it/s, loss=3.39]"
          ],
          "name": "stderr"
        },
        {
          "output_type": "stream",
          "text": [
            "Mean loss was 7.402747903551374\n",
            "Epoch 201/1000\n"
          ],
          "name": "stdout"
        },
        {
          "output_type": "stream",
          "text": [
            "\n"
          ],
          "name": "stderr"
        },
        {
          "output_type": "stream",
          "text": [
            "Test mAP: 0.0011369623243808746\n",
            "=> Saving checkpoint\n"
          ],
          "name": "stdout"
        },
        {
          "output_type": "stream",
          "text": [
            "100%|██████████| 7/7 [00:04<00:00,  1.67it/s, loss=3.97]"
          ],
          "name": "stderr"
        },
        {
          "output_type": "stream",
          "text": [
            "Mean loss was 6.606275115694318\n",
            "Epoch 202/1000\n"
          ],
          "name": "stdout"
        },
        {
          "output_type": "stream",
          "text": [
            "\n",
            "  0%|          | 0/7 [00:00<?, ?it/s]"
          ],
          "name": "stderr"
        },
        {
          "output_type": "stream",
          "text": [
            "Test mAP: 0.0004250237252563238\n"
          ],
          "name": "stdout"
        },
        {
          "output_type": "stream",
          "text": [
            "100%|██████████| 7/7 [00:04<00:00,  1.70it/s, loss=1.73]"
          ],
          "name": "stderr"
        },
        {
          "output_type": "stream",
          "text": [
            "Mean loss was 5.973566208566938\n",
            "Epoch 203/1000\n"
          ],
          "name": "stdout"
        },
        {
          "output_type": "stream",
          "text": [
            "\n",
            "  0%|          | 0/7 [00:00<?, ?it/s]"
          ],
          "name": "stderr"
        },
        {
          "output_type": "stream",
          "text": [
            "Test mAP: 0.0018285480327904224\n"
          ],
          "name": "stdout"
        },
        {
          "output_type": "stream",
          "text": [
            "100%|██████████| 7/7 [00:04<00:00,  1.64it/s, loss=6.76]"
          ],
          "name": "stderr"
        },
        {
          "output_type": "stream",
          "text": [
            "Mean loss was 5.937094381877354\n",
            "Epoch 204/1000\n"
          ],
          "name": "stdout"
        },
        {
          "output_type": "stream",
          "text": [
            "\n",
            "  0%|          | 0/7 [00:00<?, ?it/s]"
          ],
          "name": "stderr"
        },
        {
          "output_type": "stream",
          "text": [
            "Test mAP: 0.0019583222456276417\n"
          ],
          "name": "stdout"
        },
        {
          "output_type": "stream",
          "text": [
            "100%|██████████| 7/7 [00:04<00:00,  1.69it/s, loss=2.97]"
          ],
          "name": "stderr"
        },
        {
          "output_type": "stream",
          "text": [
            "Mean loss was 5.8645609106336325\n",
            "Epoch 205/1000\n"
          ],
          "name": "stdout"
        },
        {
          "output_type": "stream",
          "text": [
            "\n",
            "  0%|          | 0/7 [00:00<?, ?it/s]"
          ],
          "name": "stderr"
        },
        {
          "output_type": "stream",
          "text": [
            "Test mAP: 0.0009955443674698472\n"
          ],
          "name": "stdout"
        },
        {
          "output_type": "stream",
          "text": [
            "100%|██████████| 7/7 [00:04<00:00,  1.71it/s, loss=6.46]"
          ],
          "name": "stderr"
        },
        {
          "output_type": "stream",
          "text": [
            "Mean loss was 5.4507356371198386\n",
            "Epoch 206/1000\n"
          ],
          "name": "stdout"
        },
        {
          "output_type": "stream",
          "text": [
            "\n",
            "  0%|          | 0/7 [00:00<?, ?it/s]"
          ],
          "name": "stderr"
        },
        {
          "output_type": "stream",
          "text": [
            "Test mAP: 0.00157427869271487\n"
          ],
          "name": "stdout"
        },
        {
          "output_type": "stream",
          "text": [
            "100%|██████████| 7/7 [00:04<00:00,  1.72it/s, loss=2.85]"
          ],
          "name": "stderr"
        },
        {
          "output_type": "stream",
          "text": [
            "Mean loss was 5.2318366255079\n",
            "Epoch 207/1000\n"
          ],
          "name": "stdout"
        },
        {
          "output_type": "stream",
          "text": [
            "\n",
            "  0%|          | 0/7 [00:00<?, ?it/s]"
          ],
          "name": "stderr"
        },
        {
          "output_type": "stream",
          "text": [
            "Test mAP: 0.0012814548099413514\n"
          ],
          "name": "stdout"
        },
        {
          "output_type": "stream",
          "text": [
            "100%|██████████| 7/7 [00:04<00:00,  1.66it/s, loss=2.32]"
          ],
          "name": "stderr"
        },
        {
          "output_type": "stream",
          "text": [
            "Mean loss was 4.296344723020281\n",
            "Epoch 208/1000\n"
          ],
          "name": "stdout"
        },
        {
          "output_type": "stream",
          "text": [
            "\n",
            "  0%|          | 0/7 [00:00<?, ?it/s]"
          ],
          "name": "stderr"
        },
        {
          "output_type": "stream",
          "text": [
            "Test mAP: 0.0028259498067200184\n"
          ],
          "name": "stdout"
        },
        {
          "output_type": "stream",
          "text": [
            "100%|██████████| 7/7 [00:04<00:00,  1.69it/s, loss=4.67]"
          ],
          "name": "stderr"
        },
        {
          "output_type": "stream",
          "text": [
            "Mean loss was 5.0319530963897705\n",
            "Epoch 209/1000\n"
          ],
          "name": "stdout"
        },
        {
          "output_type": "stream",
          "text": [
            "\n",
            "  0%|          | 0/7 [00:00<?, ?it/s]"
          ],
          "name": "stderr"
        },
        {
          "output_type": "stream",
          "text": [
            "Test mAP: 0.0014101002598181367\n"
          ],
          "name": "stdout"
        },
        {
          "output_type": "stream",
          "text": [
            "100%|██████████| 7/7 [00:04<00:00,  1.73it/s, loss=3.16]"
          ],
          "name": "stderr"
        },
        {
          "output_type": "stream",
          "text": [
            "Mean loss was 4.587432282311576\n",
            "Epoch 210/1000\n"
          ],
          "name": "stdout"
        },
        {
          "output_type": "stream",
          "text": [
            "\n",
            "  0%|          | 0/7 [00:00<?, ?it/s]"
          ],
          "name": "stderr"
        },
        {
          "output_type": "stream",
          "text": [
            "Test mAP: 0.0014954251237213612\n"
          ],
          "name": "stdout"
        },
        {
          "output_type": "stream",
          "text": [
            "100%|██████████| 7/7 [00:04<00:00,  1.58it/s, loss=4.33]"
          ],
          "name": "stderr"
        },
        {
          "output_type": "stream",
          "text": [
            "Mean loss was 5.347213711057391\n",
            "Epoch 211/1000\n"
          ],
          "name": "stdout"
        },
        {
          "output_type": "stream",
          "text": [
            "\n",
            "  0%|          | 0/7 [00:00<?, ?it/s]"
          ],
          "name": "stderr"
        },
        {
          "output_type": "stream",
          "text": [
            "Test mAP: 0.0017133712535724044\n"
          ],
          "name": "stdout"
        },
        {
          "output_type": "stream",
          "text": [
            "100%|██████████| 7/7 [00:04<00:00,  1.71it/s, loss=6.45]"
          ],
          "name": "stderr"
        },
        {
          "output_type": "stream",
          "text": [
            "Mean loss was 5.347733463559832\n",
            "Epoch 212/1000\n"
          ],
          "name": "stdout"
        },
        {
          "output_type": "stream",
          "text": [
            "\n",
            "  0%|          | 0/7 [00:00<?, ?it/s]"
          ],
          "name": "stderr"
        },
        {
          "output_type": "stream",
          "text": [
            "Test mAP: 0.003496901597827673\n"
          ],
          "name": "stdout"
        },
        {
          "output_type": "stream",
          "text": [
            "100%|██████████| 7/7 [00:04<00:00,  1.70it/s, loss=5.56]"
          ],
          "name": "stderr"
        },
        {
          "output_type": "stream",
          "text": [
            "Mean loss was 5.880158117839268\n",
            "Epoch 213/1000\n"
          ],
          "name": "stdout"
        },
        {
          "output_type": "stream",
          "text": [
            "\n",
            "  0%|          | 0/7 [00:00<?, ?it/s]"
          ],
          "name": "stderr"
        },
        {
          "output_type": "stream",
          "text": [
            "Test mAP: 0.0022688531316816807\n"
          ],
          "name": "stdout"
        },
        {
          "output_type": "stream",
          "text": [
            "100%|██████████| 7/7 [00:04<00:00,  1.69it/s, loss=3.2]"
          ],
          "name": "stderr"
        },
        {
          "output_type": "stream",
          "text": [
            "Mean loss was 5.5045192922864645\n",
            "Epoch 214/1000\n"
          ],
          "name": "stdout"
        },
        {
          "output_type": "stream",
          "text": [
            "\n",
            "  0%|          | 0/7 [00:00<?, ?it/s]"
          ],
          "name": "stderr"
        },
        {
          "output_type": "stream",
          "text": [
            "Test mAP: 0.0058061485178768635\n"
          ],
          "name": "stdout"
        },
        {
          "output_type": "stream",
          "text": [
            "100%|██████████| 7/7 [00:03<00:00,  1.76it/s, loss=14.9]"
          ],
          "name": "stderr"
        },
        {
          "output_type": "stream",
          "text": [
            "Mean loss was 7.075063501085554\n",
            "Epoch 215/1000\n"
          ],
          "name": "stdout"
        },
        {
          "output_type": "stream",
          "text": [
            "\n",
            "  0%|          | 0/7 [00:00<?, ?it/s]"
          ],
          "name": "stderr"
        },
        {
          "output_type": "stream",
          "text": [
            "Test mAP: 0.00039826950524002314\n"
          ],
          "name": "stdout"
        },
        {
          "output_type": "stream",
          "text": [
            "100%|██████████| 7/7 [00:04<00:00,  1.59it/s, loss=4.27]"
          ],
          "name": "stderr"
        },
        {
          "output_type": "stream",
          "text": [
            "Mean loss was 7.371406963893345\n",
            "Epoch 216/1000\n"
          ],
          "name": "stdout"
        },
        {
          "output_type": "stream",
          "text": [
            "\n",
            "  0%|          | 0/7 [00:00<?, ?it/s]"
          ],
          "name": "stderr"
        },
        {
          "output_type": "stream",
          "text": [
            "Test mAP: 0.0024339649826288223\n"
          ],
          "name": "stdout"
        },
        {
          "output_type": "stream",
          "text": [
            "100%|██████████| 7/7 [00:04<00:00,  1.69it/s, loss=5.34]"
          ],
          "name": "stderr"
        },
        {
          "output_type": "stream",
          "text": [
            "Mean loss was 6.390323979513986\n",
            "Epoch 217/1000\n"
          ],
          "name": "stdout"
        },
        {
          "output_type": "stream",
          "text": [
            "\n",
            "  0%|          | 0/7 [00:00<?, ?it/s]"
          ],
          "name": "stderr"
        },
        {
          "output_type": "stream",
          "text": [
            "Test mAP: 0.0008147717453539371\n"
          ],
          "name": "stdout"
        },
        {
          "output_type": "stream",
          "text": [
            "100%|██████████| 7/7 [00:04<00:00,  1.69it/s, loss=6.37]"
          ],
          "name": "stderr"
        },
        {
          "output_type": "stream",
          "text": [
            "Mean loss was 6.36305924824306\n",
            "Epoch 218/1000\n"
          ],
          "name": "stdout"
        },
        {
          "output_type": "stream",
          "text": [
            "\n",
            "  0%|          | 0/7 [00:00<?, ?it/s]"
          ],
          "name": "stderr"
        },
        {
          "output_type": "stream",
          "text": [
            "Test mAP: 0.002381442114710808\n"
          ],
          "name": "stdout"
        },
        {
          "output_type": "stream",
          "text": [
            "100%|██████████| 7/7 [00:04<00:00,  1.54it/s, loss=2.64]"
          ],
          "name": "stderr"
        },
        {
          "output_type": "stream",
          "text": [
            "Mean loss was 5.5971731798989435\n",
            "Epoch 219/1000\n"
          ],
          "name": "stdout"
        },
        {
          "output_type": "stream",
          "text": [
            "\n",
            "  0%|          | 0/7 [00:00<?, ?it/s]"
          ],
          "name": "stderr"
        },
        {
          "output_type": "stream",
          "text": [
            "Test mAP: 0.0017178358975797892\n"
          ],
          "name": "stdout"
        },
        {
          "output_type": "stream",
          "text": [
            "100%|██████████| 7/7 [00:04<00:00,  1.63it/s, loss=3.62]"
          ],
          "name": "stderr"
        },
        {
          "output_type": "stream",
          "text": [
            "Mean loss was 5.713379110608782\n",
            "Epoch 220/1000\n"
          ],
          "name": "stdout"
        },
        {
          "output_type": "stream",
          "text": [
            "\n",
            "  0%|          | 0/7 [00:00<?, ?it/s]"
          ],
          "name": "stderr"
        },
        {
          "output_type": "stream",
          "text": [
            "Test mAP: 0.0016943833325058222\n"
          ],
          "name": "stdout"
        },
        {
          "output_type": "stream",
          "text": [
            "100%|██████████| 7/7 [00:04<00:00,  1.64it/s, loss=2.6]"
          ],
          "name": "stderr"
        },
        {
          "output_type": "stream",
          "text": [
            "Mean loss was 5.309779507773263\n",
            "Epoch 221/1000\n"
          ],
          "name": "stdout"
        },
        {
          "output_type": "stream",
          "text": [
            "\n",
            "  0%|          | 0/7 [00:00<?, ?it/s]"
          ],
          "name": "stderr"
        },
        {
          "output_type": "stream",
          "text": [
            "Test mAP: 0.001681861700490117\n"
          ],
          "name": "stdout"
        },
        {
          "output_type": "stream",
          "text": [
            "100%|██████████| 7/7 [00:04<00:00,  1.71it/s, loss=9.41]"
          ],
          "name": "stderr"
        },
        {
          "output_type": "stream",
          "text": [
            "Mean loss was 6.85181018284389\n",
            "Epoch 222/1000\n"
          ],
          "name": "stdout"
        },
        {
          "output_type": "stream",
          "text": [
            "\n",
            "  0%|          | 0/7 [00:00<?, ?it/s]"
          ],
          "name": "stderr"
        },
        {
          "output_type": "stream",
          "text": [
            "Test mAP: 0.0015500059816986322\n"
          ],
          "name": "stdout"
        },
        {
          "output_type": "stream",
          "text": [
            "100%|██████████| 7/7 [00:04<00:00,  1.67it/s, loss=5.77]"
          ],
          "name": "stderr"
        },
        {
          "output_type": "stream",
          "text": [
            "Mean loss was 7.483907835824149\n",
            "Epoch 223/1000\n"
          ],
          "name": "stdout"
        },
        {
          "output_type": "stream",
          "text": [
            "\n",
            "  0%|          | 0/7 [00:00<?, ?it/s]"
          ],
          "name": "stderr"
        },
        {
          "output_type": "stream",
          "text": [
            "Test mAP: 0.0027679530903697014\n"
          ],
          "name": "stdout"
        },
        {
          "output_type": "stream",
          "text": [
            "100%|██████████| 7/7 [00:04<00:00,  1.62it/s, loss=3.18]"
          ],
          "name": "stderr"
        },
        {
          "output_type": "stream",
          "text": [
            "Mean loss was 7.228152717862811\n",
            "Epoch 224/1000\n"
          ],
          "name": "stdout"
        },
        {
          "output_type": "stream",
          "text": [
            "\n",
            "  0%|          | 0/7 [00:00<?, ?it/s]"
          ],
          "name": "stderr"
        },
        {
          "output_type": "stream",
          "text": [
            "Test mAP: 0.004434800706803799\n"
          ],
          "name": "stdout"
        },
        {
          "output_type": "stream",
          "text": [
            "100%|██████████| 7/7 [00:04<00:00,  1.65it/s, loss=7.48]"
          ],
          "name": "stderr"
        },
        {
          "output_type": "stream",
          "text": [
            "Mean loss was 7.772053173610142\n",
            "Epoch 225/1000\n"
          ],
          "name": "stdout"
        },
        {
          "output_type": "stream",
          "text": [
            "\n",
            "  0%|          | 0/7 [00:00<?, ?it/s]"
          ],
          "name": "stderr"
        },
        {
          "output_type": "stream",
          "text": [
            "Test mAP: 0.0028099643532186747\n"
          ],
          "name": "stdout"
        },
        {
          "output_type": "stream",
          "text": [
            "100%|██████████| 7/7 [00:04<00:00,  1.64it/s, loss=2.83]"
          ],
          "name": "stderr"
        },
        {
          "output_type": "stream",
          "text": [
            "Mean loss was 6.2410405703953336\n",
            "Epoch 226/1000\n"
          ],
          "name": "stdout"
        },
        {
          "output_type": "stream",
          "text": [
            "\n",
            "  0%|          | 0/7 [00:00<?, ?it/s]"
          ],
          "name": "stderr"
        },
        {
          "output_type": "stream",
          "text": [
            "Test mAP: 0.001971520483493805\n"
          ],
          "name": "stdout"
        },
        {
          "output_type": "stream",
          "text": [
            "100%|██████████| 7/7 [00:04<00:00,  1.75it/s, loss=7.14]"
          ],
          "name": "stderr"
        },
        {
          "output_type": "stream",
          "text": [
            "Mean loss was 6.732197557176862\n",
            "Epoch 227/1000\n"
          ],
          "name": "stdout"
        },
        {
          "output_type": "stream",
          "text": [
            "\n",
            "  0%|          | 0/7 [00:00<?, ?it/s]"
          ],
          "name": "stderr"
        },
        {
          "output_type": "stream",
          "text": [
            "Test mAP: 0.0010783643228933215\n"
          ],
          "name": "stdout"
        },
        {
          "output_type": "stream",
          "text": [
            "100%|██████████| 7/7 [00:04<00:00,  1.65it/s, loss=4.78]"
          ],
          "name": "stderr"
        },
        {
          "output_type": "stream",
          "text": [
            "Mean loss was 6.366785594395229\n",
            "Epoch 228/1000\n"
          ],
          "name": "stdout"
        },
        {
          "output_type": "stream",
          "text": [
            "\n",
            "  0%|          | 0/7 [00:00<?, ?it/s]"
          ],
          "name": "stderr"
        },
        {
          "output_type": "stream",
          "text": [
            "Test mAP: 0.0020509427413344383\n"
          ],
          "name": "stdout"
        },
        {
          "output_type": "stream",
          "text": [
            "100%|██████████| 7/7 [00:04<00:00,  1.69it/s, loss=3.71]"
          ],
          "name": "stderr"
        },
        {
          "output_type": "stream",
          "text": [
            "Mean loss was 6.1512976714542935\n",
            "Epoch 229/1000\n"
          ],
          "name": "stdout"
        },
        {
          "output_type": "stream",
          "text": [
            "\n",
            "  0%|          | 0/7 [00:00<?, ?it/s]"
          ],
          "name": "stderr"
        },
        {
          "output_type": "stream",
          "text": [
            "Test mAP: 0.0019308796618133783\n"
          ],
          "name": "stdout"
        },
        {
          "output_type": "stream",
          "text": [
            "100%|██████████| 7/7 [00:04<00:00,  1.62it/s, loss=1.94]"
          ],
          "name": "stderr"
        },
        {
          "output_type": "stream",
          "text": [
            "Mean loss was 5.417512927736555\n",
            "Epoch 230/1000\n"
          ],
          "name": "stdout"
        },
        {
          "output_type": "stream",
          "text": [
            "\n",
            "  0%|          | 0/7 [00:00<?, ?it/s]"
          ],
          "name": "stderr"
        },
        {
          "output_type": "stream",
          "text": [
            "Test mAP: 0.002005592454224825\n"
          ],
          "name": "stdout"
        },
        {
          "output_type": "stream",
          "text": [
            "100%|██████████| 7/7 [00:04<00:00,  1.71it/s, loss=2.6]"
          ],
          "name": "stderr"
        },
        {
          "output_type": "stream",
          "text": [
            "Mean loss was 5.217465264456613\n",
            "Epoch 231/1000\n"
          ],
          "name": "stdout"
        },
        {
          "output_type": "stream",
          "text": [
            "\n",
            "  0%|          | 0/7 [00:00<?, ?it/s]"
          ],
          "name": "stderr"
        },
        {
          "output_type": "stream",
          "text": [
            "Test mAP: 0.0014793752925470471\n"
          ],
          "name": "stdout"
        },
        {
          "output_type": "stream",
          "text": [
            "100%|██████████| 7/7 [00:04<00:00,  1.68it/s, loss=2.02]"
          ],
          "name": "stderr"
        },
        {
          "output_type": "stream",
          "text": [
            "Mean loss was 6.31374648639134\n",
            "Epoch 232/1000\n"
          ],
          "name": "stdout"
        },
        {
          "output_type": "stream",
          "text": [
            "\n",
            "  0%|          | 0/7 [00:00<?, ?it/s]"
          ],
          "name": "stderr"
        },
        {
          "output_type": "stream",
          "text": [
            "Test mAP: 0.00170925073325634\n"
          ],
          "name": "stdout"
        },
        {
          "output_type": "stream",
          "text": [
            "100%|██████████| 7/7 [00:04<00:00,  1.68it/s, loss=3.69]"
          ],
          "name": "stderr"
        },
        {
          "output_type": "stream",
          "text": [
            "Mean loss was 6.682701417378017\n",
            "Epoch 233/1000\n"
          ],
          "name": "stdout"
        },
        {
          "output_type": "stream",
          "text": [
            "\n",
            "  0%|          | 0/7 [00:00<?, ?it/s]"
          ],
          "name": "stderr"
        },
        {
          "output_type": "stream",
          "text": [
            "Test mAP: 0.0012293158797547221\n"
          ],
          "name": "stdout"
        },
        {
          "output_type": "stream",
          "text": [
            "100%|██████████| 7/7 [00:04<00:00,  1.73it/s, loss=5.07]"
          ],
          "name": "stderr"
        },
        {
          "output_type": "stream",
          "text": [
            "Mean loss was 8.026441029139928\n",
            "Epoch 234/1000\n"
          ],
          "name": "stdout"
        },
        {
          "output_type": "stream",
          "text": [
            "\n",
            "  0%|          | 0/7 [00:00<?, ?it/s]"
          ],
          "name": "stderr"
        },
        {
          "output_type": "stream",
          "text": [
            "Test mAP: 0.001825834158807993\n"
          ],
          "name": "stdout"
        },
        {
          "output_type": "stream",
          "text": [
            "100%|██████████| 7/7 [00:03<00:00,  1.75it/s, loss=2.83]"
          ],
          "name": "stderr"
        },
        {
          "output_type": "stream",
          "text": [
            "Mean loss was 8.04388199533735\n",
            "Epoch 235/1000\n"
          ],
          "name": "stdout"
        },
        {
          "output_type": "stream",
          "text": [
            "\n",
            "  0%|          | 0/7 [00:00<?, ?it/s]"
          ],
          "name": "stderr"
        },
        {
          "output_type": "stream",
          "text": [
            "Test mAP: 0.00036402029218152165\n"
          ],
          "name": "stdout"
        },
        {
          "output_type": "stream",
          "text": [
            "100%|██████████| 7/7 [00:04<00:00,  1.54it/s, loss=9.11]"
          ],
          "name": "stderr"
        },
        {
          "output_type": "stream",
          "text": [
            "Mean loss was 9.31078917639596\n",
            "Epoch 236/1000\n"
          ],
          "name": "stdout"
        },
        {
          "output_type": "stream",
          "text": [
            "\n",
            "  0%|          | 0/7 [00:00<?, ?it/s]"
          ],
          "name": "stderr"
        },
        {
          "output_type": "stream",
          "text": [
            "Test mAP: 0.004728695843368769\n"
          ],
          "name": "stdout"
        },
        {
          "output_type": "stream",
          "text": [
            "100%|██████████| 7/7 [00:04<00:00,  1.73it/s, loss=4.28]"
          ],
          "name": "stderr"
        },
        {
          "output_type": "stream",
          "text": [
            "Mean loss was 7.35682875769479\n",
            "Epoch 237/1000\n"
          ],
          "name": "stdout"
        },
        {
          "output_type": "stream",
          "text": [
            "\n",
            "  0%|          | 0/7 [00:00<?, ?it/s]"
          ],
          "name": "stderr"
        },
        {
          "output_type": "stream",
          "text": [
            "Test mAP: 0.00027412277995608747\n"
          ],
          "name": "stdout"
        },
        {
          "output_type": "stream",
          "text": [
            "100%|██████████| 7/7 [00:04<00:00,  1.54it/s, loss=2.42]"
          ],
          "name": "stderr"
        },
        {
          "output_type": "stream",
          "text": [
            "Mean loss was 6.420977047511509\n",
            "Epoch 238/1000\n"
          ],
          "name": "stdout"
        },
        {
          "output_type": "stream",
          "text": [
            "\n",
            "  0%|          | 0/7 [00:00<?, ?it/s]"
          ],
          "name": "stderr"
        },
        {
          "output_type": "stream",
          "text": [
            "Test mAP: 0.0008875826606526971\n"
          ],
          "name": "stdout"
        },
        {
          "output_type": "stream",
          "text": [
            "100%|██████████| 7/7 [00:04<00:00,  1.73it/s, loss=4.71]"
          ],
          "name": "stderr"
        },
        {
          "output_type": "stream",
          "text": [
            "Mean loss was 6.4058308601379395\n",
            "Epoch 239/1000\n"
          ],
          "name": "stdout"
        },
        {
          "output_type": "stream",
          "text": [
            "\n",
            "  0%|          | 0/7 [00:00<?, ?it/s]"
          ],
          "name": "stderr"
        },
        {
          "output_type": "stream",
          "text": [
            "Test mAP: 0.0012168464018031955\n"
          ],
          "name": "stdout"
        },
        {
          "output_type": "stream",
          "text": [
            "100%|██████████| 7/7 [00:04<00:00,  1.58it/s, loss=3.51]"
          ],
          "name": "stderr"
        },
        {
          "output_type": "stream",
          "text": [
            "Mean loss was 5.579217263630459\n",
            "Epoch 240/1000\n"
          ],
          "name": "stdout"
        },
        {
          "output_type": "stream",
          "text": [
            "\n",
            "  0%|          | 0/7 [00:00<?, ?it/s]"
          ],
          "name": "stderr"
        },
        {
          "output_type": "stream",
          "text": [
            "Test mAP: 0.0026336098089814186\n"
          ],
          "name": "stdout"
        },
        {
          "output_type": "stream",
          "text": [
            "100%|██████████| 7/7 [00:04<00:00,  1.63it/s, loss=4.58]"
          ],
          "name": "stderr"
        },
        {
          "output_type": "stream",
          "text": [
            "Mean loss was 5.061278309140887\n",
            "Epoch 241/1000\n"
          ],
          "name": "stdout"
        },
        {
          "output_type": "stream",
          "text": [
            "\n",
            "  0%|          | 0/7 [00:00<?, ?it/s]"
          ],
          "name": "stderr"
        },
        {
          "output_type": "stream",
          "text": [
            "Test mAP: 0.0033356952480971813\n"
          ],
          "name": "stdout"
        },
        {
          "output_type": "stream",
          "text": [
            "100%|██████████| 7/7 [00:04<00:00,  1.68it/s, loss=7.78]"
          ],
          "name": "stderr"
        },
        {
          "output_type": "stream",
          "text": [
            "Mean loss was 9.09460265295846\n",
            "Epoch 242/1000\n"
          ],
          "name": "stdout"
        },
        {
          "output_type": "stream",
          "text": [
            "\n",
            "  0%|          | 0/7 [00:00<?, ?it/s]"
          ],
          "name": "stderr"
        },
        {
          "output_type": "stream",
          "text": [
            "Test mAP: 0.003538371529430151\n"
          ],
          "name": "stdout"
        },
        {
          "output_type": "stream",
          "text": [
            "100%|██████████| 7/7 [00:03<00:00,  1.75it/s, loss=8.54]"
          ],
          "name": "stderr"
        },
        {
          "output_type": "stream",
          "text": [
            "Mean loss was 9.681557314736503\n",
            "Epoch 243/1000\n"
          ],
          "name": "stdout"
        },
        {
          "output_type": "stream",
          "text": [
            "\n",
            "  0%|          | 0/7 [00:00<?, ?it/s]"
          ],
          "name": "stderr"
        },
        {
          "output_type": "stream",
          "text": [
            "Test mAP: 0.0020442423410713673\n"
          ],
          "name": "stdout"
        },
        {
          "output_type": "stream",
          "text": [
            "100%|██████████| 7/7 [00:04<00:00,  1.68it/s, loss=3.02]"
          ],
          "name": "stderr"
        },
        {
          "output_type": "stream",
          "text": [
            "Mean loss was 7.677417687007359\n",
            "Epoch 244/1000\n"
          ],
          "name": "stdout"
        },
        {
          "output_type": "stream",
          "text": [
            "\n",
            "  0%|          | 0/7 [00:00<?, ?it/s]"
          ],
          "name": "stderr"
        },
        {
          "output_type": "stream",
          "text": [
            "Test mAP: 0.0016000417526811361\n"
          ],
          "name": "stdout"
        },
        {
          "output_type": "stream",
          "text": [
            "100%|██████████| 7/7 [00:04<00:00,  1.62it/s, loss=6.53]"
          ],
          "name": "stderr"
        },
        {
          "output_type": "stream",
          "text": [
            "Mean loss was 7.360435928617205\n",
            "Epoch 245/1000\n"
          ],
          "name": "stdout"
        },
        {
          "output_type": "stream",
          "text": [
            "\n",
            "  0%|          | 0/7 [00:00<?, ?it/s]"
          ],
          "name": "stderr"
        },
        {
          "output_type": "stream",
          "text": [
            "Test mAP: 0.0013505304232239723\n"
          ],
          "name": "stdout"
        },
        {
          "output_type": "stream",
          "text": [
            "100%|██████████| 7/7 [00:04<00:00,  1.56it/s, loss=3.04]"
          ],
          "name": "stderr"
        },
        {
          "output_type": "stream",
          "text": [
            "Mean loss was 6.635762861796787\n",
            "Epoch 246/1000\n"
          ],
          "name": "stdout"
        },
        {
          "output_type": "stream",
          "text": [
            "\n",
            "  0%|          | 0/7 [00:00<?, ?it/s]"
          ],
          "name": "stderr"
        },
        {
          "output_type": "stream",
          "text": [
            "Test mAP: 0.0017447973368689418\n"
          ],
          "name": "stdout"
        },
        {
          "output_type": "stream",
          "text": [
            "100%|██████████| 7/7 [00:04<00:00,  1.65it/s, loss=2.04]"
          ],
          "name": "stderr"
        },
        {
          "output_type": "stream",
          "text": [
            "Mean loss was 5.896700995309012\n",
            "Epoch 247/1000\n"
          ],
          "name": "stdout"
        },
        {
          "output_type": "stream",
          "text": [
            "\n",
            "  0%|          | 0/7 [00:00<?, ?it/s]"
          ],
          "name": "stderr"
        },
        {
          "output_type": "stream",
          "text": [
            "Test mAP: 0.00033455865923315287\n"
          ],
          "name": "stdout"
        },
        {
          "output_type": "stream",
          "text": [
            "100%|██████████| 7/7 [00:04<00:00,  1.64it/s, loss=6.04]"
          ],
          "name": "stderr"
        },
        {
          "output_type": "stream",
          "text": [
            "Mean loss was 6.435847895486014\n",
            "Epoch 248/1000\n"
          ],
          "name": "stdout"
        },
        {
          "output_type": "stream",
          "text": [
            "\n",
            "  0%|          | 0/7 [00:00<?, ?it/s]"
          ],
          "name": "stderr"
        },
        {
          "output_type": "stream",
          "text": [
            "Test mAP: 0.0018385371658951044\n"
          ],
          "name": "stdout"
        },
        {
          "output_type": "stream",
          "text": [
            "100%|██████████| 7/7 [00:04<00:00,  1.60it/s, loss=3.62]"
          ],
          "name": "stderr"
        },
        {
          "output_type": "stream",
          "text": [
            "Mean loss was 5.904184239251273\n",
            "Epoch 249/1000\n"
          ],
          "name": "stdout"
        },
        {
          "output_type": "stream",
          "text": [
            "\n",
            "  0%|          | 0/7 [00:00<?, ?it/s]"
          ],
          "name": "stderr"
        },
        {
          "output_type": "stream",
          "text": [
            "Test mAP: 0.0007283019367605448\n"
          ],
          "name": "stdout"
        },
        {
          "output_type": "stream",
          "text": [
            "100%|██████████| 7/7 [00:04<00:00,  1.53it/s, loss=2.06]"
          ],
          "name": "stderr"
        },
        {
          "output_type": "stream",
          "text": [
            "Mean loss was 6.008767162050519\n",
            "Epoch 250/1000\n"
          ],
          "name": "stdout"
        },
        {
          "output_type": "stream",
          "text": [
            "\n",
            "  0%|          | 0/7 [00:00<?, ?it/s]"
          ],
          "name": "stderr"
        },
        {
          "output_type": "stream",
          "text": [
            "Test mAP: 0.0017682536272332072\n"
          ],
          "name": "stdout"
        },
        {
          "output_type": "stream",
          "text": [
            "100%|██████████| 7/7 [00:04<00:00,  1.71it/s, loss=5.97]"
          ],
          "name": "stderr"
        },
        {
          "output_type": "stream",
          "text": [
            "Mean loss was 5.6248763629368375\n",
            "Epoch 251/1000\n"
          ],
          "name": "stdout"
        },
        {
          "output_type": "stream",
          "text": [
            "\n",
            "  0%|          | 0/7 [00:00<?, ?it/s]"
          ],
          "name": "stderr"
        },
        {
          "output_type": "stream",
          "text": [
            "Test mAP: 0.0016887374222278595\n"
          ],
          "name": "stdout"
        },
        {
          "output_type": "stream",
          "text": [
            "100%|██████████| 7/7 [00:04<00:00,  1.71it/s, loss=1.76]"
          ],
          "name": "stderr"
        },
        {
          "output_type": "stream",
          "text": [
            "Mean loss was 5.422285727092198\n",
            "Epoch 252/1000\n"
          ],
          "name": "stdout"
        },
        {
          "output_type": "stream",
          "text": [
            "\n",
            "  0%|          | 0/7 [00:00<?, ?it/s]"
          ],
          "name": "stderr"
        },
        {
          "output_type": "stream",
          "text": [
            "Test mAP: 0.001544797676615417\n"
          ],
          "name": "stdout"
        },
        {
          "output_type": "stream",
          "text": [
            "100%|██████████| 7/7 [00:04<00:00,  1.62it/s, loss=2.45]"
          ],
          "name": "stderr"
        },
        {
          "output_type": "stream",
          "text": [
            "Mean loss was 5.2105491161346436\n",
            "Epoch 253/1000\n"
          ],
          "name": "stdout"
        },
        {
          "output_type": "stream",
          "text": [
            "\n",
            "  0%|          | 0/7 [00:00<?, ?it/s]"
          ],
          "name": "stderr"
        },
        {
          "output_type": "stream",
          "text": [
            "Test mAP: 0.001649309997446835\n"
          ],
          "name": "stdout"
        },
        {
          "output_type": "stream",
          "text": [
            "100%|██████████| 7/7 [00:04<00:00,  1.68it/s, loss=3.16]"
          ],
          "name": "stderr"
        },
        {
          "output_type": "stream",
          "text": [
            "Mean loss was 5.960356780460903\n",
            "Epoch 254/1000\n"
          ],
          "name": "stdout"
        },
        {
          "output_type": "stream",
          "text": [
            "\n",
            "  0%|          | 0/7 [00:00<?, ?it/s]"
          ],
          "name": "stderr"
        },
        {
          "output_type": "stream",
          "text": [
            "Test mAP: 0.0012522932374849916\n"
          ],
          "name": "stdout"
        },
        {
          "output_type": "stream",
          "text": [
            "100%|██████████| 7/7 [00:04<00:00,  1.56it/s, loss=1.52]"
          ],
          "name": "stderr"
        },
        {
          "output_type": "stream",
          "text": [
            "Mean loss was 4.86232362474714\n",
            "Epoch 255/1000\n"
          ],
          "name": "stdout"
        },
        {
          "output_type": "stream",
          "text": [
            "\n",
            "  0%|          | 0/7 [00:00<?, ?it/s]"
          ],
          "name": "stderr"
        },
        {
          "output_type": "stream",
          "text": [
            "Test mAP: 0.001550978166051209\n"
          ],
          "name": "stdout"
        },
        {
          "output_type": "stream",
          "text": [
            "100%|██████████| 7/7 [00:04<00:00,  1.68it/s, loss=3.77]"
          ],
          "name": "stderr"
        },
        {
          "output_type": "stream",
          "text": [
            "Mean loss was 5.106570788792202\n",
            "Epoch 256/1000\n"
          ],
          "name": "stdout"
        },
        {
          "output_type": "stream",
          "text": [
            "\n",
            "  0%|          | 0/7 [00:00<?, ?it/s]"
          ],
          "name": "stderr"
        },
        {
          "output_type": "stream",
          "text": [
            "Test mAP: 0.0023751589469611645\n"
          ],
          "name": "stdout"
        },
        {
          "output_type": "stream",
          "text": [
            "100%|██████████| 7/7 [00:04<00:00,  1.61it/s, loss=1.8]"
          ],
          "name": "stderr"
        },
        {
          "output_type": "stream",
          "text": [
            "Mean loss was 5.629701546260288\n",
            "Epoch 257/1000\n"
          ],
          "name": "stdout"
        },
        {
          "output_type": "stream",
          "text": [
            "\n",
            "  0%|          | 0/7 [00:00<?, ?it/s]"
          ],
          "name": "stderr"
        },
        {
          "output_type": "stream",
          "text": [
            "Test mAP: 0.00029060791712254286\n"
          ],
          "name": "stdout"
        },
        {
          "output_type": "stream",
          "text": [
            "100%|██████████| 7/7 [00:04<00:00,  1.71it/s, loss=4.85]"
          ],
          "name": "stderr"
        },
        {
          "output_type": "stream",
          "text": [
            "Mean loss was 7.109730584280832\n",
            "Epoch 258/1000\n"
          ],
          "name": "stdout"
        },
        {
          "output_type": "stream",
          "text": [
            "\n",
            "  0%|          | 0/7 [00:00<?, ?it/s]"
          ],
          "name": "stderr"
        },
        {
          "output_type": "stream",
          "text": [
            "Test mAP: 0.0018246284453198314\n"
          ],
          "name": "stdout"
        },
        {
          "output_type": "stream",
          "text": [
            "100%|██████████| 7/7 [00:04<00:00,  1.70it/s, loss=4.82]"
          ],
          "name": "stderr"
        },
        {
          "output_type": "stream",
          "text": [
            "Mean loss was 7.041296073368618\n",
            "Epoch 259/1000\n"
          ],
          "name": "stdout"
        },
        {
          "output_type": "stream",
          "text": [
            "\n",
            "  0%|          | 0/7 [00:00<?, ?it/s]"
          ],
          "name": "stderr"
        },
        {
          "output_type": "stream",
          "text": [
            "Test mAP: 0.0004850305267609656\n"
          ],
          "name": "stdout"
        },
        {
          "output_type": "stream",
          "text": [
            "100%|██████████| 7/7 [00:04<00:00,  1.62it/s, loss=2.41]"
          ],
          "name": "stderr"
        },
        {
          "output_type": "stream",
          "text": [
            "Mean loss was 6.3606358255658835\n",
            "Epoch 260/1000\n"
          ],
          "name": "stdout"
        },
        {
          "output_type": "stream",
          "text": [
            "\n",
            "  0%|          | 0/7 [00:00<?, ?it/s]"
          ],
          "name": "stderr"
        },
        {
          "output_type": "stream",
          "text": [
            "Test mAP: 0.007028995081782341\n"
          ],
          "name": "stdout"
        },
        {
          "output_type": "stream",
          "text": [
            "100%|██████████| 7/7 [00:04<00:00,  1.65it/s, loss=2.33]"
          ],
          "name": "stderr"
        },
        {
          "output_type": "stream",
          "text": [
            "Mean loss was 6.003434828349522\n",
            "Epoch 261/1000\n"
          ],
          "name": "stdout"
        },
        {
          "output_type": "stream",
          "text": [
            "\n",
            "  0%|          | 0/7 [00:00<?, ?it/s]"
          ],
          "name": "stderr"
        },
        {
          "output_type": "stream",
          "text": [
            "Test mAP: 0.0009395475499331951\n"
          ],
          "name": "stdout"
        },
        {
          "output_type": "stream",
          "text": [
            "100%|██████████| 7/7 [00:04<00:00,  1.54it/s, loss=5.95]"
          ],
          "name": "stderr"
        },
        {
          "output_type": "stream",
          "text": [
            "Mean loss was 6.636608600616455\n",
            "Epoch 262/1000\n"
          ],
          "name": "stdout"
        },
        {
          "output_type": "stream",
          "text": [
            "\n",
            "  0%|          | 0/7 [00:00<?, ?it/s]"
          ],
          "name": "stderr"
        },
        {
          "output_type": "stream",
          "text": [
            "Test mAP: 0.001814556773751974\n"
          ],
          "name": "stdout"
        },
        {
          "output_type": "stream",
          "text": [
            "100%|██████████| 7/7 [00:04<00:00,  1.63it/s, loss=5.23]"
          ],
          "name": "stderr"
        },
        {
          "output_type": "stream",
          "text": [
            "Mean loss was 6.758793490273612\n",
            "Epoch 263/1000\n"
          ],
          "name": "stdout"
        },
        {
          "output_type": "stream",
          "text": [
            "\n",
            "  0%|          | 0/7 [00:00<?, ?it/s]"
          ],
          "name": "stderr"
        },
        {
          "output_type": "stream",
          "text": [
            "Test mAP: 0.0016176984645426273\n"
          ],
          "name": "stdout"
        },
        {
          "output_type": "stream",
          "text": [
            "100%|██████████| 7/7 [00:04<00:00,  1.74it/s, loss=3.17]"
          ],
          "name": "stderr"
        },
        {
          "output_type": "stream",
          "text": [
            "Mean loss was 6.1651016644069125\n",
            "Epoch 264/1000\n"
          ],
          "name": "stdout"
        },
        {
          "output_type": "stream",
          "text": [
            "\n",
            "  0%|          | 0/7 [00:00<?, ?it/s]"
          ],
          "name": "stderr"
        },
        {
          "output_type": "stream",
          "text": [
            "Test mAP: 0.0016969505231827497\n"
          ],
          "name": "stdout"
        },
        {
          "output_type": "stream",
          "text": [
            "100%|██████████| 7/7 [00:04<00:00,  1.73it/s, loss=3.23]"
          ],
          "name": "stderr"
        },
        {
          "output_type": "stream",
          "text": [
            "Mean loss was 6.256601061139788\n",
            "Epoch 265/1000\n"
          ],
          "name": "stdout"
        },
        {
          "output_type": "stream",
          "text": [
            "\n",
            "  0%|          | 0/7 [00:00<?, ?it/s]"
          ],
          "name": "stderr"
        },
        {
          "output_type": "stream",
          "text": [
            "Test mAP: 0.0007364281918853521\n"
          ],
          "name": "stdout"
        },
        {
          "output_type": "stream",
          "text": [
            "100%|██████████| 7/7 [00:04<00:00,  1.62it/s, loss=2.93]"
          ],
          "name": "stderr"
        },
        {
          "output_type": "stream",
          "text": [
            "Mean loss was 6.939909969057355\n",
            "Epoch 266/1000\n"
          ],
          "name": "stdout"
        },
        {
          "output_type": "stream",
          "text": [
            "\n",
            "  0%|          | 0/7 [00:00<?, ?it/s]"
          ],
          "name": "stderr"
        },
        {
          "output_type": "stream",
          "text": [
            "Test mAP: 0.0004836902371607721\n"
          ],
          "name": "stdout"
        },
        {
          "output_type": "stream",
          "text": [
            "100%|██████████| 7/7 [00:04<00:00,  1.60it/s, loss=5.68]"
          ],
          "name": "stderr"
        },
        {
          "output_type": "stream",
          "text": [
            "Mean loss was 7.500531332833426\n",
            "Epoch 267/1000\n"
          ],
          "name": "stdout"
        },
        {
          "output_type": "stream",
          "text": [
            "\n",
            "  0%|          | 0/7 [00:00<?, ?it/s]"
          ],
          "name": "stderr"
        },
        {
          "output_type": "stream",
          "text": [
            "Test mAP: 0.0005565962055698037\n"
          ],
          "name": "stdout"
        },
        {
          "output_type": "stream",
          "text": [
            "100%|██████████| 7/7 [00:04<00:00,  1.59it/s, loss=3.44]"
          ],
          "name": "stderr"
        },
        {
          "output_type": "stream",
          "text": [
            "Mean loss was 7.0513931683131625\n",
            "Epoch 268/1000\n"
          ],
          "name": "stdout"
        },
        {
          "output_type": "stream",
          "text": [
            "\n",
            "  0%|          | 0/7 [00:00<?, ?it/s]"
          ],
          "name": "stderr"
        },
        {
          "output_type": "stream",
          "text": [
            "Test mAP: 0.00016604273696430027\n"
          ],
          "name": "stdout"
        },
        {
          "output_type": "stream",
          "text": [
            "100%|██████████| 7/7 [00:04<00:00,  1.73it/s, loss=6.06]"
          ],
          "name": "stderr"
        },
        {
          "output_type": "stream",
          "text": [
            "Mean loss was 7.1007513999938965\n",
            "Epoch 269/1000\n"
          ],
          "name": "stdout"
        },
        {
          "output_type": "stream",
          "text": [
            "\n",
            "  0%|          | 0/7 [00:00<?, ?it/s]"
          ],
          "name": "stderr"
        },
        {
          "output_type": "stream",
          "text": [
            "Test mAP: 0.0018942550523206592\n"
          ],
          "name": "stdout"
        },
        {
          "output_type": "stream",
          "text": [
            "100%|██████████| 7/7 [00:04<00:00,  1.68it/s, loss=4.74]"
          ],
          "name": "stderr"
        },
        {
          "output_type": "stream",
          "text": [
            "Mean loss was 5.950020381382534\n",
            "Epoch 270/1000\n"
          ],
          "name": "stdout"
        },
        {
          "output_type": "stream",
          "text": [
            "\n",
            "  0%|          | 0/7 [00:00<?, ?it/s]"
          ],
          "name": "stderr"
        },
        {
          "output_type": "stream",
          "text": [
            "Test mAP: 0.0011411957675591111\n"
          ],
          "name": "stdout"
        },
        {
          "output_type": "stream",
          "text": [
            "100%|██████████| 7/7 [00:04<00:00,  1.73it/s, loss=4.15]"
          ],
          "name": "stderr"
        },
        {
          "output_type": "stream",
          "text": [
            "Mean loss was 6.181276185171945\n",
            "Epoch 271/1000\n"
          ],
          "name": "stdout"
        },
        {
          "output_type": "stream",
          "text": [
            "\n",
            "  0%|          | 0/7 [00:00<?, ?it/s]"
          ],
          "name": "stderr"
        },
        {
          "output_type": "stream",
          "text": [
            "Test mAP: 0.0009207763359881938\n"
          ],
          "name": "stdout"
        },
        {
          "output_type": "stream",
          "text": [
            "100%|██████████| 7/7 [00:04<00:00,  1.60it/s, loss=4.44]"
          ],
          "name": "stderr"
        },
        {
          "output_type": "stream",
          "text": [
            "Mean loss was 5.958614689963205\n",
            "Epoch 272/1000\n"
          ],
          "name": "stdout"
        },
        {
          "output_type": "stream",
          "text": [
            "\n",
            "  0%|          | 0/7 [00:00<?, ?it/s]"
          ],
          "name": "stderr"
        },
        {
          "output_type": "stream",
          "text": [
            "Test mAP: 0.002908224007114768\n"
          ],
          "name": "stdout"
        },
        {
          "output_type": "stream",
          "text": [
            "100%|██████████| 7/7 [00:04<00:00,  1.59it/s, loss=6.99]"
          ],
          "name": "stderr"
        },
        {
          "output_type": "stream",
          "text": [
            "Mean loss was 6.424587454114642\n",
            "Epoch 273/1000\n"
          ],
          "name": "stdout"
        },
        {
          "output_type": "stream",
          "text": [
            "\n",
            "  0%|          | 0/7 [00:00<?, ?it/s]"
          ],
          "name": "stderr"
        },
        {
          "output_type": "stream",
          "text": [
            "Test mAP: 0.00021192312124185264\n"
          ],
          "name": "stdout"
        },
        {
          "output_type": "stream",
          "text": [
            "100%|██████████| 7/7 [00:04<00:00,  1.62it/s, loss=2.98]"
          ],
          "name": "stderr"
        },
        {
          "output_type": "stream",
          "text": [
            "Mean loss was 5.383222818374634\n",
            "Epoch 274/1000\n"
          ],
          "name": "stdout"
        },
        {
          "output_type": "stream",
          "text": [
            "\n",
            "  0%|          | 0/7 [00:00<?, ?it/s]"
          ],
          "name": "stderr"
        },
        {
          "output_type": "stream",
          "text": [
            "Test mAP: 0.0019372571259737015\n"
          ],
          "name": "stdout"
        },
        {
          "output_type": "stream",
          "text": [
            "100%|██████████| 7/7 [00:04<00:00,  1.71it/s, loss=4.25]"
          ],
          "name": "stderr"
        },
        {
          "output_type": "stream",
          "text": [
            "Mean loss was 5.277814933231899\n",
            "Epoch 275/1000\n"
          ],
          "name": "stdout"
        },
        {
          "output_type": "stream",
          "text": [
            "\n",
            "  0%|          | 0/7 [00:00<?, ?it/s]"
          ],
          "name": "stderr"
        },
        {
          "output_type": "stream",
          "text": [
            "Test mAP: 0.0018565587233752012\n"
          ],
          "name": "stdout"
        },
        {
          "output_type": "stream",
          "text": [
            "100%|██████████| 7/7 [00:04<00:00,  1.68it/s, loss=3.25]"
          ],
          "name": "stderr"
        },
        {
          "output_type": "stream",
          "text": [
            "Mean loss was 4.924203259604318\n",
            "Epoch 276/1000\n"
          ],
          "name": "stdout"
        },
        {
          "output_type": "stream",
          "text": [
            "\n",
            "  0%|          | 0/7 [00:00<?, ?it/s]"
          ],
          "name": "stderr"
        },
        {
          "output_type": "stream",
          "text": [
            "Test mAP: 0.0020248182117938995\n"
          ],
          "name": "stdout"
        },
        {
          "output_type": "stream",
          "text": [
            "100%|██████████| 7/7 [00:04<00:00,  1.59it/s, loss=3.47]"
          ],
          "name": "stderr"
        },
        {
          "output_type": "stream",
          "text": [
            "Mean loss was 6.19485000201634\n",
            "Epoch 277/1000\n"
          ],
          "name": "stdout"
        },
        {
          "output_type": "stream",
          "text": [
            "\n",
            "  0%|          | 0/7 [00:00<?, ?it/s]"
          ],
          "name": "stderr"
        },
        {
          "output_type": "stream",
          "text": [
            "Test mAP: 0.00016284885350614786\n"
          ],
          "name": "stdout"
        },
        {
          "output_type": "stream",
          "text": [
            "100%|██████████| 7/7 [00:04<00:00,  1.72it/s, loss=2.06]"
          ],
          "name": "stderr"
        },
        {
          "output_type": "stream",
          "text": [
            "Mean loss was 5.05357347215925\n",
            "Epoch 278/1000\n"
          ],
          "name": "stdout"
        },
        {
          "output_type": "stream",
          "text": [
            "\n",
            "  0%|          | 0/7 [00:00<?, ?it/s]"
          ],
          "name": "stderr"
        },
        {
          "output_type": "stream",
          "text": [
            "Test mAP: 0.0017046353314071894\n"
          ],
          "name": "stdout"
        },
        {
          "output_type": "stream",
          "text": [
            "100%|██████████| 7/7 [00:04<00:00,  1.69it/s, loss=4.26]"
          ],
          "name": "stderr"
        },
        {
          "output_type": "stream",
          "text": [
            "Mean loss was 6.470903737204416\n",
            "Epoch 279/1000\n"
          ],
          "name": "stdout"
        },
        {
          "output_type": "stream",
          "text": [
            "\n",
            "  0%|          | 0/7 [00:00<?, ?it/s]"
          ],
          "name": "stderr"
        },
        {
          "output_type": "stream",
          "text": [
            "Test mAP: 0.0001520728983450681\n"
          ],
          "name": "stdout"
        },
        {
          "output_type": "stream",
          "text": [
            "100%|██████████| 7/7 [00:04<00:00,  1.69it/s, loss=5.89]"
          ],
          "name": "stderr"
        },
        {
          "output_type": "stream",
          "text": [
            "Mean loss was 6.846745491027832\n",
            "Epoch 280/1000\n"
          ],
          "name": "stdout"
        },
        {
          "output_type": "stream",
          "text": [
            "\n",
            "  0%|          | 0/7 [00:00<?, ?it/s]"
          ],
          "name": "stderr"
        },
        {
          "output_type": "stream",
          "text": [
            "Test mAP: 0.0015871674986556172\n"
          ],
          "name": "stdout"
        },
        {
          "output_type": "stream",
          "text": [
            "100%|██████████| 7/7 [00:04<00:00,  1.72it/s, loss=2.81]"
          ],
          "name": "stderr"
        },
        {
          "output_type": "stream",
          "text": [
            "Mean loss was 6.976360763822283\n",
            "Epoch 281/1000\n"
          ],
          "name": "stdout"
        },
        {
          "output_type": "stream",
          "text": [
            "\n",
            "  0%|          | 0/7 [00:00<?, ?it/s]"
          ],
          "name": "stderr"
        },
        {
          "output_type": "stream",
          "text": [
            "Test mAP: 0.0022152625024318695\n"
          ],
          "name": "stdout"
        },
        {
          "output_type": "stream",
          "text": [
            "100%|██████████| 7/7 [00:04<00:00,  1.70it/s, loss=6.06]"
          ],
          "name": "stderr"
        },
        {
          "output_type": "stream",
          "text": [
            "Mean loss was 6.161078453063965\n",
            "Epoch 282/1000\n"
          ],
          "name": "stdout"
        },
        {
          "output_type": "stream",
          "text": [
            "\n",
            "  0%|          | 0/7 [00:00<?, ?it/s]"
          ],
          "name": "stderr"
        },
        {
          "output_type": "stream",
          "text": [
            "Test mAP: 0.0006085812929086387\n"
          ],
          "name": "stdout"
        },
        {
          "output_type": "stream",
          "text": [
            "100%|██████████| 7/7 [00:04<00:00,  1.61it/s, loss=4]"
          ],
          "name": "stderr"
        },
        {
          "output_type": "stream",
          "text": [
            "Mean loss was 5.368458339146206\n",
            "Epoch 283/1000\n"
          ],
          "name": "stdout"
        },
        {
          "output_type": "stream",
          "text": [
            "\n",
            "  0%|          | 0/7 [00:00<?, ?it/s]"
          ],
          "name": "stderr"
        },
        {
          "output_type": "stream",
          "text": [
            "Test mAP: 0.0019437763839960098\n"
          ],
          "name": "stdout"
        },
        {
          "output_type": "stream",
          "text": [
            "100%|██████████| 7/7 [00:04<00:00,  1.64it/s, loss=2.2]"
          ],
          "name": "stderr"
        },
        {
          "output_type": "stream",
          "text": [
            "Mean loss was 4.865081071853638\n",
            "Epoch 284/1000\n"
          ],
          "name": "stdout"
        },
        {
          "output_type": "stream",
          "text": [
            "\n",
            "  0%|          | 0/7 [00:00<?, ?it/s]"
          ],
          "name": "stderr"
        },
        {
          "output_type": "stream",
          "text": [
            "Test mAP: 0.0014449231093749404\n"
          ],
          "name": "stdout"
        },
        {
          "output_type": "stream",
          "text": [
            "100%|██████████| 7/7 [00:04<00:00,  1.64it/s, loss=1.34]"
          ],
          "name": "stderr"
        },
        {
          "output_type": "stream",
          "text": [
            "Mean loss was 4.734167456626892\n",
            "Epoch 285/1000\n"
          ],
          "name": "stdout"
        },
        {
          "output_type": "stream",
          "text": [
            "\n",
            "  0%|          | 0/7 [00:00<?, ?it/s]"
          ],
          "name": "stderr"
        },
        {
          "output_type": "stream",
          "text": [
            "Test mAP: 0.0011737439781427383\n"
          ],
          "name": "stdout"
        },
        {
          "output_type": "stream",
          "text": [
            "100%|██████████| 7/7 [00:03<00:00,  1.76it/s, loss=3.25]"
          ],
          "name": "stderr"
        },
        {
          "output_type": "stream",
          "text": [
            "Mean loss was 5.014486823763166\n",
            "Epoch 286/1000\n"
          ],
          "name": "stdout"
        },
        {
          "output_type": "stream",
          "text": [
            "\n",
            "  0%|          | 0/7 [00:00<?, ?it/s]"
          ],
          "name": "stderr"
        },
        {
          "output_type": "stream",
          "text": [
            "Test mAP: 0.0004755615082103759\n"
          ],
          "name": "stdout"
        },
        {
          "output_type": "stream",
          "text": [
            "100%|██████████| 7/7 [00:03<00:00,  1.81it/s, loss=2.03]"
          ],
          "name": "stderr"
        },
        {
          "output_type": "stream",
          "text": [
            "Mean loss was 4.388505356652396\n",
            "Epoch 287/1000\n"
          ],
          "name": "stdout"
        },
        {
          "output_type": "stream",
          "text": [
            "\n",
            "  0%|          | 0/7 [00:00<?, ?it/s]"
          ],
          "name": "stderr"
        },
        {
          "output_type": "stream",
          "text": [
            "Test mAP: 0.001286991871893406\n"
          ],
          "name": "stdout"
        },
        {
          "output_type": "stream",
          "text": [
            "100%|██████████| 7/7 [00:04<00:00,  1.65it/s, loss=2.51]"
          ],
          "name": "stderr"
        },
        {
          "output_type": "stream",
          "text": [
            "Mean loss was 3.76330634525844\n",
            "Epoch 288/1000\n"
          ],
          "name": "stdout"
        },
        {
          "output_type": "stream",
          "text": [
            "\n",
            "  0%|          | 0/7 [00:00<?, ?it/s]"
          ],
          "name": "stderr"
        },
        {
          "output_type": "stream",
          "text": [
            "Test mAP: 0.002059056656435132\n"
          ],
          "name": "stdout"
        },
        {
          "output_type": "stream",
          "text": [
            "100%|██████████| 7/7 [00:04<00:00,  1.62it/s, loss=1.95]"
          ],
          "name": "stderr"
        },
        {
          "output_type": "stream",
          "text": [
            "Mean loss was 4.227029289518084\n",
            "Epoch 289/1000\n"
          ],
          "name": "stdout"
        },
        {
          "output_type": "stream",
          "text": [
            "\n",
            "  0%|          | 0/7 [00:00<?, ?it/s]"
          ],
          "name": "stderr"
        },
        {
          "output_type": "stream",
          "text": [
            "Test mAP: 7.309941429411992e-05\n"
          ],
          "name": "stdout"
        },
        {
          "output_type": "stream",
          "text": [
            "100%|██████████| 7/7 [00:04<00:00,  1.62it/s, loss=2.07]"
          ],
          "name": "stderr"
        },
        {
          "output_type": "stream",
          "text": [
            "Mean loss was 3.6588129656655446\n",
            "Epoch 290/1000\n"
          ],
          "name": "stdout"
        },
        {
          "output_type": "stream",
          "text": [
            "\n",
            "  0%|          | 0/7 [00:00<?, ?it/s]"
          ],
          "name": "stderr"
        },
        {
          "output_type": "stream",
          "text": [
            "Test mAP: 0.0006310263415798545\n"
          ],
          "name": "stdout"
        },
        {
          "output_type": "stream",
          "text": [
            "100%|██████████| 7/7 [00:04<00:00,  1.63it/s, loss=2.38]"
          ],
          "name": "stderr"
        },
        {
          "output_type": "stream",
          "text": [
            "Mean loss was 4.339794840131487\n",
            "Epoch 291/1000\n"
          ],
          "name": "stdout"
        },
        {
          "output_type": "stream",
          "text": [
            "\n",
            "  0%|          | 0/7 [00:00<?, ?it/s]"
          ],
          "name": "stderr"
        },
        {
          "output_type": "stream",
          "text": [
            "Test mAP: 0.0013785744085907936\n"
          ],
          "name": "stdout"
        },
        {
          "output_type": "stream",
          "text": [
            "100%|██████████| 7/7 [00:04<00:00,  1.69it/s, loss=5.99]"
          ],
          "name": "stderr"
        },
        {
          "output_type": "stream",
          "text": [
            "Mean loss was 4.454609394073486\n",
            "Epoch 292/1000\n"
          ],
          "name": "stdout"
        },
        {
          "output_type": "stream",
          "text": [
            "\n",
            "  0%|          | 0/7 [00:00<?, ?it/s]"
          ],
          "name": "stderr"
        },
        {
          "output_type": "stream",
          "text": [
            "Test mAP: 0.0006036582635715604\n"
          ],
          "name": "stdout"
        },
        {
          "output_type": "stream",
          "text": [
            "100%|██████████| 7/7 [00:04<00:00,  1.65it/s, loss=2.38]"
          ],
          "name": "stderr"
        },
        {
          "output_type": "stream",
          "text": [
            "Mean loss was 4.516345398766654\n",
            "Epoch 293/1000\n"
          ],
          "name": "stdout"
        },
        {
          "output_type": "stream",
          "text": [
            "\n",
            "  0%|          | 0/7 [00:00<?, ?it/s]"
          ],
          "name": "stderr"
        },
        {
          "output_type": "stream",
          "text": [
            "Test mAP: 0.00037846050690859556\n"
          ],
          "name": "stdout"
        },
        {
          "output_type": "stream",
          "text": [
            "100%|██████████| 7/7 [00:04<00:00,  1.62it/s, loss=2.44]"
          ],
          "name": "stderr"
        },
        {
          "output_type": "stream",
          "text": [
            "Mean loss was 4.835806029183524\n",
            "Epoch 294/1000\n"
          ],
          "name": "stdout"
        },
        {
          "output_type": "stream",
          "text": [
            "\n",
            "  0%|          | 0/7 [00:00<?, ?it/s]"
          ],
          "name": "stderr"
        },
        {
          "output_type": "stream",
          "text": [
            "Test mAP: 0.0007392973056994379\n"
          ],
          "name": "stdout"
        },
        {
          "output_type": "stream",
          "text": [
            "100%|██████████| 7/7 [00:04<00:00,  1.69it/s, loss=3.23]"
          ],
          "name": "stderr"
        },
        {
          "output_type": "stream",
          "text": [
            "Mean loss was 4.179436956133161\n",
            "Epoch 295/1000\n"
          ],
          "name": "stdout"
        },
        {
          "output_type": "stream",
          "text": [
            "\n",
            "  0%|          | 0/7 [00:00<?, ?it/s]"
          ],
          "name": "stderr"
        },
        {
          "output_type": "stream",
          "text": [
            "Test mAP: 0.001086380798369646\n"
          ],
          "name": "stdout"
        },
        {
          "output_type": "stream",
          "text": [
            "100%|██████████| 7/7 [00:04<00:00,  1.68it/s, loss=4.02]"
          ],
          "name": "stderr"
        },
        {
          "output_type": "stream",
          "text": [
            "Mean loss was 4.106768437794277\n",
            "Epoch 296/1000\n"
          ],
          "name": "stdout"
        },
        {
          "output_type": "stream",
          "text": [
            "\n",
            "  0%|          | 0/7 [00:00<?, ?it/s]"
          ],
          "name": "stderr"
        },
        {
          "output_type": "stream",
          "text": [
            "Test mAP: 0.0006681857630610466\n"
          ],
          "name": "stdout"
        },
        {
          "output_type": "stream",
          "text": [
            "100%|██████████| 7/7 [00:04<00:00,  1.66it/s, loss=2.09]"
          ],
          "name": "stderr"
        },
        {
          "output_type": "stream",
          "text": [
            "Mean loss was 3.6290364606039867\n",
            "Epoch 297/1000\n"
          ],
          "name": "stdout"
        },
        {
          "output_type": "stream",
          "text": [
            "\n",
            "  0%|          | 0/7 [00:00<?, ?it/s]"
          ],
          "name": "stderr"
        },
        {
          "output_type": "stream",
          "text": [
            "Test mAP: 0.0010009141406044364\n"
          ],
          "name": "stdout"
        },
        {
          "output_type": "stream",
          "text": [
            "100%|██████████| 7/7 [00:04<00:00,  1.57it/s, loss=2.19]"
          ],
          "name": "stderr"
        },
        {
          "output_type": "stream",
          "text": [
            "Mean loss was 3.896254471370152\n",
            "Epoch 298/1000\n"
          ],
          "name": "stdout"
        },
        {
          "output_type": "stream",
          "text": [
            "\n",
            "  0%|          | 0/7 [00:00<?, ?it/s]"
          ],
          "name": "stderr"
        },
        {
          "output_type": "stream",
          "text": [
            "Test mAP: 0.0016492302529513836\n"
          ],
          "name": "stdout"
        },
        {
          "output_type": "stream",
          "text": [
            "100%|██████████| 7/7 [00:04<00:00,  1.60it/s, loss=2.22]"
          ],
          "name": "stderr"
        },
        {
          "output_type": "stream",
          "text": [
            "Mean loss was 3.169910022190639\n",
            "Epoch 299/1000\n"
          ],
          "name": "stdout"
        },
        {
          "output_type": "stream",
          "text": [
            "\n",
            "  0%|          | 0/7 [00:00<?, ?it/s]"
          ],
          "name": "stderr"
        },
        {
          "output_type": "stream",
          "text": [
            "Test mAP: 0.0009053226094692945\n"
          ],
          "name": "stdout"
        },
        {
          "output_type": "stream",
          "text": [
            "100%|██████████| 7/7 [00:04<00:00,  1.66it/s, loss=4.88]"
          ],
          "name": "stderr"
        },
        {
          "output_type": "stream",
          "text": [
            "Mean loss was 3.787022522517613\n",
            "Epoch 300/1000\n"
          ],
          "name": "stdout"
        },
        {
          "output_type": "stream",
          "text": [
            "\n",
            "  0%|          | 0/7 [00:00<?, ?it/s]"
          ],
          "name": "stderr"
        },
        {
          "output_type": "stream",
          "text": [
            "Test mAP: 0.0004320379230193794\n"
          ],
          "name": "stdout"
        },
        {
          "output_type": "stream",
          "text": [
            "100%|██████████| 7/7 [00:04<00:00,  1.73it/s, loss=3.68]"
          ],
          "name": "stderr"
        },
        {
          "output_type": "stream",
          "text": [
            "Mean loss was 4.523580585207258\n",
            "Epoch 301/1000\n"
          ],
          "name": "stdout"
        },
        {
          "output_type": "stream",
          "text": [
            "\n"
          ],
          "name": "stderr"
        },
        {
          "output_type": "stream",
          "text": [
            "Test mAP: 0.0005323410732671618\n",
            "=> Saving checkpoint\n"
          ],
          "name": "stdout"
        },
        {
          "output_type": "stream",
          "text": [
            "100%|██████████| 7/7 [00:04<00:00,  1.66it/s, loss=3.68]"
          ],
          "name": "stderr"
        },
        {
          "output_type": "stream",
          "text": [
            "Mean loss was 3.983628136771066\n",
            "Epoch 302/1000\n"
          ],
          "name": "stdout"
        },
        {
          "output_type": "stream",
          "text": [
            "\n",
            "  0%|          | 0/7 [00:00<?, ?it/s]"
          ],
          "name": "stderr"
        },
        {
          "output_type": "stream",
          "text": [
            "Test mAP: 0.001887807622551918\n"
          ],
          "name": "stdout"
        },
        {
          "output_type": "stream",
          "text": [
            "100%|██████████| 7/7 [00:04<00:00,  1.58it/s, loss=5.29]"
          ],
          "name": "stderr"
        },
        {
          "output_type": "stream",
          "text": [
            "Mean loss was 4.113998821803501\n",
            "Epoch 303/1000\n"
          ],
          "name": "stdout"
        },
        {
          "output_type": "stream",
          "text": [
            "\n",
            "  0%|          | 0/7 [00:00<?, ?it/s]"
          ],
          "name": "stderr"
        },
        {
          "output_type": "stream",
          "text": [
            "Test mAP: 0.0004458302864804864\n"
          ],
          "name": "stdout"
        },
        {
          "output_type": "stream",
          "text": [
            "100%|██████████| 7/7 [00:04<00:00,  1.67it/s, loss=1.59]"
          ],
          "name": "stderr"
        },
        {
          "output_type": "stream",
          "text": [
            "Mean loss was 3.596484507833208\n",
            "Epoch 304/1000\n"
          ],
          "name": "stdout"
        },
        {
          "output_type": "stream",
          "text": [
            "\n",
            "  0%|          | 0/7 [00:00<?, ?it/s]"
          ],
          "name": "stderr"
        },
        {
          "output_type": "stream",
          "text": [
            "Test mAP: 0.001455753343179822\n"
          ],
          "name": "stdout"
        },
        {
          "output_type": "stream",
          "text": [
            "100%|██████████| 7/7 [00:04<00:00,  1.61it/s, loss=2.81]"
          ],
          "name": "stderr"
        },
        {
          "output_type": "stream",
          "text": [
            "Mean loss was 3.874866247177124\n",
            "Epoch 305/1000\n"
          ],
          "name": "stdout"
        },
        {
          "output_type": "stream",
          "text": [
            "\n",
            "  0%|          | 0/7 [00:00<?, ?it/s]"
          ],
          "name": "stderr"
        },
        {
          "output_type": "stream",
          "text": [
            "Test mAP: 0.0006230693543329835\n"
          ],
          "name": "stdout"
        },
        {
          "output_type": "stream",
          "text": [
            "100%|██████████| 7/7 [00:04<00:00,  1.66it/s, loss=3.88]"
          ],
          "name": "stderr"
        },
        {
          "output_type": "stream",
          "text": [
            "Mean loss was 3.5257236616952077\n",
            "Epoch 306/1000\n"
          ],
          "name": "stdout"
        },
        {
          "output_type": "stream",
          "text": [
            "\n",
            "  0%|          | 0/7 [00:00<?, ?it/s]"
          ],
          "name": "stderr"
        },
        {
          "output_type": "stream",
          "text": [
            "Test mAP: 0.0015522154280915856\n"
          ],
          "name": "stdout"
        },
        {
          "output_type": "stream",
          "text": [
            "100%|██████████| 7/7 [00:04<00:00,  1.58it/s, loss=2.17]"
          ],
          "name": "stderr"
        },
        {
          "output_type": "stream",
          "text": [
            "Mean loss was 3.3265087604522705\n",
            "Epoch 307/1000\n"
          ],
          "name": "stdout"
        },
        {
          "output_type": "stream",
          "text": [
            "\n",
            "  0%|          | 0/7 [00:00<?, ?it/s]"
          ],
          "name": "stderr"
        },
        {
          "output_type": "stream",
          "text": [
            "Test mAP: 0.0008313193684443831\n"
          ],
          "name": "stdout"
        },
        {
          "output_type": "stream",
          "text": [
            "100%|██████████| 7/7 [00:04<00:00,  1.65it/s, loss=1.53]"
          ],
          "name": "stderr"
        },
        {
          "output_type": "stream",
          "text": [
            "Mean loss was 3.223268304552351\n",
            "Epoch 308/1000\n"
          ],
          "name": "stdout"
        },
        {
          "output_type": "stream",
          "text": [
            "\n",
            "  0%|          | 0/7 [00:00<?, ?it/s]"
          ],
          "name": "stderr"
        },
        {
          "output_type": "stream",
          "text": [
            "Test mAP: 0.0009977399604395032\n"
          ],
          "name": "stdout"
        },
        {
          "output_type": "stream",
          "text": [
            "100%|██████████| 7/7 [00:04<00:00,  1.56it/s, loss=1.72]"
          ],
          "name": "stderr"
        },
        {
          "output_type": "stream",
          "text": [
            "Mean loss was 3.170737760407584\n",
            "Epoch 309/1000\n"
          ],
          "name": "stdout"
        },
        {
          "output_type": "stream",
          "text": [
            "\n",
            "  0%|          | 0/7 [00:00<?, ?it/s]"
          ],
          "name": "stderr"
        },
        {
          "output_type": "stream",
          "text": [
            "Test mAP: 0.0012318998342379928\n"
          ],
          "name": "stdout"
        },
        {
          "output_type": "stream",
          "text": [
            "100%|██████████| 7/7 [00:04<00:00,  1.63it/s, loss=2.06]"
          ],
          "name": "stderr"
        },
        {
          "output_type": "stream",
          "text": [
            "Mean loss was 3.1103361334119524\n",
            "Epoch 310/1000\n"
          ],
          "name": "stdout"
        },
        {
          "output_type": "stream",
          "text": [
            "\n",
            "  0%|          | 0/7 [00:00<?, ?it/s]"
          ],
          "name": "stderr"
        },
        {
          "output_type": "stream",
          "text": [
            "Test mAP: 0.001154289348050952\n"
          ],
          "name": "stdout"
        },
        {
          "output_type": "stream",
          "text": [
            "100%|██████████| 7/7 [00:04<00:00,  1.56it/s, loss=8.81]"
          ],
          "name": "stderr"
        },
        {
          "output_type": "stream",
          "text": [
            "Mean loss was 4.167860337666103\n",
            "Epoch 311/1000\n"
          ],
          "name": "stdout"
        },
        {
          "output_type": "stream",
          "text": [
            "\n",
            "  0%|          | 0/7 [00:00<?, ?it/s]"
          ],
          "name": "stderr"
        },
        {
          "output_type": "stream",
          "text": [
            "Test mAP: 0.0017127180472016335\n"
          ],
          "name": "stdout"
        },
        {
          "output_type": "stream",
          "text": [
            "100%|██████████| 7/7 [00:04<00:00,  1.71it/s, loss=2.6]"
          ],
          "name": "stderr"
        },
        {
          "output_type": "stream",
          "text": [
            "Mean loss was 4.64405083656311\n",
            "Epoch 312/1000\n"
          ],
          "name": "stdout"
        },
        {
          "output_type": "stream",
          "text": [
            "\n",
            "  0%|          | 0/7 [00:00<?, ?it/s]"
          ],
          "name": "stderr"
        },
        {
          "output_type": "stream",
          "text": [
            "Test mAP: 0.0017454491462558508\n"
          ],
          "name": "stdout"
        },
        {
          "output_type": "stream",
          "text": [
            "100%|██████████| 7/7 [00:04<00:00,  1.72it/s, loss=3.25]"
          ],
          "name": "stderr"
        },
        {
          "output_type": "stream",
          "text": [
            "Mean loss was 3.841062988553728\n",
            "Epoch 313/1000\n"
          ],
          "name": "stdout"
        },
        {
          "output_type": "stream",
          "text": [
            "\n",
            "  0%|          | 0/7 [00:00<?, ?it/s]"
          ],
          "name": "stderr"
        },
        {
          "output_type": "stream",
          "text": [
            "Test mAP: 0.00018085855117533356\n"
          ],
          "name": "stdout"
        },
        {
          "output_type": "stream",
          "text": [
            "100%|██████████| 7/7 [00:04<00:00,  1.64it/s, loss=1.4]"
          ],
          "name": "stderr"
        },
        {
          "output_type": "stream",
          "text": [
            "Mean loss was 4.156852058001927\n",
            "Epoch 314/1000\n"
          ],
          "name": "stdout"
        },
        {
          "output_type": "stream",
          "text": [
            "\n",
            "  0%|          | 0/7 [00:00<?, ?it/s]"
          ],
          "name": "stderr"
        },
        {
          "output_type": "stream",
          "text": [
            "Test mAP: 0.0017416882328689098\n"
          ],
          "name": "stdout"
        },
        {
          "output_type": "stream",
          "text": [
            "100%|██████████| 7/7 [00:03<00:00,  1.76it/s, loss=4.08]"
          ],
          "name": "stderr"
        },
        {
          "output_type": "stream",
          "text": [
            "Mean loss was 3.545558827263968\n",
            "Epoch 315/1000\n"
          ],
          "name": "stdout"
        },
        {
          "output_type": "stream",
          "text": [
            "\n",
            "  0%|          | 0/7 [00:00<?, ?it/s]"
          ],
          "name": "stderr"
        },
        {
          "output_type": "stream",
          "text": [
            "Test mAP: 0.0005686866934411228\n"
          ],
          "name": "stdout"
        },
        {
          "output_type": "stream",
          "text": [
            "100%|██████████| 7/7 [00:04<00:00,  1.65it/s, loss=2.16]"
          ],
          "name": "stderr"
        },
        {
          "output_type": "stream",
          "text": [
            "Mean loss was 3.507077319281442\n",
            "Epoch 316/1000\n"
          ],
          "name": "stdout"
        },
        {
          "output_type": "stream",
          "text": [
            "\n",
            "  0%|          | 0/7 [00:00<?, ?it/s]"
          ],
          "name": "stderr"
        },
        {
          "output_type": "stream",
          "text": [
            "Test mAP: 0.0010570527520030737\n"
          ],
          "name": "stdout"
        },
        {
          "output_type": "stream",
          "text": [
            "100%|██████████| 7/7 [00:04<00:00,  1.66it/s, loss=2.1]"
          ],
          "name": "stderr"
        },
        {
          "output_type": "stream",
          "text": [
            "Mean loss was 3.7919231823512485\n",
            "Epoch 317/1000\n"
          ],
          "name": "stdout"
        },
        {
          "output_type": "stream",
          "text": [
            "\n",
            "  0%|          | 0/7 [00:00<?, ?it/s]"
          ],
          "name": "stderr"
        },
        {
          "output_type": "stream",
          "text": [
            "Test mAP: 0.001440861844457686\n"
          ],
          "name": "stdout"
        },
        {
          "output_type": "stream",
          "text": [
            "100%|██████████| 7/7 [00:04<00:00,  1.74it/s, loss=3.01]"
          ],
          "name": "stderr"
        },
        {
          "output_type": "stream",
          "text": [
            "Mean loss was 3.8930609226226807\n",
            "Epoch 318/1000\n"
          ],
          "name": "stdout"
        },
        {
          "output_type": "stream",
          "text": [
            "\n",
            "  0%|          | 0/7 [00:00<?, ?it/s]"
          ],
          "name": "stderr"
        },
        {
          "output_type": "stream",
          "text": [
            "Test mAP: 0.0023233192041516304\n"
          ],
          "name": "stdout"
        },
        {
          "output_type": "stream",
          "text": [
            "100%|██████████| 7/7 [00:04<00:00,  1.60it/s, loss=1.75]"
          ],
          "name": "stderr"
        },
        {
          "output_type": "stream",
          "text": [
            "Mean loss was 3.5794544219970703\n",
            "Epoch 319/1000\n"
          ],
          "name": "stdout"
        },
        {
          "output_type": "stream",
          "text": [
            "\n",
            "  0%|          | 0/7 [00:00<?, ?it/s]"
          ],
          "name": "stderr"
        },
        {
          "output_type": "stream",
          "text": [
            "Test mAP: 0.0010826122015714645\n"
          ],
          "name": "stdout"
        },
        {
          "output_type": "stream",
          "text": [
            "100%|██████████| 7/7 [00:04<00:00,  1.60it/s, loss=1.95]"
          ],
          "name": "stderr"
        },
        {
          "output_type": "stream",
          "text": [
            "Mean loss was 4.053752626691546\n",
            "Epoch 320/1000\n"
          ],
          "name": "stdout"
        },
        {
          "output_type": "stream",
          "text": [
            "\n",
            "  0%|          | 0/7 [00:00<?, ?it/s]"
          ],
          "name": "stderr"
        },
        {
          "output_type": "stream",
          "text": [
            "Test mAP: 0.0019375566625967622\n"
          ],
          "name": "stdout"
        },
        {
          "output_type": "stream",
          "text": [
            "100%|██████████| 7/7 [00:03<00:00,  1.75it/s, loss=3.56]"
          ],
          "name": "stderr"
        },
        {
          "output_type": "stream",
          "text": [
            "Mean loss was 4.143403019223895\n",
            "Epoch 321/1000\n"
          ],
          "name": "stdout"
        },
        {
          "output_type": "stream",
          "text": [
            "\n",
            "  0%|          | 0/7 [00:00<?, ?it/s]"
          ],
          "name": "stderr"
        },
        {
          "output_type": "stream",
          "text": [
            "Test mAP: 0.00129641592502594\n"
          ],
          "name": "stdout"
        },
        {
          "output_type": "stream",
          "text": [
            "100%|██████████| 7/7 [00:04<00:00,  1.62it/s, loss=1.32]"
          ],
          "name": "stderr"
        },
        {
          "output_type": "stream",
          "text": [
            "Mean loss was 4.06945196219853\n",
            "Epoch 322/1000\n"
          ],
          "name": "stdout"
        },
        {
          "output_type": "stream",
          "text": [
            "\n",
            "  0%|          | 0/7 [00:00<?, ?it/s]"
          ],
          "name": "stderr"
        },
        {
          "output_type": "stream",
          "text": [
            "Test mAP: 0.0021381089463829994\n"
          ],
          "name": "stdout"
        },
        {
          "output_type": "stream",
          "text": [
            "100%|██████████| 7/7 [00:04<00:00,  1.64it/s, loss=1.59]"
          ],
          "name": "stderr"
        },
        {
          "output_type": "stream",
          "text": [
            "Mean loss was 3.99720869745527\n",
            "Epoch 323/1000\n"
          ],
          "name": "stdout"
        },
        {
          "output_type": "stream",
          "text": [
            "\n",
            "  0%|          | 0/7 [00:00<?, ?it/s]"
          ],
          "name": "stderr"
        },
        {
          "output_type": "stream",
          "text": [
            "Test mAP: 0.0010112808085978031\n"
          ],
          "name": "stdout"
        },
        {
          "output_type": "stream",
          "text": [
            "100%|██████████| 7/7 [00:03<00:00,  1.77it/s, loss=1.81]"
          ],
          "name": "stderr"
        },
        {
          "output_type": "stream",
          "text": [
            "Mean loss was 3.8077587400163924\n",
            "Epoch 324/1000\n"
          ],
          "name": "stdout"
        },
        {
          "output_type": "stream",
          "text": [
            "\n",
            "  0%|          | 0/7 [00:00<?, ?it/s]"
          ],
          "name": "stderr"
        },
        {
          "output_type": "stream",
          "text": [
            "Test mAP: 0.0020649107173085213\n"
          ],
          "name": "stdout"
        },
        {
          "output_type": "stream",
          "text": [
            "100%|██████████| 7/7 [00:04<00:00,  1.73it/s, loss=1.84]"
          ],
          "name": "stderr"
        },
        {
          "output_type": "stream",
          "text": [
            "Mean loss was 4.083306550979614\n",
            "Epoch 325/1000\n"
          ],
          "name": "stdout"
        },
        {
          "output_type": "stream",
          "text": [
            "\n",
            "  0%|          | 0/7 [00:00<?, ?it/s]"
          ],
          "name": "stderr"
        },
        {
          "output_type": "stream",
          "text": [
            "Test mAP: 0.0016491134883835912\n"
          ],
          "name": "stdout"
        },
        {
          "output_type": "stream",
          "text": [
            "100%|██████████| 7/7 [00:04<00:00,  1.69it/s, loss=1.82]"
          ],
          "name": "stderr"
        },
        {
          "output_type": "stream",
          "text": [
            "Mean loss was 3.61428359576634\n",
            "Epoch 326/1000\n"
          ],
          "name": "stdout"
        },
        {
          "output_type": "stream",
          "text": [
            "\n",
            "  0%|          | 0/7 [00:00<?, ?it/s]"
          ],
          "name": "stderr"
        },
        {
          "output_type": "stream",
          "text": [
            "Test mAP: 0.0013629235327243805\n"
          ],
          "name": "stdout"
        },
        {
          "output_type": "stream",
          "text": [
            "100%|██████████| 7/7 [00:04<00:00,  1.69it/s, loss=1.74]"
          ],
          "name": "stderr"
        },
        {
          "output_type": "stream",
          "text": [
            "Mean loss was 4.435116733823504\n",
            "Epoch 327/1000\n"
          ],
          "name": "stdout"
        },
        {
          "output_type": "stream",
          "text": [
            "\n",
            "  0%|          | 0/7 [00:00<?, ?it/s]"
          ],
          "name": "stderr"
        },
        {
          "output_type": "stream",
          "text": [
            "Test mAP: 0.0010826698271557689\n"
          ],
          "name": "stdout"
        },
        {
          "output_type": "stream",
          "text": [
            "100%|██████████| 7/7 [00:04<00:00,  1.69it/s, loss=3.26]"
          ],
          "name": "stderr"
        },
        {
          "output_type": "stream",
          "text": [
            "Mean loss was 5.211218970162528\n",
            "Epoch 328/1000\n"
          ],
          "name": "stdout"
        },
        {
          "output_type": "stream",
          "text": [
            "\n",
            "  0%|          | 0/7 [00:00<?, ?it/s]"
          ],
          "name": "stderr"
        },
        {
          "output_type": "stream",
          "text": [
            "Test mAP: 0.0028777625411748886\n"
          ],
          "name": "stdout"
        },
        {
          "output_type": "stream",
          "text": [
            "100%|██████████| 7/7 [00:04<00:00,  1.68it/s, loss=2.73]"
          ],
          "name": "stderr"
        },
        {
          "output_type": "stream",
          "text": [
            "Mean loss was 5.7071646962847025\n",
            "Epoch 329/1000\n"
          ],
          "name": "stdout"
        },
        {
          "output_type": "stream",
          "text": [
            "\n",
            "  0%|          | 0/7 [00:00<?, ?it/s]"
          ],
          "name": "stderr"
        },
        {
          "output_type": "stream",
          "text": [
            "Test mAP: 0.006340701598674059\n"
          ],
          "name": "stdout"
        },
        {
          "output_type": "stream",
          "text": [
            "100%|██████████| 7/7 [00:04<00:00,  1.73it/s, loss=8.76]"
          ],
          "name": "stderr"
        },
        {
          "output_type": "stream",
          "text": [
            "Mean loss was 6.608539751597813\n",
            "Epoch 330/1000\n"
          ],
          "name": "stdout"
        },
        {
          "output_type": "stream",
          "text": [
            "\n",
            "  0%|          | 0/7 [00:00<?, ?it/s]"
          ],
          "name": "stderr"
        },
        {
          "output_type": "stream",
          "text": [
            "Test mAP: 0.0037831414956599474\n"
          ],
          "name": "stdout"
        },
        {
          "output_type": "stream",
          "text": [
            "100%|██████████| 7/7 [00:04<00:00,  1.63it/s, loss=3.19]"
          ],
          "name": "stderr"
        },
        {
          "output_type": "stream",
          "text": [
            "Mean loss was 8.761928898947579\n",
            "Epoch 331/1000\n"
          ],
          "name": "stdout"
        },
        {
          "output_type": "stream",
          "text": [
            "\n",
            "  0%|          | 0/7 [00:00<?, ?it/s]"
          ],
          "name": "stderr"
        },
        {
          "output_type": "stream",
          "text": [
            "Test mAP: 0.0002951339993160218\n"
          ],
          "name": "stdout"
        },
        {
          "output_type": "stream",
          "text": [
            "100%|██████████| 7/7 [00:04<00:00,  1.71it/s, loss=4.21]"
          ],
          "name": "stderr"
        },
        {
          "output_type": "stream",
          "text": [
            "Mean loss was 7.8900211197989325\n",
            "Epoch 332/1000\n"
          ],
          "name": "stdout"
        },
        {
          "output_type": "stream",
          "text": [
            "\n",
            "  0%|          | 0/7 [00:00<?, ?it/s]"
          ],
          "name": "stderr"
        },
        {
          "output_type": "stream",
          "text": [
            "Test mAP: 0.002402312122285366\n"
          ],
          "name": "stdout"
        },
        {
          "output_type": "stream",
          "text": [
            "100%|██████████| 7/7 [00:04<00:00,  1.66it/s, loss=2.03]"
          ],
          "name": "stderr"
        },
        {
          "output_type": "stream",
          "text": [
            "Mean loss was 8.331258841923304\n",
            "Epoch 333/1000\n"
          ],
          "name": "stdout"
        },
        {
          "output_type": "stream",
          "text": [
            "\n",
            "  0%|          | 0/7 [00:00<?, ?it/s]"
          ],
          "name": "stderr"
        },
        {
          "output_type": "stream",
          "text": [
            "Test mAP: 7.074137101881206e-05\n"
          ],
          "name": "stdout"
        },
        {
          "output_type": "stream",
          "text": [
            "100%|██████████| 7/7 [00:04<00:00,  1.72it/s, loss=3.39]"
          ],
          "name": "stderr"
        },
        {
          "output_type": "stream",
          "text": [
            "Mean loss was 8.294787509100777\n",
            "Epoch 334/1000\n"
          ],
          "name": "stdout"
        },
        {
          "output_type": "stream",
          "text": [
            "\n",
            "  0%|          | 0/7 [00:00<?, ?it/s]"
          ],
          "name": "stderr"
        },
        {
          "output_type": "stream",
          "text": [
            "Test mAP: 5.771006544819102e-05\n"
          ],
          "name": "stdout"
        },
        {
          "output_type": "stream",
          "text": [
            "100%|██████████| 7/7 [00:04<00:00,  1.63it/s, loss=4.67]"
          ],
          "name": "stderr"
        },
        {
          "output_type": "stream",
          "text": [
            "Mean loss was 6.859908921378\n",
            "Epoch 335/1000\n"
          ],
          "name": "stdout"
        },
        {
          "output_type": "stream",
          "text": [
            "\n",
            "  0%|          | 0/7 [00:00<?, ?it/s]"
          ],
          "name": "stderr"
        },
        {
          "output_type": "stream",
          "text": [
            "Test mAP: 0.00047916261246427894\n"
          ],
          "name": "stdout"
        },
        {
          "output_type": "stream",
          "text": [
            "100%|██████████| 7/7 [00:04<00:00,  1.66it/s, loss=6.89]"
          ],
          "name": "stderr"
        },
        {
          "output_type": "stream",
          "text": [
            "Mean loss was 6.275398799351284\n",
            "Epoch 336/1000\n"
          ],
          "name": "stdout"
        },
        {
          "output_type": "stream",
          "text": [
            "\n",
            "  0%|          | 0/7 [00:00<?, ?it/s]"
          ],
          "name": "stderr"
        },
        {
          "output_type": "stream",
          "text": [
            "Test mAP: 0.00641324557363987\n"
          ],
          "name": "stdout"
        },
        {
          "output_type": "stream",
          "text": [
            "100%|██████████| 7/7 [00:04<00:00,  1.63it/s, loss=6.14]"
          ],
          "name": "stderr"
        },
        {
          "output_type": "stream",
          "text": [
            "Mean loss was 5.851590088435581\n",
            "Epoch 337/1000\n"
          ],
          "name": "stdout"
        },
        {
          "output_type": "stream",
          "text": [
            "\n",
            "  0%|          | 0/7 [00:00<?, ?it/s]"
          ],
          "name": "stderr"
        },
        {
          "output_type": "stream",
          "text": [
            "Test mAP: 0.0015112352557480335\n"
          ],
          "name": "stdout"
        },
        {
          "output_type": "stream",
          "text": [
            "100%|██████████| 7/7 [00:04<00:00,  1.60it/s, loss=2.77]"
          ],
          "name": "stderr"
        },
        {
          "output_type": "stream",
          "text": [
            "Mean loss was 5.499259812491281\n",
            "Epoch 338/1000\n"
          ],
          "name": "stdout"
        },
        {
          "output_type": "stream",
          "text": [
            "\n",
            "  0%|          | 0/7 [00:00<?, ?it/s]"
          ],
          "name": "stderr"
        },
        {
          "output_type": "stream",
          "text": [
            "Test mAP: 0.002088038017973304\n"
          ],
          "name": "stdout"
        },
        {
          "output_type": "stream",
          "text": [
            "100%|██████████| 7/7 [00:04<00:00,  1.58it/s, loss=5.2]"
          ],
          "name": "stderr"
        },
        {
          "output_type": "stream",
          "text": [
            "Mean loss was 5.70199990272522\n",
            "Epoch 339/1000\n"
          ],
          "name": "stdout"
        },
        {
          "output_type": "stream",
          "text": [
            "\n",
            "  0%|          | 0/7 [00:00<?, ?it/s]"
          ],
          "name": "stderr"
        },
        {
          "output_type": "stream",
          "text": [
            "Test mAP: 0.0016494363080710173\n"
          ],
          "name": "stdout"
        },
        {
          "output_type": "stream",
          "text": [
            "100%|██████████| 7/7 [00:04<00:00,  1.62it/s, loss=2.94]"
          ],
          "name": "stderr"
        },
        {
          "output_type": "stream",
          "text": [
            "Mean loss was 4.887056657246181\n",
            "Epoch 340/1000\n"
          ],
          "name": "stdout"
        },
        {
          "output_type": "stream",
          "text": [
            "\n",
            "  0%|          | 0/7 [00:00<?, ?it/s]"
          ],
          "name": "stderr"
        },
        {
          "output_type": "stream",
          "text": [
            "Test mAP: 0.001333227613940835\n"
          ],
          "name": "stdout"
        },
        {
          "output_type": "stream",
          "text": [
            "100%|██████████| 7/7 [00:04<00:00,  1.71it/s, loss=4.15]"
          ],
          "name": "stderr"
        },
        {
          "output_type": "stream",
          "text": [
            "Mean loss was 4.753679275512695\n",
            "Epoch 341/1000\n"
          ],
          "name": "stdout"
        },
        {
          "output_type": "stream",
          "text": [
            "\n",
            "  0%|          | 0/7 [00:00<?, ?it/s]"
          ],
          "name": "stderr"
        },
        {
          "output_type": "stream",
          "text": [
            "Test mAP: 0.006392715964466333\n"
          ],
          "name": "stdout"
        },
        {
          "output_type": "stream",
          "text": [
            "100%|██████████| 7/7 [00:04<00:00,  1.63it/s, loss=2.66]"
          ],
          "name": "stderr"
        },
        {
          "output_type": "stream",
          "text": [
            "Mean loss was 4.702998229435512\n",
            "Epoch 342/1000\n"
          ],
          "name": "stdout"
        },
        {
          "output_type": "stream",
          "text": [
            "\n",
            "  0%|          | 0/7 [00:00<?, ?it/s]"
          ],
          "name": "stderr"
        },
        {
          "output_type": "stream",
          "text": [
            "Test mAP: 0.0012529708910733461\n"
          ],
          "name": "stdout"
        },
        {
          "output_type": "stream",
          "text": [
            "100%|██████████| 7/7 [00:04<00:00,  1.64it/s, loss=3.61]"
          ],
          "name": "stderr"
        },
        {
          "output_type": "stream",
          "text": [
            "Mean loss was 5.614234788077218\n",
            "Epoch 343/1000\n"
          ],
          "name": "stdout"
        },
        {
          "output_type": "stream",
          "text": [
            "\n",
            "  0%|          | 0/7 [00:00<?, ?it/s]"
          ],
          "name": "stderr"
        },
        {
          "output_type": "stream",
          "text": [
            "Test mAP: 0.001156482147052884\n"
          ],
          "name": "stdout"
        },
        {
          "output_type": "stream",
          "text": [
            "100%|██████████| 7/7 [00:04<00:00,  1.62it/s, loss=2.43]"
          ],
          "name": "stderr"
        },
        {
          "output_type": "stream",
          "text": [
            "Mean loss was 4.522736549377441\n",
            "Epoch 344/1000\n"
          ],
          "name": "stdout"
        },
        {
          "output_type": "stream",
          "text": [
            "\n",
            "  0%|          | 0/7 [00:00<?, ?it/s]"
          ],
          "name": "stderr"
        },
        {
          "output_type": "stream",
          "text": [
            "Test mAP: 0.002742466516792774\n"
          ],
          "name": "stdout"
        },
        {
          "output_type": "stream",
          "text": [
            "100%|██████████| 7/7 [00:04<00:00,  1.67it/s, loss=5.4]"
          ],
          "name": "stderr"
        },
        {
          "output_type": "stream",
          "text": [
            "Mean loss was 4.7687035628727505\n",
            "Epoch 345/1000\n"
          ],
          "name": "stdout"
        },
        {
          "output_type": "stream",
          "text": [
            "\n",
            "  0%|          | 0/7 [00:00<?, ?it/s]"
          ],
          "name": "stderr"
        },
        {
          "output_type": "stream",
          "text": [
            "Test mAP: 0.0010287233162671328\n"
          ],
          "name": "stdout"
        },
        {
          "output_type": "stream",
          "text": [
            " 14%|█▍        | 1/7 [00:01<00:07,  1.22s/it, loss=6.73]"
          ],
          "name": "stderr"
        }
      ]
    },
    {
      "cell_type": "code",
      "metadata": {
        "id": "vRWtaRw6Tn8a"
      },
      "source": [
        "%mv  /content/drive/MyDrive/snapshots/300_checkpoint.pth.tar /content/valid"
      ],
      "execution_count": null,
      "outputs": []
    },
    {
      "cell_type": "markdown",
      "metadata": {
        "id": "ocTgCyG4bKfj"
      },
      "source": [
        "**Evaluation**"
      ]
    },
    {
      "cell_type": "code",
      "metadata": {
        "colab": {
          "base_uri": "https://localhost:8080/",
          "height": 35
        },
        "id": "JkjL5bz8bPw7",
        "outputId": "b46dbfd1-9e17-4e4f-e594-30f080d390d9"
      },
      "source": [
        "pwd"
      ],
      "execution_count": null,
      "outputs": [
        {
          "output_type": "execute_result",
          "data": {
            "application/vnd.google.colaboratory.intrinsic+json": {
              "type": "string"
            },
            "text/plain": [
              "'/content/valid'"
            ]
          },
          "metadata": {
            "tags": []
          },
          "execution_count": 21
        }
      ]
    },
    {
      "cell_type": "code",
      "metadata": {
        "id": "sTk9tbWLd-_0"
      },
      "source": [
        ""
      ],
      "execution_count": null,
      "outputs": []
    }
  ]
}